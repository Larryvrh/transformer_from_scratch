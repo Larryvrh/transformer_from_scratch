{
 "cells": [
  {
   "cell_type": "code",
   "execution_count": 104,
   "id": "initial_id",
   "metadata": {
    "collapsed": true,
    "ExecuteTime": {
     "end_time": "2023-10-21T20:58:47.752818040Z",
     "start_time": "2023-10-21T20:58:47.702932112Z"
    }
   },
   "outputs": [],
   "source": [
    "import numpy as np\n",
    "import torch\n",
    "from torch.utils.data import IterableDataset\n",
    "from typing import *\n",
    "import struct\n",
    "from functools import reduce"
   ]
  },
  {
   "cell_type": "code",
   "execution_count": 116,
   "outputs": [
    {
     "name": "stdout",
     "output_type": "stream",
     "text": [
      "[1 2 3 4 5 6] (2, 3) [[1 2 3]\n",
      " [4 5 6]]\n"
     ]
    }
   ],
   "source": [
    "class DatasetWriter:\n",
    "    def __init__(self, map_file: str, fields: Dict[str, np.dtype]):\n",
    "        self.file_handle = open(map_file, 'wb')\n",
    "        self.fields = list(fields.items())\n",
    "        self.fields.sort()\n",
    "        self.entry_count = 0\n",
    "        self.file_handle.write(self.get_header())\n",
    "\n",
    "    @staticmethod\n",
    "    def dtype_to_id(dtype: np.dtype):\n",
    "        dtypes = [np.uint8, np.int8, np.uint16, np.int16, np.uint32, np.int32, np.uint64, np.int64, np.float16, np.float32, np.float64]\n",
    "        assert dtype in dtypes\n",
    "        return dtypes.index(dtype)\n",
    "\n",
    "    def add_entry(self, **kwargs: np.array):\n",
    "        assert all(k in [n for n, d in self.fields] for k in kwargs)\n",
    "        assert all(kwargs[n].dtype == d for n, d in self.fields if n in kwargs)\n",
    "        entry = [kwargs[name] if name in kwargs else None for name, dtype in self.fields]\n",
    "        for e in entry:\n",
    "            entry_header = b''\n",
    "            if e is None:\n",
    "                entry_header += struct.pack('I', 0)\n",
    "            else:\n",
    "                entry_header += struct.pack('I', len(e.shape))\n",
    "                entry_header += b''.join(struct.pack('I', d) for d in e.shape)\n",
    "            self.file_handle.write(entry_header)\n",
    "            if e is not None:\n",
    "                self.file_handle.write(e.tobytes('C'))\n",
    "        self.entry_count += 1\n",
    "\n",
    "    def get_header(self):\n",
    "        header_data = b''\n",
    "        for field_name, field_dtype in self.fields:\n",
    "            field_name = field_name.encode('utf-8')\n",
    "            header_data += struct.pack(f'I{len(field_name)}sB', len(field_name), field_name, self.dtype_to_id(field_dtype))\n",
    "        header_data = struct.pack('I', len(header_data)) + header_data\n",
    "        header_data = header_data + struct.pack('Q', self.entry_count)\n",
    "        return header_data\n",
    "\n",
    "    def finish(self):\n",
    "        self.file_handle.seek(0)\n",
    "        self.file_handle.write(self.get_header())\n",
    "        self.file_handle.close()\n",
    "\n",
    "\n",
    "class DatasetReader(IterableDataset):\n",
    "    def __init__(self, map_file: str):\n",
    "        self.file_handle = open(map_file, 'rb')\n",
    "        self.fields, self.entry_count = self.__read_header()\n",
    "        self.cur_entry_index = 0\n",
    "\n",
    "    @staticmethod\n",
    "    def id_to_dtype(dtype_id: int):\n",
    "        dtypes = [np.uint8, np.int8, np.uint16, np.int16, np.uint32, np.int32, np.uint64, np.int64, np.float16, np.float32, np.float64]\n",
    "        return dtypes[dtype_id]\n",
    "\n",
    "    def __read_header(self):\n",
    "        header_length = struct.unpack('I', self.file_handle.read(4))[0]\n",
    "        header, header_cursor = self.file_handle.read(header_length), 0\n",
    "        fields = []\n",
    "        while header_cursor < header_length:\n",
    "            name_length = struct.unpack('I', header[header_cursor:header_cursor + 4])[0]\n",
    "            name, dtype_id = struct.unpack(f'{name_length}sB', header[header_cursor + 4:header_cursor + 4 + name_length + 1])\n",
    "            fields.append((name, self.id_to_dtype(dtype_id)))\n",
    "            header_cursor += (4 + name_length + 1)\n",
    "        entry_count = struct.unpack('Q', self.file_handle.read(8))[0]\n",
    "        return fields, entry_count\n",
    "\n",
    "    def reset(self):\n",
    "        self.file_handle.seek(0)\n",
    "        self.__read_header()\n",
    "\n",
    "    @staticmethod\n",
    "    def calc_entry_field_size(shape, dtype):\n",
    "        num_elem = reduce(lambda a, b: a * b, shape, 1)\n",
    "        dtype_size_map = {np.uint8: 1, np.int8: 1, np.uint16: 2, np.int16: 2, np.uint32: 4, np.int32: 4, np.uint64: 8, np.int64: 8,\n",
    "                          np.float16: 2, np.float32: 4, np.float64: 8}\n",
    "        return num_elem * dtype_size_map[dtype]\n",
    "\n",
    "    def __next__(self):\n",
    "        if self.cur_entry_index == self.entry_count:\n",
    "            raise StopIteration()\n",
    "        entry = {}\n",
    "        for field_name, field_dtype in self.fields:\n",
    "            num_dims = struct.unpack('I', self.file_handle.read(4))[0]\n",
    "            if num_dims == 0:\n",
    "                entry[field_name] = None\n",
    "                continue\n",
    "            dims = struct.unpack('I' * num_dims, self.file_handle.read(4 * num_dims))\n",
    "            data = np.fromfile(self.file_handle, field_dtype, reduce(lambda a, b: a * b, dims, 1))\n",
    "            print(data, dims, data.reshape(dims))\n",
    "            entry[field_name] = data\n",
    "\n",
    "\n",
    "# w = DatasetWriter('test_writer.pt', {'input_ids': np.uint16, 'attn_mask': np.uint8})\n",
    "# w.add_entry(input_ids=np.array([[1, 2, 3], [4, 5, 6]], dtype=np.uint16))\n",
    "# w.finish()\n",
    "r = DatasetReader('test_writer.pt')\n",
    "next(r)"
   ],
   "metadata": {
    "collapsed": false,
    "ExecuteTime": {
     "end_time": "2023-10-21T21:24:47.646191904Z",
     "start_time": "2023-10-21T21:24:47.605037447Z"
    }
   },
   "id": "9d58d1cac87817c9"
  },
  {
   "cell_type": "code",
   "execution_count": 53,
   "outputs": [],
   "source": [],
   "metadata": {
    "collapsed": false,
    "ExecuteTime": {
     "end_time": "2023-10-21T20:37:58.443211352Z",
     "start_time": "2023-10-21T20:37:58.434773804Z"
    }
   },
   "id": "a920d89e31f31056"
  },
  {
   "cell_type": "code",
   "execution_count": null,
   "outputs": [],
   "source": [],
   "metadata": {
    "collapsed": false
   },
   "id": "7b3d03dc42148082"
  }
 ],
 "metadata": {
  "kernelspec": {
   "display_name": "Python 3",
   "language": "python",
   "name": "python3"
  },
  "language_info": {
   "codemirror_mode": {
    "name": "ipython",
    "version": 2
   },
   "file_extension": ".py",
   "mimetype": "text/x-python",
   "name": "python",
   "nbconvert_exporter": "python",
   "pygments_lexer": "ipython2",
   "version": "2.7.6"
  }
 },
 "nbformat": 4,
 "nbformat_minor": 5
}

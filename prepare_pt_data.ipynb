{
 "cells": [
  {
   "cell_type": "code",
   "execution_count": 17,
   "id": "initial_id",
   "metadata": {
    "ExecuteTime": {
     "end_time": "2023-10-30T00:14:26.035757977Z",
     "start_time": "2023-10-30T00:14:25.964774479Z"
    }
   },
   "outputs": [],
   "source": [
    "import datasets\n",
    "from tokenization import TRIETokenizerFast\n",
    "from matplotlib import pyplot as plt\n",
    "import json\n",
    "from tqdm.notebook import tqdm\n",
    "from dataloader import DatasetWriter, SingleDatasetReader\n",
    "from typing import *\n",
    "import numpy as np\n",
    "from torch.utils.data import DataLoader\n",
    "from functools import partial"
   ]
  },
  {
   "cell_type": "code",
   "execution_count": 2,
   "id": "7847819f5d451fc",
   "metadata": {
    "ExecuteTime": {
     "end_time": "2023-10-30T00:06:51.066808369Z",
     "start_time": "2023-10-30T00:06:42.970300686Z"
    }
   },
   "outputs": [],
   "source": [
    "tokenizer = TRIETokenizerFast('llama_vocab_pruned_32k.json')"
   ]
  },
  {
   "cell_type": "code",
   "execution_count": 13,
   "outputs": [],
   "source": [
    "class DatasetColumnIter:\n",
    "    def __init__(self, dataset, col_name):\n",
    "        self.dataset = dataset\n",
    "        self.iter = iter(dataset)\n",
    "        self.col_name = col_name\n",
    "\n",
    "    def __next__(self):\n",
    "        return next(self.iter)[self.col_name]\n",
    "\n",
    "    def __iter__(self):\n",
    "        return self\n",
    "\n",
    "    def __len__(self):\n",
    "        return len(self.dataset)"
   ],
   "metadata": {
    "collapsed": false,
    "ExecuteTime": {
     "end_time": "2023-10-30T00:12:23.400119903Z",
     "start_time": "2023-10-30T00:12:23.377023006Z"
    }
   },
   "id": "56d486fc4b76bf79"
  },
  {
   "cell_type": "code",
   "execution_count": 3,
   "outputs": [],
   "source": [
    "def chunk_texts(texts: Iterable[str], min_tokens: int, max_tokens: int, chunk_size: int, return_attn_mask: bool,\n",
    "                prefix: str = '', postfix: str = '',\n",
    "                drop_unaligned: bool = False):\n",
    "    chunk, mask, mask_index = [], [], 1\n",
    "    for text in tqdm(texts):\n",
    "        encoded = tokenizer.encode(prefix + text + postfix)\n",
    "        if len(encoded) < min_tokens or len(encoded) > max_tokens:\n",
    "            continue\n",
    "        encoded_cursor = 0\n",
    "        while encoded_cursor < len(encoded):\n",
    "            chunk_append_size = min(chunk_size - len(chunk), len(encoded) - encoded_cursor)\n",
    "            if chunk_append_size == 0:\n",
    "                yield (chunk, mask) if return_attn_mask else chunk\n",
    "                chunk, mask = [], []\n",
    "                mask_index = 1\n",
    "                chunk_append_size = min(chunk_size, len(encoded) - encoded_cursor)\n",
    "            chunk += encoded[encoded_cursor:encoded_cursor + chunk_append_size]\n",
    "            mask += [mask_index] * chunk_append_size\n",
    "            mask_index += 1\n",
    "            encoded_cursor += chunk_append_size\n",
    "    if len(chunk) > 0 and (not drop_unaligned or len(chunk) == chunk_size):\n",
    "        yield (chunk, mask) if return_attn_mask else chunk\n",
    "\n",
    "\n",
    "def serialize_dataset(file: str, texts: Iterable[str], min_tokens: int, max_tokens: int, chunk_size: int, enable_attn_mask: bool,\n",
    "                      prefix: str = '', postfix: str = ''):\n",
    "    if enable_attn_mask:\n",
    "        writer = DatasetWriter(file, {'token_ids': np.uint16, 'attn_mask': np.uint16})\n",
    "    else:\n",
    "        writer = DatasetWriter(file, {'token_ids': np.uint16})\n",
    "    for entry in chunk_texts(texts, min_tokens, max_tokens, chunk_size, enable_attn_mask, prefix, postfix, drop_unaligned=True):\n",
    "        if enable_attn_mask:\n",
    "            writer.add_entry(token_ids=np.array(entry[0], dtype=np.uint16), attn_mask=np.array(entry[1], dtype=np.uint16))\n",
    "        else:\n",
    "            writer.add_entry(token_ids=np.array(entry, dtype=np.uint16))\n",
    "    writer.finish()"
   ],
   "metadata": {
    "collapsed": false,
    "ExecuteTime": {
     "start_time": "2023-10-30T00:06:51.143853686Z"
    }
   },
   "id": "65e4629fb378ccad"
  },
  {
   "cell_type": "code",
   "execution_count": null,
   "outputs": [],
   "source": [
    "mini_pile = datasets.load_dataset('JeanKaddour/minipile', cache_dir='./corpus')"
   ],
   "metadata": {
    "collapsed": false
   },
   "id": "f89ae5e1cacef222"
  },
  {
   "cell_type": "code",
   "execution_count": null,
   "outputs": [],
   "source": [
    "serialize_dataset('datasets/minipile_valid_masked_1024.bin', mini_pile['validation']['text'], min_tokens=128, max_tokens=2048 * 8, chunk_size=1024,\n",
    "                  enable_attn_mask=True, prefix='<s>', postfix='</s>')"
   ],
   "metadata": {
    "collapsed": false
   },
   "id": "af3c25772151c04d"
  },
  {
   "cell_type": "code",
   "execution_count": null,
   "outputs": [],
   "source": [
    "serialize_dataset('datasets/minipile_train_masked_1024.bin', mini_pile['train']['text'], min_tokens=128, max_tokens=2048 * 8, chunk_size=1024,\n",
    "                  enable_attn_mask=True, prefix='<s>', postfix='</s>')"
   ],
   "metadata": {
    "collapsed": false
   },
   "id": "3866f874b2e0aabe"
  },
  {
   "cell_type": "code",
   "execution_count": null,
   "outputs": [],
   "source": [
    "# with open('corpus/TinyStoriesV2-GPT4-train.txt', 'r') as temp_file:\n",
    "#     tinystories_train = [l.strip() for l in temp_file.read().split('<|endoftext|>')][:-1]\n",
    "# serialize_dataset('datasets/tinystories_train_masked.bin', tinystories_train, min_tokens=128, max_tokens=2048 * 8, chunk_size=2048, return_attn_mask=True,\n",
    "#                   prefix='<s>', postfix='</s>')"
   ],
   "metadata": {
    "collapsed": false
   },
   "id": "ece83c5cce5d1e22"
  },
  {
   "cell_type": "code",
   "execution_count": null,
   "outputs": [],
   "source": [
    "# with open('corpus/TinyStoriesV2-GPT4-valid.txt', 'r') as temp_file:\n",
    "#     tinystories_valid = [l.strip() for l in temp_file.read().split('<|endoftext|>')][:-1]\n",
    "# serialize_dataset('datasets/tinystories_valid_masked.bin', tinystories_valid, min_tokens=128, max_tokens=2048 * 8, chunk_size=2048, return_attn_mask=True,\n",
    "#                   prefix='<s>', postfix='</s>')"
   ],
   "metadata": {
    "collapsed": false
   },
   "id": "2ae81fe8"
  },
  {
   "cell_type": "code",
   "execution_count": null,
   "outputs": [],
   "source": [
    "enwiki = datasets.load_dataset('teven/enwiki_100k', cache_dir='./corpus')['train']"
   ],
   "metadata": {
    "collapsed": false
   },
   "id": "70e4f7c2cd361091"
  },
  {
   "cell_type": "code",
   "execution_count": null,
   "outputs": [],
   "source": [
    "def enwiki_filter(row, min_length):\n",
    "    if len(row['text']) < min_length:\n",
    "        return False\n",
    "    if row['text'].endswith(':'):\n",
    "        return False\n",
    "    return True\n",
    "\n",
    "\n",
    "enwiki = enwiki.filter(partial(enwiki_filter, min_length=128))"
   ],
   "metadata": {
    "collapsed": false
   },
   "id": "a4b851beec8d4eaf"
  },
  {
   "cell_type": "code",
   "execution_count": null,
   "outputs": [],
   "source": [
    "serialize_dataset('datasets/enwiki_train_masked_1024.bin', enwiki['text'], min_tokens=128, max_tokens=2048 * 8, chunk_size=1024,\n",
    "                  enable_attn_mask=True, prefix='<s>', postfix='</s>')"
   ],
   "metadata": {
    "collapsed": false
   },
   "id": "e124d168befe4a0f"
  },
  {
   "cell_type": "code",
   "execution_count": null,
   "outputs": [],
   "source": [
    "tiny_textbooks = datasets.load_dataset('nampdn-ai/tiny-textbooks', cache_dir='./corpus')['train']"
   ],
   "metadata": {
    "collapsed": false
   },
   "id": "f18210667f2e53a3"
  },
  {
   "cell_type": "code",
   "execution_count": null,
   "outputs": [],
   "source": [
    "serialize_dataset('datasets/tinytextbooks_train_masked_1024.bin', tiny_textbooks['textbook'], min_tokens=128, max_tokens=2048 * 8, chunk_size=1024,\n",
    "                  enable_attn_mask=True, prefix='<s>', postfix='</s>')"
   ],
   "metadata": {
    "collapsed": false
   },
   "id": "89baea97ec62a8bd"
  },
  {
   "cell_type": "code",
   "execution_count": 5,
   "outputs": [
    {
     "data": {
      "text/plain": "Resolving data files:   0%|          | 0/48 [00:00<?, ?it/s]",
      "application/vnd.jupyter.widget-view+json": {
       "version_major": 2,
       "version_minor": 0,
       "model_id": "cdfe3103676840d8a6b7571c87aed46f"
      }
     },
     "metadata": {},
     "output_type": "display_data"
    },
    {
     "data": {
      "text/plain": "Resolving data files:   0%|          | 0/48 [00:00<?, ?it/s]",
      "application/vnd.jupyter.widget-view+json": {
       "version_major": 2,
       "version_minor": 0,
       "model_id": "afc4c30890f74b01ad8173489b32da83"
      }
     },
     "metadata": {},
     "output_type": "display_data"
    }
   ],
   "source": [
    "slimpajama = datasets.load_dataset('DKYoon/SlimPajama-6B', cache_dir='./corpus')"
   ],
   "metadata": {
    "collapsed": false,
    "ExecuteTime": {
     "start_time": "2023-10-30T00:07:49.666028041Z"
    }
   },
   "id": "9ee71a04da2ee482"
  },
  {
   "cell_type": "code",
   "execution_count": 15,
   "outputs": [
    {
     "data": {
      "text/plain": "  0%|          | 0/9347 [00:00<?, ?it/s]",
      "application/vnd.jupyter.widget-view+json": {
       "version_major": 2,
       "version_minor": 0,
       "model_id": "feab96384d3f41e6a36cb69e1e54a12e"
      }
     },
     "metadata": {},
     "output_type": "display_data"
    }
   ],
   "source": [
    "serialize_dataset('datasets/slimpajama_valid_masked_1024.bin',\n",
    "                  DatasetColumnIter(slimpajama['validation'], 'text'),\n",
    "                  min_tokens=128, max_tokens=2048 * 8, chunk_size=1024,\n",
    "                  enable_attn_mask=True, prefix='<s>', postfix='</s>')"
   ],
   "metadata": {
    "collapsed": false,
    "ExecuteTime": {
     "end_time": "2023-10-30T00:13:09.076147676Z",
     "start_time": "2023-10-30T00:13:04.239021238Z"
    }
   },
   "id": "aeac76e0f82e1cc6"
  },
  {
   "cell_type": "code",
   "execution_count": 26,
   "outputs": [
    {
     "data": {
      "text/plain": "  0%|          | 0/5489000 [00:00<?, ?it/s]",
      "application/vnd.jupyter.widget-view+json": {
       "version_major": 2,
       "version_minor": 0,
       "model_id": "8ac8f885bf6f4f29b4608476b039ea3b"
      }
     },
     "metadata": {},
     "output_type": "display_data"
    }
   ],
   "source": [
    "serialize_dataset('datasets/slimpajama_train_masked_1024.bin',\n",
    "                  DatasetColumnIter(slimpajama['train'], 'text'),\n",
    "                  min_tokens=128, max_tokens=2048 * 8, chunk_size=1024,\n",
    "                  enable_attn_mask=True, prefix='<s>', postfix='</s>')"
   ],
   "metadata": {
    "collapsed": false,
    "ExecuteTime": {
     "end_time": "2023-10-30T01:02:53.952760168Z",
     "start_time": "2023-10-30T00:15:30.321239528Z"
    }
   },
   "id": "497b3d1c9fac7266"
  },
  {
   "cell_type": "code",
   "execution_count": null,
   "outputs": [],
   "source": [],
   "metadata": {
    "collapsed": false
   },
   "id": "45fa24c0ee08add2"
  }
 ],
 "metadata": {
  "kernelspec": {
   "display_name": "Python 3 (ipykernel)",
   "language": "python",
   "name": "python3"
  },
  "language_info": {
   "codemirror_mode": {
    "name": "ipython",
    "version": 3
   },
   "file_extension": ".py",
   "mimetype": "text/x-python",
   "name": "python",
   "nbconvert_exporter": "python",
   "pygments_lexer": "ipython3",
   "version": "3.10.12"
  }
 },
 "nbformat": 4,
 "nbformat_minor": 5
}

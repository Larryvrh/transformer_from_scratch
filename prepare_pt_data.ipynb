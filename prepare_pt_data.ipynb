{
 "cells": [
  {
   "cell_type": "code",
   "execution_count": 1,
   "id": "initial_id",
   "metadata": {
    "collapsed": true,
    "ExecuteTime": {
     "end_time": "2023-10-16T00:17:30.466457989Z",
     "start_time": "2023-10-16T00:17:29.984837703Z"
    }
   },
   "outputs": [],
   "source": [
    "import datasets\n",
    "from tokenizers import TRIETokenizerFast\n",
    "from matplotlib import pyplot as plt\n",
    "import json\n",
    "from tqdm.notebook import tqdm"
   ]
  },
  {
   "cell_type": "code",
   "execution_count": null,
   "outputs": [],
   "source": [
    "tiny_textbook = datasets.load_dataset('nampdn-ai/tiny-textbooks', cache_dir='./corpus')['train']"
   ],
   "metadata": {
    "collapsed": false
   },
   "id": "96193986aa6c4cdd"
  },
  {
   "cell_type": "code",
   "execution_count": null,
   "outputs": [],
   "source": [
    "with open('tiny-textbooks.jsonl', 'w') as file:\n",
    "    for i, e in enumerate(tiny_textbook):\n",
    "        if i > 0:\n",
    "            file.write('\\n')\n",
    "        file.write(json.dumps({'text': e['textbook']}, ensure_ascii=False))"
   ],
   "metadata": {
    "collapsed": false
   },
   "id": "84a5e85f5e150442"
  },
  {
   "cell_type": "code",
   "execution_count": null,
   "outputs": [],
   "source": [
    "mini_pile = datasets.load_dataset('JeanKaddour/minipile', cache_dir='./corpus')['train']"
   ],
   "metadata": {
    "collapsed": false
   },
   "id": "f89ae5e1cacef222"
  },
  {
   "cell_type": "code",
   "execution_count": null,
   "outputs": [],
   "source": [
    "with open('corpus/minipile.jsonl', 'w') as file:\n",
    "    for i, e in tqdm(enumerate(mini_pile), total=len(mini_pile)):\n",
    "        if i > 0:\n",
    "            file.write('\\n')\n",
    "        file.write(json.dumps({'text': e['text']}, ensure_ascii=False))"
   ],
   "metadata": {
    "collapsed": false
   },
   "id": "a3d3c19e38bc4475"
  },
  {
   "cell_type": "code",
   "execution_count": 5,
   "outputs": [],
   "source": [
    "en_wiki_100k = datasets.load_dataset('teven/enwiki_100k', cache_dir='./corpus')['train']\n",
    "en_wiki_100k_filtered = en_wiki_100k.filter(lambda i:i['text'].endswith('.'))"
   ],
   "metadata": {
    "collapsed": false,
    "ExecuteTime": {
     "end_time": "2023-10-16T00:21:43.252838826Z",
     "start_time": "2023-10-16T00:21:42.483490388Z"
    }
   },
   "id": "656110c43b726f6c"
  },
  {
   "cell_type": "code",
   "execution_count": 7,
   "outputs": [
    {
     "data": {
      "text/plain": "  0%|          | 0/532383 [00:00<?, ?it/s]",
      "application/vnd.jupyter.widget-view+json": {
       "version_major": 2,
       "version_minor": 0,
       "model_id": "409a3b1ad7554947855d12153d16c293"
      }
     },
     "metadata": {},
     "output_type": "display_data"
    }
   ],
   "source": [
    "with open('corpus/enwiki_100k_filtered.jsonl', 'w') as file:\n",
    "    for i, e in tqdm(enumerate(en_wiki_100k_filtered), total=len(en_wiki_100k_filtered)):\n",
    "        if i > 0:\n",
    "            file.write('\\n')\n",
    "        file.write(json.dumps({'text': e['text']}, ensure_ascii=False))"
   ],
   "metadata": {
    "collapsed": false,
    "ExecuteTime": {
     "end_time": "2023-10-16T00:22:28.881939961Z",
     "start_time": "2023-10-16T00:22:06.096136653Z"
    }
   },
   "id": "37fb73b5ecbaa9a0"
  },
  {
   "cell_type": "code",
   "execution_count": null,
   "outputs": [],
   "source": [],
   "metadata": {
    "collapsed": false
   },
   "id": "65e4629fb378ccad"
  }
 ],
 "metadata": {
  "kernelspec": {
   "display_name": "Python 3",
   "language": "python",
   "name": "python3"
  },
  "language_info": {
   "codemirror_mode": {
    "name": "ipython",
    "version": 2
   },
   "file_extension": ".py",
   "mimetype": "text/x-python",
   "name": "python",
   "nbconvert_exporter": "python",
   "pygments_lexer": "ipython2",
   "version": "2.7.6"
  }
 },
 "nbformat": 4,
 "nbformat_minor": 5
}

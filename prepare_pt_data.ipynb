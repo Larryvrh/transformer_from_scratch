{
 "cells": [
  {
   "cell_type": "code",
   "execution_count": 1,
   "id": "initial_id",
   "metadata": {
    "ExecuteTime": {
     "end_time": "2023-10-23T20:44:52.985732547Z",
     "start_time": "2023-10-23T20:44:51.804197654Z"
    }
   },
   "outputs": [],
   "source": [
    "import datasets\n",
    "from tokenizers import TRIETokenizerFast\n",
    "from matplotlib import pyplot as plt\n",
    "import json\n",
    "from tqdm.notebook import tqdm\n",
    "from dataloader import DatasetWriter, DatasetReader\n",
    "from typing import *\n",
    "import numpy as np\n",
    "from torch.utils.data import DataLoader"
   ]
  },
  {
   "cell_type": "code",
   "execution_count": 2,
   "id": "7847819f5d451fc",
   "metadata": {
    "ExecuteTime": {
     "end_time": "2023-10-23T20:45:01.234712849Z",
     "start_time": "2023-10-23T20:44:52.986610544Z"
    }
   },
   "outputs": [],
   "source": [
    "tokenizer = TRIETokenizerFast('llama_vocab_pruned_32k.json')"
   ]
  },
  {
   "cell_type": "code",
   "execution_count": 3,
   "id": "65e4629fb378ccad",
   "metadata": {
    "ExecuteTime": {
     "end_time": "2023-10-23T20:45:01.249187044Z",
     "start_time": "2023-10-23T20:45:01.237547158Z"
    }
   },
   "outputs": [],
   "source": [
    "def chunk_texts(texts: Iterable[str], min_tokens: int, max_tokens: int, chunk_size: int, return_attn_mask: bool,\n",
    "                prefix: str = '', postfix: str = '',\n",
    "                drop_unaligned: bool = False):\n",
    "    chunk, mask, mask_index = [], [], 1\n",
    "    for text in tqdm(texts):\n",
    "        encoded = tokenizer.encode(prefix + text + postfix)\n",
    "        if len(encoded) < min_tokens or len(encoded) > max_tokens:\n",
    "            continue\n",
    "        encoded_cursor = 0\n",
    "        while encoded_cursor < len(encoded):\n",
    "            chunk_append_size = min(chunk_size - len(chunk), len(encoded) - encoded_cursor)\n",
    "            if chunk_append_size == 0:\n",
    "                yield (chunk, mask) if return_attn_mask else chunk\n",
    "                chunk, mask = [], []\n",
    "                mask_index = 1\n",
    "                chunk_append_size = min(chunk_size, len(encoded) - encoded_cursor)\n",
    "            chunk += encoded[encoded_cursor:encoded_cursor + chunk_append_size]\n",
    "            mask += [mask_index] * chunk_append_size\n",
    "            mask_index += 1\n",
    "            encoded_cursor += chunk_append_size\n",
    "    if len(chunk) > 0 and (not drop_unaligned or len(chunk) == chunk_size):\n",
    "        yield (chunk, mask) if return_attn_mask else chunk\n",
    "\n",
    "\n",
    "def serialize_dataset(file: str, texts: Iterable[str], min_tokens: int, max_tokens: int, chunk_size: int, return_attn_mask: bool,\n",
    "                      prefix: str = '', postfix: str = ''):\n",
    "    if return_attn_mask:\n",
    "        writer = DatasetWriter(file, {'token_ids': np.uint16, 'attn_mask': np.uint16})\n",
    "    else:\n",
    "        writer = DatasetWriter(file, {'token_ids': np.uint16})\n",
    "    for entry in chunk_texts(texts, min_tokens, max_tokens, chunk_size, return_attn_mask, prefix, postfix, drop_unaligned=True):\n",
    "        if return_attn_mask:\n",
    "            writer.add_entry(token_ids=np.array(entry[0], dtype=np.uint16), attn_mask=np.array(entry[1], dtype=np.uint16))\n",
    "        else:\n",
    "            writer.add_entry(token_ids=np.array(entry, dtype=np.uint16))\n",
    "    writer.finish()"
   ]
  },
  {
   "cell_type": "code",
   "execution_count": 4,
   "id": "f89ae5e1cacef222",
   "metadata": {
    "ExecuteTime": {
     "end_time": "2023-10-23T20:45:01.265716Z",
     "start_time": "2023-10-23T20:45:01.239662165Z"
    }
   },
   "outputs": [],
   "source": [
    "# mini_pile = datasets.load_dataset('JeanKaddour/minipile', cache_dir='./corpus')"
   ]
  },
  {
   "cell_type": "code",
   "execution_count": 5,
   "id": "af3c25772151c04d",
   "metadata": {
    "ExecuteTime": {
     "end_time": "2023-10-23T20:45:01.281057675Z",
     "start_time": "2023-10-23T20:45:01.265966073Z"
    }
   },
   "outputs": [],
   "source": [
    "# serialize_dataset('datasets/minipile_valid.bin', mini_pile['validation']['text'], min_tokens=128, max_tokens=2048 * 8, chunk_size=2048,\n",
    "#                   prefix='<s>', postfix='</s>')"
   ]
  },
  {
   "cell_type": "code",
   "execution_count": 6,
   "id": "3866f874b2e0aabe",
   "metadata": {
    "ExecuteTime": {
     "end_time": "2023-10-23T20:45:01.295738307Z",
     "start_time": "2023-10-23T20:45:01.280244284Z"
    }
   },
   "outputs": [],
   "source": [
    "# serialize_dataset('datasets/minipile_train.bin', mini_pile['train']['text'], min_tokens=128, max_tokens=2048 * 8, chunk_size=2048,\n",
    "#                   prefix='<s>', postfix='</s>')"
   ]
  },
  {
   "cell_type": "code",
   "execution_count": 7,
   "id": "ece83c5cce5d1e22",
   "metadata": {
    "ExecuteTime": {
     "end_time": "2023-10-23T20:45:07.069833471Z",
     "start_time": "2023-10-23T20:45:01.290263389Z"
    }
   },
   "outputs": [],
   "source": [
    "with open('corpus/TinyStoriesV2-GPT4-train.txt', 'r') as temp_file:\n",
    "    tinystories_train = [l.strip() for l in temp_file.read().split('<|endoftext|>')][:-1]"
   ]
  },
  {
   "cell_type": "code",
   "execution_count": 8,
   "id": "2ae81fe8",
   "metadata": {
    "ExecuteTime": {
     "end_time": "2023-10-23T20:49:25.744596355Z",
     "start_time": "2023-10-23T20:45:13.891367697Z"
    }
   },
   "outputs": [
    {
     "data": {
      "text/plain": "  0%|          | 0/2717699 [00:00<?, ?it/s]",
      "application/vnd.jupyter.widget-view+json": {
       "version_major": 2,
       "version_minor": 0,
       "model_id": "083856a87a344fc4a92cfc464f4f1e53"
      }
     },
     "metadata": {},
     "output_type": "display_data"
    }
   ],
   "source": [
    "serialize_dataset('datasets/tinystories_train_masked.bin', tinystories_train, min_tokens=128, max_tokens=2048 * 8, chunk_size=2049, return_attn_mask=True,\n",
    "                  prefix='<s>', postfix='</s>')"
   ]
  },
  {
   "cell_type": "code",
   "execution_count": null,
   "id": "687295d7",
   "metadata": {
    "ExecuteTime": {
     "start_time": "2023-10-23T20:44:48.288320799Z"
    }
   },
   "outputs": [],
   "source": [
    "reader = DatasetReader('datasets/debug_data_masked.bin')"
   ]
  },
  {
   "cell_type": "code",
   "execution_count": null,
   "outputs": [],
   "source": [
    "import torch"
   ],
   "metadata": {
    "collapsed": false,
    "ExecuteTime": {
     "start_time": "2023-10-23T20:44:48.288328309Z"
    }
   },
   "id": "e31ab3e7881f52c6"
  },
  {
   "cell_type": "code",
   "execution_count": null,
   "outputs": [],
   "source": [
    "def attn_mask_to_seq_indices(attn_mask: torch.Tensor):\n",
    "    seq_len = attn_mask.shape[0] * attn_mask.shape[1]\n",
    "    disjoint_point = torch.cat([torch.tensor([[True]] * attn_mask.shape[0]), attn_mask[:, 1:] != attn_mask[:, :-1]], dim=1)\n",
    "    return torch.cat([torch.nonzero(disjoint_point.view((-1,)))[1:], torch.tensor([[seq_len]])])\n",
    "\n",
    "\n",
    "iterator = iter(reader)\n",
    "ids = []\n",
    "masks = []\n",
    "for i in range(16):\n",
    "    t = next(iterator)\n",
    "    masks.append(t['attn_mask'])\n",
    "    ids.append(t['token_ids'])\n",
    "ids = torch.tensor(np.stack(ids, dtype=np.int32))\n",
    "\n",
    "s = attn_mask_to_seq_indices(torch.tensor(np.stack(masks, dtype=np.int32)))"
   ],
   "metadata": {
    "collapsed": false
   },
   "id": "abc74c3e67da1181"
  },
  {
   "cell_type": "code",
   "execution_count": null,
   "outputs": [],
   "source": [],
   "metadata": {
    "collapsed": false
   },
   "id": "70e4f7c2cd361091"
  },
  {
   "cell_type": "code",
   "execution_count": null,
   "outputs": [],
   "source": [],
   "metadata": {
    "collapsed": false
   },
   "id": "f2aa96432f536c2b"
  }
 ],
 "metadata": {
  "kernelspec": {
   "display_name": "Python 3 (ipykernel)",
   "language": "python",
   "name": "python3"
  },
  "language_info": {
   "codemirror_mode": {
    "name": "ipython",
    "version": 3
   },
   "file_extension": ".py",
   "mimetype": "text/x-python",
   "name": "python",
   "nbconvert_exporter": "python",
   "pygments_lexer": "ipython3",
   "version": "3.10.12"
  }
 },
 "nbformat": 4,
 "nbformat_minor": 5
}

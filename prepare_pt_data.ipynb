{
 "cells": [
  {
   "cell_type": "code",
   "execution_count": 1,
   "id": "initial_id",
   "metadata": {
    "ExecuteTime": {
     "end_time": "2023-10-22T02:41:54.178236348Z",
     "start_time": "2023-10-22T02:41:53.045030175Z"
    }
   },
   "outputs": [],
   "source": [
    "import datasets\n",
    "from tokenizers import TRIETokenizerFast\n",
    "from matplotlib import pyplot as plt\n",
    "import json\n",
    "from tqdm.notebook import tqdm\n",
    "from dataloader import DatasetWriter, DatasetReader\n",
    "from typing import *\n",
    "import numpy as np\n",
    "from torch.utils.data import DataLoader"
   ]
  },
  {
   "cell_type": "code",
   "execution_count": 2,
   "id": "7847819f5d451fc",
   "metadata": {
    "ExecuteTime": {
     "end_time": "2023-10-22T02:42:02.544806868Z",
     "start_time": "2023-10-22T02:41:54.400401139Z"
    }
   },
   "outputs": [],
   "source": [
    "tokenizer = TRIETokenizerFast('llama_vocab_pruned_32k.json')"
   ]
  },
  {
   "cell_type": "code",
   "execution_count": 3,
   "id": "65e4629fb378ccad",
   "metadata": {
    "ExecuteTime": {
     "end_time": "2023-10-22T02:42:14.178612346Z",
     "start_time": "2023-10-22T02:42:14.172722033Z"
    }
   },
   "outputs": [],
   "source": [
    "def chunk_texts(texts: Iterable[str], min_tokens: int, max_tokens: int, chunk_size: int,\n",
    "                prefix: str = '', postfix: str = '',\n",
    "                drop_unaligned: bool = False):\n",
    "    chunk = []\n",
    "    for text in tqdm(texts):\n",
    "        encoded = tokenizer.encode(prefix + text + postfix)\n",
    "        if len(encoded) < min_tokens or len(encoded) > max_tokens:\n",
    "            continue\n",
    "        encoded_cursor = 0\n",
    "        while encoded_cursor < len(encoded):\n",
    "            chunk_append_size = min(chunk_size - len(chunk), len(encoded) - encoded_cursor)\n",
    "            if chunk_append_size == 0:\n",
    "                yield chunk\n",
    "                chunk = []\n",
    "                chunk_append_size = chunk_size\n",
    "            chunk += encoded[encoded_cursor:encoded_cursor + chunk_append_size]\n",
    "            encoded_cursor += chunk_append_size\n",
    "    if len(chunk) > 0 and (not drop_unaligned or len(chunk) == chunk_size):\n",
    "        yield chunk\n",
    "\n",
    "\n",
    "def serialize_dataset(file: str, texts: Iterable[str], min_tokens: int, max_tokens: int, chunk_size: int,\n",
    "                      prefix: str = '', postfix: str = ''):\n",
    "    writer = DatasetWriter(file, {'token_ids': np.uint16})\n",
    "    for entry in chunk_texts(texts, min_tokens, max_tokens, chunk_size, prefix, postfix, drop_unaligned=True):\n",
    "        writer.add_entry(token_ids=np.array(entry, dtype=np.uint16))\n",
    "    writer.finish()"
   ]
  },
  {
   "cell_type": "code",
   "execution_count": 4,
   "id": "f89ae5e1cacef222",
   "metadata": {
    "ExecuteTime": {
     "end_time": "2023-10-22T02:42:04.107888336Z",
     "start_time": "2023-10-22T02:42:02.546257873Z"
    }
   },
   "outputs": [],
   "source": [
    "# mini_pile = datasets.load_dataset('JeanKaddour/minipile', cache_dir='./corpus')"
   ]
  },
  {
   "cell_type": "code",
   "execution_count": 5,
   "id": "af3c25772151c04d",
   "metadata": {
    "ExecuteTime": {
     "end_time": "2023-10-22T02:42:17.060414394Z",
     "start_time": "2023-10-22T02:42:16.504955257Z"
    }
   },
   "outputs": [],
   "source": [
    "# serialize_dataset('datasets/minipile_valid.bin', mini_pile['validation']['text'], min_tokens=128, max_tokens=2048 * 8, chunk_size=2048,\n",
    "#                   prefix='<s>', postfix='</s>')"
   ]
  },
  {
   "cell_type": "code",
   "execution_count": 6,
   "id": "3866f874b2e0aabe",
   "metadata": {
    "ExecuteTime": {
     "end_time": "2023-10-22T02:53:27.847705269Z",
     "start_time": "2023-10-22T02:42:31.118798360Z"
    }
   },
   "outputs": [],
   "source": [
    "# serialize_dataset('datasets/minipile_train.bin', mini_pile['train']['text'], min_tokens=128, max_tokens=2048 * 8, chunk_size=2048,\n",
    "#                   prefix='<s>', postfix='</s>')"
   ]
  },
  {
   "cell_type": "code",
   "execution_count": 15,
   "id": "ece83c5cce5d1e22",
   "metadata": {},
   "outputs": [],
   "source": [
    "with open('corpus/TinyStoriesV2-GPT4-train.txt', 'r') as file:\n",
    "    tinystories_train = [l.strip() for l in file.read().split('<|endoftext|>')][:-1]"
   ]
  },
  {
   "cell_type": "code",
   "execution_count": 16,
   "id": "2ae81fe8",
   "metadata": {},
   "outputs": [
    {
     "data": {
      "application/vnd.jupyter.widget-view+json": {
       "model_id": "cab08c5242734cc8b8d6d9824f62cb20",
       "version_major": 2,
       "version_minor": 0
      },
      "text/plain": [
       "  0%|          | 0/2717699 [00:00<?, ?it/s]"
      ]
     },
     "metadata": {},
     "output_type": "display_data"
    }
   ],
   "source": [
    "serialize_dataset('datasets/tinystories_train.bin', tinystories_train, min_tokens=128, max_tokens=2048 * 8, chunk_size=2048,\n",
    "                  prefix='<s>', postfix='</s>')"
   ]
  },
  {
   "cell_type": "code",
   "execution_count": null,
   "id": "687295d7",
   "metadata": {},
   "outputs": [],
   "source": []
  }
 ],
 "metadata": {
  "kernelspec": {
   "display_name": "Python 3 (ipykernel)",
   "language": "python",
   "name": "python3"
  },
  "language_info": {
   "codemirror_mode": {
    "name": "ipython",
    "version": 3
   },
   "file_extension": ".py",
   "mimetype": "text/x-python",
   "name": "python",
   "nbconvert_exporter": "python",
   "pygments_lexer": "ipython3",
   "version": "3.10.12"
  }
 },
 "nbformat": 4,
 "nbformat_minor": 5
}

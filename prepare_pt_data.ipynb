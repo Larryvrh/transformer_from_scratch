{
 "cells": [
  {
   "cell_type": "code",
   "execution_count": 5,
   "id": "initial_id",
   "metadata": {
    "collapsed": true,
    "ExecuteTime": {
     "end_time": "2023-10-09T22:01:01.325795446Z",
     "start_time": "2023-10-09T22:01:01.175875944Z"
    }
   },
   "outputs": [],
   "source": [
    "import datasets\n",
    "from matplotlib import pyplot as plt"
   ]
  },
  {
   "cell_type": "code",
   "execution_count": 8,
   "outputs": [
    {
     "data": {
      "text/plain": "Resolving data files:   0%|          | 0/42 [00:00<?, ?it/s]",
      "application/vnd.jupyter.widget-view+json": {
       "version_major": 2,
       "version_minor": 0,
       "model_id": "d6466955788a4580b90c9a86ff2126a5"
      }
     },
     "metadata": {},
     "output_type": "display_data"
    }
   ],
   "source": [
    "tiny_textbook = datasets.load_dataset('nampdn-ai/tiny-textbooks', cache_dir='./corpus')['train']"
   ],
   "metadata": {
    "collapsed": false,
    "ExecuteTime": {
     "end_time": "2023-10-09T22:01:15.103403158Z",
     "start_time": "2023-10-09T22:01:13.641914148Z"
    }
   },
   "id": "96193986aa6c4cdd"
  },
  {
   "cell_type": "code",
   "execution_count": 9,
   "outputs": [
    {
     "data": {
      "text/plain": "{'text': 'Dariusz Nosorowski. Managing Director, Atol Poland. Dariusz - a salesman, manager, lawyer with MBA title, SGH Warsaw School of Economics graduate and accomplished sales manager. He has nearly 20 years of sales experience at various organisational levels and both - large-scale international organisations as well as local startups. Leader of change (restructuring, market segmentation), effective creator and implementer of the selected strategies. He implemented recovery plans in the weakest departments, which later ranked among the best in the company. A coach and mentor, effectively builds successful sales teams, motivates employees to achieve high performance. He willingly shares his knowledge and experience in the work sphere collaborating with companies as an active salesman and consultant.',\n 'source': 'refinedweb',\n 's': 5,\n 'len': 803,\n 'idx': 166348,\n 'textbook': \"**Lesson: Introduction to Sales**\\n\\n**Objective:** To introduce students to the concept of sales and its importance in business.\\n\\n**Introduction:** Sales is the process of persuading someone to buy a product or service. It is an essential part of any business, as it helps generate revenue and grow the company. In this lesson, we will learn about the basics of sales and how it can benefit businesses.\\n\\n**Section 1: What is Sales?**\\n\\n**Topic 1: Definition of Sales**\\n\\nSales is the process of persuading someone to buy a product or service. It involves identifying the needs of potential customers, presenting solutions that meet those needs, and closing the deal by making the sale.\\n\\n**Topic 2: Importance of Sales**\\n\\nSales is crucial to the success of a business because it generates revenue and helps the company grow. Without sales, businesses would not be able to make profits, expand their operations, or reach new customers.\\n\\n**Topic 3: Types of Sales**\\n\\nThere are several types of sales, including direct sales, indirect sales, and online sales. Direct sales involve selling products or services directly to customers, while indirect sales involve selling through intermediaries such as distributors or retailers. Online sales involve selling products or services over the internet.\\n\\n**Section 2: Skills Required for Sales**\\n\\n**Topic 1: Communication Skills**\\n\\nEffective communication is essential for sales success. Salespeople must be able to communicate clearly and persuasively to potential customers, negotiate deals, and close sales.\\n\\n**Topic 2: Interpersonal Skills**\\n\\nSalespeople must also have strong interpersonal skills, including active listening, empathy, and building relationships with customers. These skills help salespeople understand customer needs and build trust with them.\\n\\n**Topic 3: Time Management Skills**\\n\\nSales can be a time-consuming process, so salespeople must be skilled at managing their time effectively. They must prioritize tasks, set goals, and stay organized to be successful.\\n\\n**Section 3: Benefits of Sales**\\n\\n**Topic 1: Financial Benefits**\\n\\nSales generate revenue for businesses, which can be used to fund growth and expansion. Sales also help businesses increase their profits by generating more income than expenses.\\n\\n**Topic 2: Customer Benefits**\\n\\nSales can also benefit customers by providing them with products or services that meet their needs and improve their lives. Sales help businesses introduce new products and services to the market, which can improve customers' lives and create new opportunities for them.\\n\\n**Conclusion:** In conclusion, sales is an essential part of any business, as it helps generate revenue and grow the company. By understanding the basics of sales, developing essential skills, and recognizing the benefits of sales, individuals can become successful salespeople and contribute to the growth of their businesses.\\n\\n**Glossary:**\\n- Sales: The process of persuading someone to buy a product or service\\n- Interpersonal Skills: The ability to communicate and build relationships with others\\n- Time Management Skills: The ability to prioritize tasks, set goals, and stay organized\\n- Revenue: The income generated by a business from its sales\\n- Profit: The difference between a business's income and expenses\\n- Intermediaries: Companies that sell products or services on behalf of another company\"}"
     },
     "execution_count": 9,
     "metadata": {},
     "output_type": "execute_result"
    }
   ],
   "source": [
    "tiny_textbook[0]"
   ],
   "metadata": {
    "collapsed": false,
    "ExecuteTime": {
     "end_time": "2023-10-09T22:01:16.959750543Z",
     "start_time": "2023-10-09T22:01:16.953063170Z"
    }
   },
   "id": "425e46c56bc94354"
  },
  {
   "cell_type": "code",
   "execution_count": null,
   "outputs": [],
   "source": [],
   "metadata": {
    "collapsed": false
   },
   "id": "ab78bd91de216c49"
  }
 ],
 "metadata": {
  "kernelspec": {
   "display_name": "Python 3",
   "language": "python",
   "name": "python3"
  },
  "language_info": {
   "codemirror_mode": {
    "name": "ipython",
    "version": 2
   },
   "file_extension": ".py",
   "mimetype": "text/x-python",
   "name": "python",
   "nbconvert_exporter": "python",
   "pygments_lexer": "ipython2",
   "version": "2.7.6"
  }
 },
 "nbformat": 4,
 "nbformat_minor": 5
}

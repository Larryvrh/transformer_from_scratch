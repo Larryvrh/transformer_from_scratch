{
 "cells": [
  {
   "cell_type": "code",
   "execution_count": null,
   "id": "initial_id",
   "metadata": {
    "collapsed": true
   },
   "outputs": [],
   "source": [
    "import datasets\n",
    "from tokenizers import TRIETokenizerFast\n",
    "from matplotlib import pyplot as plt\n",
    "import json\n",
    "from tqdm.notebook import tqdm\n",
    "from dataloader import DatasetWriter, DatasetReader\n",
    "from typing import *\n",
    "import numpy as np\n",
    "from torch.utils.data import DataLoader"
   ]
  },
  {
   "cell_type": "code",
   "execution_count": null,
   "outputs": [],
   "source": [
    "tokenizer = TRIETokenizerFast('llama_vocab_pruned_32k.json')"
   ],
   "metadata": {
    "collapsed": false
   },
   "id": "7847819f5d451fc"
  },
  {
   "cell_type": "code",
   "execution_count": null,
   "outputs": [],
   "source": [
    "mini_pile = datasets.load_dataset('JeanKaddour/minipile', cache_dir='./corpus')"
   ],
   "metadata": {
    "collapsed": false
   },
   "id": "f89ae5e1cacef222"
  },
  {
   "cell_type": "code",
   "execution_count": null,
   "outputs": [],
   "source": [
    "def chunk_texts(texts: Iterable[str], min_tokens: int, max_tokens: int, chunk_size: int,\n",
    "                prefix: str = '', postfix: str = '',\n",
    "                drop_unaligned: bool = False):\n",
    "    chunk = []\n",
    "    for text in tqdm(texts):\n",
    "        encoded = tokenizer.encode(prefix + text + postfix)\n",
    "        if len(encoded) < min_tokens or len(encoded) > max_tokens:\n",
    "            continue\n",
    "        encoded_cursor = 0\n",
    "        while encoded_cursor < len(encoded):\n",
    "            chunk_append_size = min(chunk_size - len(chunk), len(encoded) - encoded_cursor)\n",
    "            if chunk_append_size == 0:\n",
    "                yield chunk\n",
    "                chunk = []\n",
    "                chunk_append_size = chunk_size\n",
    "            chunk += encoded[encoded_cursor:encoded_cursor + chunk_append_size]\n",
    "            encoded_cursor += chunk_append_size\n",
    "    if len(chunk) > 0 and (not drop_unaligned or len(chunk) == chunk_size):\n",
    "        yield chunk\n",
    "\n",
    "\n",
    "def serialize_dataset(file: str, texts: Iterable[str], min_tokens: int, max_tokens: int, chunk_size: int,\n",
    "                      prefix: str = '', postfix: str = ''):\n",
    "    writer = DatasetWriter(file, {'token_ids': np.uint16})\n",
    "    for entry in chunk_texts(texts, min_tokens, max_tokens, chunk_size, prefix, postfix, drop_unaligned=True):\n",
    "        writer.add_entry(token_ids=np.array(entry, dtype=np.uint16))\n",
    "    writer.finish()\n",
    "\n",
    "\n",
    "serialize_dataset('datasets/minipile_validation.bin', mini_pile['validation']['text'], min_tokens=128, max_tokens=2048 * 8, chunk_size=2048,\n",
    "                  prefix='<s>', postfix='</s>')"
   ],
   "metadata": {
    "collapsed": false
   },
   "id": "65e4629fb378ccad"
  },
  {
   "cell_type": "code",
   "execution_count": null,
   "outputs": [],
   "source": [],
   "metadata": {
    "collapsed": false
   },
   "id": "af3c25772151c04d"
  },
  {
   "cell_type": "code",
   "execution_count": null,
   "outputs": [],
   "source": [],
   "metadata": {
    "collapsed": false
   },
   "id": "3866f874b2e0aabe"
  }
 ],
 "metadata": {
  "kernelspec": {
   "display_name": "Python 3",
   "language": "python",
   "name": "python3"
  },
  "language_info": {
   "codemirror_mode": {
    "name": "ipython",
    "version": 2
   },
   "file_extension": ".py",
   "mimetype": "text/x-python",
   "name": "python",
   "nbconvert_exporter": "python",
   "pygments_lexer": "ipython2",
   "version": "2.7.6"
  }
 },
 "nbformat": 4,
 "nbformat_minor": 5
}

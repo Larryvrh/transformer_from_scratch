{
 "cells": [
  {
   "cell_type": "code",
   "execution_count": null,
   "id": "initial_id",
   "metadata": {},
   "outputs": [],
   "source": [
    "import datasets\n",
    "from tokenizers import TRIETokenizerFast\n",
    "from matplotlib import pyplot as plt\n",
    "import json\n",
    "from tqdm.notebook import tqdm\n",
    "from dataloader import DatasetWriter, DatasetReader\n",
    "from typing import *\n",
    "import numpy as np\n",
    "from torch.utils.data import DataLoader\n",
    "from functools import partial"
   ]
  },
  {
   "cell_type": "code",
   "execution_count": null,
   "id": "7847819f5d451fc",
   "metadata": {},
   "outputs": [],
   "source": [
    "tokenizer = TRIETokenizerFast('llama_vocab_pruned_32k.json')"
   ]
  },
  {
   "cell_type": "code",
   "execution_count": null,
   "id": "65e4629fb378ccad",
   "metadata": {},
   "outputs": [],
   "source": [
    "def chunk_texts(texts: Iterable[str], min_tokens: int, max_tokens: int, chunk_size: int, return_attn_mask: bool,\n",
    "                prefix: str = '', postfix: str = '',\n",
    "                drop_unaligned: bool = False):\n",
    "    chunk, mask, mask_index = [], [], 1\n",
    "    for text in tqdm(texts):\n",
    "        encoded = tokenizer.encode(prefix + text + postfix)\n",
    "        if len(encoded) < min_tokens or len(encoded) > max_tokens:\n",
    "            continue\n",
    "        encoded_cursor = 0\n",
    "        while encoded_cursor < len(encoded):\n",
    "            chunk_append_size = min(chunk_size - len(chunk), len(encoded) - encoded_cursor)\n",
    "            if chunk_append_size == 0:\n",
    "                yield (chunk, mask) if return_attn_mask else chunk\n",
    "                chunk, mask = [], []\n",
    "                mask_index = 1\n",
    "                chunk_append_size = min(chunk_size, len(encoded) - encoded_cursor)\n",
    "            chunk += encoded[encoded_cursor:encoded_cursor + chunk_append_size]\n",
    "            mask += [mask_index] * chunk_append_size\n",
    "            mask_index += 1\n",
    "            encoded_cursor += chunk_append_size\n",
    "    if len(chunk) > 0 and (not drop_unaligned or len(chunk) == chunk_size):\n",
    "        yield (chunk, mask) if return_attn_mask else chunk\n",
    "\n",
    "\n",
    "def serialize_dataset(file: str, texts: Iterable[str], min_tokens: int, max_tokens: int, chunk_size: int, return_attn_mask: bool,\n",
    "                      prefix: str = '', postfix: str = ''):\n",
    "    if return_attn_mask:\n",
    "        writer = DatasetWriter(file, {'token_ids': np.uint16, 'attn_mask': np.uint16})\n",
    "    else:\n",
    "        writer = DatasetWriter(file, {'token_ids': np.uint16})\n",
    "    for entry in chunk_texts(texts, min_tokens, max_tokens, chunk_size, return_attn_mask, prefix, postfix, drop_unaligned=True):\n",
    "        if return_attn_mask:\n",
    "            writer.add_entry(token_ids=np.array(entry[0], dtype=np.uint16), attn_mask=np.array(entry[1], dtype=np.uint16))\n",
    "        else:\n",
    "            writer.add_entry(token_ids=np.array(entry, dtype=np.uint16))\n",
    "    writer.finish()"
   ]
  },
  {
   "cell_type": "code",
   "execution_count": null,
   "id": "f89ae5e1cacef222",
   "metadata": {},
   "outputs": [],
   "source": [
    "# mini_pile = datasets.load_dataset('JeanKaddour/minipile', cache_dir='./corpus')"
   ]
  },
  {
   "cell_type": "code",
   "execution_count": null,
   "id": "af3c25772151c04d",
   "metadata": {},
   "outputs": [],
   "source": [
    "# serialize_dataset('datasets/minipile_valid.bin', mini_pile['validation']['text'], min_tokens=128, max_tokens=2048 * 8, chunk_size=2048,\n",
    "#                   prefix='<s>', postfix='</s>')"
   ]
  },
  {
   "cell_type": "code",
   "execution_count": null,
   "id": "3866f874b2e0aabe",
   "metadata": {},
   "outputs": [],
   "source": [
    "# serialize_dataset('datasets/minipile_train.bin', mini_pile['train']['text'], min_tokens=128, max_tokens=2048 * 8, chunk_size=2048,\n",
    "#                   prefix='<s>', postfix='</s>')"
   ]
  },
  {
   "cell_type": "code",
   "execution_count": null,
   "id": "ece83c5cce5d1e22",
   "metadata": {},
   "outputs": [],
   "source": [
    "# with open('corpus/TinyStoriesV2-GPT4-train.txt', 'r') as temp_file:\n",
    "#     tinystories_train = [l.strip() for l in temp_file.read().split('<|endoftext|>')][:-1]\n",
    "# serialize_dataset('datasets/tinystories_train_masked.bin', tinystories_train, min_tokens=128, max_tokens=2048 * 8, chunk_size=2048, return_attn_mask=True,\n",
    "#                   prefix='<s>', postfix='</s>')"
   ]
  },
  {
   "cell_type": "code",
   "execution_count": null,
   "id": "2ae81fe8",
   "metadata": {},
   "outputs": [],
   "source": [
    "# with open('corpus/TinyStoriesV2-GPT4-valid.txt', 'r') as temp_file:\n",
    "#     tinystories_valid = [l.strip() for l in temp_file.read().split('<|endoftext|>')][:-1]\n",
    "# serialize_dataset('datasets/tinystories_valid_masked.bin', tinystories_valid, min_tokens=128, max_tokens=2048 * 8, chunk_size=2048, return_attn_mask=True,\n",
    "#                   prefix='<s>', postfix='</s>')"
   ]
  },
  {
   "cell_type": "code",
   "execution_count": null,
   "outputs": [],
   "source": [
    "enwiki = datasets.load_dataset('teven/enwiki_100k', cache_dir='./corpus')['train']"
   ],
   "metadata": {
    "collapsed": false
   },
   "id": "70e4f7c2cd361091"
  },
  {
   "cell_type": "code",
   "execution_count": null,
   "outputs": [],
   "source": [
    "def enwiki_filter(row, min_length):\n",
    "    if len(row['text']) < min_length:\n",
    "        return False\n",
    "    if row['text'].endswith(':'):\n",
    "        return False\n",
    "    return True\n",
    "\n",
    "\n",
    "enwiki = enwiki.filter(partial(enwiki_filter, min_length=128))"
   ],
   "metadata": {
    "collapsed": false
   },
   "id": "a4b851beec8d4eaf"
  },
  {
   "cell_type": "code",
   "execution_count": null,
   "outputs": [],
   "source": [
    "serialize_dataset('datasets/enwiki_train.bin', enwiki['text'], min_tokens=128, max_tokens=2048 * 8, chunk_size=2048, return_attn_mask=False,\n",
    "                  prefix='<s>', postfix='</s>')"
   ],
   "metadata": {
    "collapsed": false
   },
   "id": "e124d168befe4a0f"
  },
  {
   "cell_type": "code",
   "execution_count": null,
   "outputs": [],
   "source": [
    "tiny_textbooks = datasets.load_dataset('nampdn-ai/tiny-textbooks', cache_dir='./corpus')['train']"
   ],
   "metadata": {
    "collapsed": false
   },
   "id": "f18210667f2e53a3"
  },
  {
   "cell_type": "code",
   "execution_count": null,
   "outputs": [],
   "source": [
    "serialize_dataset('datasets/tinytextbooks_train.bin', tiny_textbooks['textbook'], min_tokens=128, max_tokens=2048 * 8, chunk_size=2048, return_attn_mask=False,\n",
    "                  prefix='<s>', postfix='</s>')"
   ],
   "metadata": {
    "collapsed": false
   },
   "id": "89baea97ec62a8bd"
  },
  {
   "cell_type": "code",
   "execution_count": null,
   "outputs": [],
   "source": [],
   "metadata": {
    "collapsed": false
   },
   "id": "9ee71a04da2ee482"
  }
 ],
 "metadata": {
  "kernelspec": {
   "display_name": "Python 3 (ipykernel)",
   "language": "python",
   "name": "python3"
  },
  "language_info": {
   "codemirror_mode": {
    "name": "ipython",
    "version": 3
   },
   "file_extension": ".py",
   "mimetype": "text/x-python",
   "name": "python",
   "nbconvert_exporter": "python",
   "pygments_lexer": "ipython3",
   "version": "3.10.12"
  }
 },
 "nbformat": 4,
 "nbformat_minor": 5
}

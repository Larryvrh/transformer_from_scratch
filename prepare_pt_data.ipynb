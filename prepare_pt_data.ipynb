{
 "cells": [
  {
   "cell_type": "code",
   "execution_count": 1,
   "id": "initial_id",
   "metadata": {
    "ExecuteTime": {
     "end_time": "2023-10-23T23:10:38.066027379Z",
     "start_time": "2023-10-23T23:10:36.940352748Z"
    }
   },
   "outputs": [],
   "source": [
    "import datasets\n",
    "from tokenizers import TRIETokenizerFast\n",
    "from matplotlib import pyplot as plt\n",
    "import json\n",
    "from tqdm.notebook import tqdm\n",
    "from dataloader import DatasetWriter, DatasetReader\n",
    "from typing import *\n",
    "import numpy as np\n",
    "from torch.utils.data import DataLoader"
   ]
  },
  {
   "cell_type": "code",
   "execution_count": 2,
   "id": "7847819f5d451fc",
   "metadata": {
    "ExecuteTime": {
     "end_time": "2023-10-23T23:10:46.033843494Z",
     "start_time": "2023-10-23T23:10:38.140327492Z"
    }
   },
   "outputs": [],
   "source": [
    "tokenizer = TRIETokenizerFast('llama_vocab_pruned_32k.json')"
   ]
  },
  {
   "cell_type": "code",
   "execution_count": 3,
   "id": "65e4629fb378ccad",
   "metadata": {
    "ExecuteTime": {
     "end_time": "2023-10-23T23:10:46.040800902Z",
     "start_time": "2023-10-23T23:10:46.036598457Z"
    }
   },
   "outputs": [],
   "source": [
    "def chunk_texts(texts: Iterable[str], min_tokens: int, max_tokens: int, chunk_size: int, return_attn_mask: bool,\n",
    "                prefix: str = '', postfix: str = '',\n",
    "                drop_unaligned: bool = False):\n",
    "    chunk, mask, mask_index = [], [], 1\n",
    "    for text in tqdm(texts):\n",
    "        encoded = tokenizer.encode(prefix + text + postfix)\n",
    "        if len(encoded) < min_tokens or len(encoded) > max_tokens:\n",
    "            continue\n",
    "        encoded_cursor = 0\n",
    "        while encoded_cursor < len(encoded):\n",
    "            chunk_append_size = min(chunk_size - len(chunk), len(encoded) - encoded_cursor)\n",
    "            if chunk_append_size == 0:\n",
    "                yield (chunk, mask) if return_attn_mask else chunk\n",
    "                chunk, mask = [], []\n",
    "                mask_index = 1\n",
    "                chunk_append_size = min(chunk_size, len(encoded) - encoded_cursor)\n",
    "            chunk += encoded[encoded_cursor:encoded_cursor + chunk_append_size]\n",
    "            mask += [mask_index] * chunk_append_size\n",
    "            mask_index += 1\n",
    "            encoded_cursor += chunk_append_size\n",
    "    if len(chunk) > 0 and (not drop_unaligned or len(chunk) == chunk_size):\n",
    "        yield (chunk, mask) if return_attn_mask else chunk\n",
    "\n",
    "\n",
    "def serialize_dataset(file: str, texts: Iterable[str], min_tokens: int, max_tokens: int, chunk_size: int, return_attn_mask: bool,\n",
    "                      prefix: str = '', postfix: str = ''):\n",
    "    if return_attn_mask:\n",
    "        writer = DatasetWriter(file, {'token_ids': np.uint16, 'attn_mask': np.uint16})\n",
    "    else:\n",
    "        writer = DatasetWriter(file, {'token_ids': np.uint16})\n",
    "    for entry in chunk_texts(texts, min_tokens, max_tokens, chunk_size, return_attn_mask, prefix, postfix, drop_unaligned=True):\n",
    "        if return_attn_mask:\n",
    "            writer.add_entry(token_ids=np.array(entry[0], dtype=np.uint16), attn_mask=np.array(entry[1], dtype=np.uint16))\n",
    "        else:\n",
    "            writer.add_entry(token_ids=np.array(entry, dtype=np.uint16))\n",
    "    writer.finish()"
   ]
  },
  {
   "cell_type": "code",
   "execution_count": 4,
   "id": "f89ae5e1cacef222",
   "metadata": {
    "ExecuteTime": {
     "end_time": "2023-10-23T23:10:46.624744891Z",
     "start_time": "2023-10-23T23:10:46.621414792Z"
    }
   },
   "outputs": [],
   "source": [
    "# mini_pile = datasets.load_dataset('JeanKaddour/minipile', cache_dir='./corpus')"
   ]
  },
  {
   "cell_type": "code",
   "execution_count": 5,
   "id": "af3c25772151c04d",
   "metadata": {
    "ExecuteTime": {
     "end_time": "2023-10-23T23:10:46.999703796Z",
     "start_time": "2023-10-23T23:10:46.996385261Z"
    }
   },
   "outputs": [],
   "source": [
    "# serialize_dataset('datasets/minipile_valid.bin', mini_pile['validation']['text'], min_tokens=128, max_tokens=2048 * 8, chunk_size=2048,\n",
    "#                   prefix='<s>', postfix='</s>')"
   ]
  },
  {
   "cell_type": "code",
   "execution_count": 6,
   "id": "3866f874b2e0aabe",
   "metadata": {
    "ExecuteTime": {
     "end_time": "2023-10-23T23:10:47.417482532Z",
     "start_time": "2023-10-23T23:10:47.415295840Z"
    }
   },
   "outputs": [],
   "source": [
    "# serialize_dataset('datasets/minipile_train.bin', mini_pile['train']['text'], min_tokens=128, max_tokens=2048 * 8, chunk_size=2048,\n",
    "#                   prefix='<s>', postfix='</s>')"
   ]
  },
  {
   "cell_type": "code",
   "execution_count": 7,
   "id": "ece83c5cce5d1e22",
   "metadata": {
    "ExecuteTime": {
     "end_time": "2023-10-23T23:10:53.696184270Z",
     "start_time": "2023-10-23T23:10:48.005238475Z"
    }
   },
   "outputs": [],
   "source": [
    "with open('corpus/TinyStoriesV2-GPT4-train.txt', 'r') as temp_file:\n",
    "    tinystories_train = [l.strip() for l in temp_file.read().split('<|endoftext|>')][:-1]"
   ]
  },
  {
   "cell_type": "code",
   "execution_count": 8,
   "id": "2ae81fe8",
   "metadata": {
    "ExecuteTime": {
     "end_time": "2023-10-23T23:15:19.995595787Z",
     "start_time": "2023-10-23T23:10:55.209138626Z"
    }
   },
   "outputs": [
    {
     "data": {
      "text/plain": "  0%|          | 0/2717699 [00:00<?, ?it/s]",
      "application/vnd.jupyter.widget-view+json": {
       "version_major": 2,
       "version_minor": 0,
       "model_id": "1abafe6afdcd4a2eaab4eb295ecfa9dd"
      }
     },
     "metadata": {},
     "output_type": "display_data"
    }
   ],
   "source": [
    "serialize_dataset('datasets/tinystories_train_masked.bin', tinystories_train, min_tokens=128, max_tokens=2048 * 8, chunk_size=2048, return_attn_mask=True,\n",
    "                  prefix='<s>', postfix='</s>')"
   ]
  },
  {
   "cell_type": "code",
   "execution_count": null,
   "outputs": [],
   "source": [],
   "metadata": {
    "collapsed": false
   },
   "id": "70e4f7c2cd361091"
  }
 ],
 "metadata": {
  "kernelspec": {
   "display_name": "Python 3 (ipykernel)",
   "language": "python",
   "name": "python3"
  },
  "language_info": {
   "codemirror_mode": {
    "name": "ipython",
    "version": 3
   },
   "file_extension": ".py",
   "mimetype": "text/x-python",
   "name": "python",
   "nbconvert_exporter": "python",
   "pygments_lexer": "ipython3",
   "version": "3.10.12"
  }
 },
 "nbformat": 4,
 "nbformat_minor": 5
}

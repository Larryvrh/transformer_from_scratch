{
 "cells": [
  {
   "cell_type": "code",
   "execution_count": 1,
   "id": "initial_id",
   "metadata": {
    "collapsed": true,
    "ExecuteTime": {
     "end_time": "2023-11-01T21:00:27.452260553Z",
     "start_time": "2023-11-01T21:00:26.212830518Z"
    }
   },
   "outputs": [],
   "source": [
    "import datasets\n",
    "from tokenizers import TRIETokenizerFast\n",
    "from matplotlib import pyplot as plt\n",
    "import json\n",
    "from tqdm.notebook import tqdm\n",
    "from dataloader import DatasetWriter, SingleDatasetReader\n",
    "from typing import *\n",
    "import numpy as np\n",
    "from torch.utils.data import DataLoader\n",
    "from functools import partial"
   ]
  },
  {
   "cell_type": "code",
   "execution_count": 2,
   "outputs": [],
   "source": [
    "tokenizer = TRIETokenizerFast('llama_vocab_pruned_32k.json')"
   ],
   "metadata": {
    "collapsed": false,
    "ExecuteTime": {
     "end_time": "2023-11-01T21:00:41.284739719Z",
     "start_time": "2023-11-01T21:00:33.198407260Z"
    }
   },
   "id": "1d265892fe30a6d4"
  },
  {
   "cell_type": "code",
   "execution_count": 4,
   "outputs": [],
   "source": [
    "alpaca_gpt = datasets.load_dataset('vicgalle/alpaca-gpt4', cache_dir='./corpus')"
   ],
   "metadata": {
    "collapsed": false,
    "ExecuteTime": {
     "start_time": "2023-11-01T21:01:49.928074297Z"
    }
   },
   "id": "794851e03446e7ea"
  },
  {
   "cell_type": "code",
   "execution_count": 8,
   "outputs": [],
   "source": [
    "airoboros = datasets.load_dataset('jondurbin/airoboros-2.2.1', cache_dir='./corpus')"
   ],
   "metadata": {
    "collapsed": false,
    "ExecuteTime": {
     "start_time": "2023-11-01T21:03:31.572263253Z"
    }
   },
   "id": "25f21ce32b9a3211"
  },
  {
   "cell_type": "code",
   "execution_count": 11,
   "outputs": [
    {
     "name": "stderr",
     "output_type": "stream",
     "text": [
      "Repo card metadata block was not found. Setting CardData to empty.\n"
     ]
    }
   ],
   "source": [
    "wizardlm = datasets.load_dataset('WizardLM/WizardLM_evol_instruct_V2_196k', cache_dir='./corpus')"
   ],
   "metadata": {
    "collapsed": false,
    "ExecuteTime": {
     "start_time": "2023-11-01T21:08:08.975834851Z"
    }
   },
   "id": "14ddd1dc80bb3646"
  },
  {
   "cell_type": "code",
   "execution_count": 142,
   "outputs": [],
   "source": [
    "def preview_chunk(token_ids, attn_mask, loss_mask):\n",
    "    unique_mask = [i for i in set(attn_mask) if i != 0]\n",
    "    print(f'Total {len(unique_mask)} dialogues within chunk.')\n",
    "    for m in unique_mask:\n",
    "        print(f'Dialogue index {m}')\n",
    "        dialogue_token_ids = [token_ids[i] for i in range(len(token_ids)) if attn_mask[i] == m]\n",
    "        dialogue_token_ids_loss = [token_ids[i] for i in range(len(token_ids)) if attn_mask[i] == m and loss_mask[i] == 1]\n",
    "        print('Full text:')\n",
    "        print(tokenizer.decode(dialogue_token_ids))\n",
    "        print('-' * 80)\n",
    "        print('Loss text:')\n",
    "        print(tokenizer.decode(dialogue_token_ids_loss))\n",
    "        print('=' * 80)"
   ],
   "metadata": {
    "collapsed": false,
    "ExecuteTime": {
     "end_time": "2023-11-02T01:35:11.144904752Z",
     "start_time": "2023-11-02T01:35:11.101709171Z"
    }
   },
   "id": "308c5261ca3e996a"
  },
  {
   "cell_type": "code",
   "execution_count": 111,
   "outputs": [],
   "source": [
    "def dialogues_to_chunks(dialogues: List[List[Tuple[str, str]]], chunk_length: int, max_message_length: int, overlap_count: int):\n",
    "    assert max_message_length * overlap_count < chunk_length, 'max_message_length * overlap_count >= chunk_size can cause infinite loop'\n",
    "\n",
    "    skip_dialogue_count = 0\n",
    "\n",
    "    start_tokens = tokenizer.encode('<s>A chat between User and Assistant.\\n')\n",
    "\n",
    "    mask_index = 0\n",
    "    token_ids, attn_mask, loss_mask = [], [], []\n",
    "\n",
    "    for dial in tqdm(dialogues):\n",
    "        dial_encoded = [(m[0], tokenizer.encode(f'{m[0]}:{m[1]}' + {'User': '\\n', 'Assistant': '</s>\\n'}[m[0]])) for m in dial]\n",
    "        if any(len(m[1]) > max_message_length for m in dial_encoded):\n",
    "            skip_dialogue_count += 1\n",
    "            continue\n",
    "\n",
    "        mask_index += 1\n",
    "        if chunk_length - len(token_ids) <= len(start_tokens):\n",
    "            pad_length = chunk_length - len(token_ids)\n",
    "            token_ids += [0 for _ in range(pad_length)]\n",
    "            attn_mask += [0 for _ in range(pad_length)]\n",
    "            loss_mask += [0 for _ in range(pad_length)]\n",
    "            assert len(token_ids) == len(attn_mask) == len(loss_mask) == chunk_length\n",
    "            yield token_ids, attn_mask, loss_mask\n",
    "            mask_index = 1\n",
    "            token_ids, attn_mask, loss_mask = start_tokens.copy(), [1 for _ in range(len(start_tokens))], [0 for _ in range(len(start_tokens))]\n",
    "        else:\n",
    "            token_ids += start_tokens\n",
    "            attn_mask += [mask_index for _ in range(len(start_tokens))]\n",
    "            loss_mask += [0 for _ in range(len(start_tokens))]\n",
    "\n",
    "        msg_index, max_msg_index = 0, -1\n",
    "        while msg_index < len(dial_encoded):\n",
    "            src, msg = dial_encoded[msg_index]\n",
    "            append_length = min(chunk_length - len(token_ids), len(msg))\n",
    "            token_ids += msg[:append_length]\n",
    "            attn_mask += [mask_index for _ in range(append_length)]\n",
    "            loss_mask += [0 for _ in range(append_length)] if src == 'User' or msg_index <= max_msg_index else [1 for _ in range(append_length)]\n",
    "            max_msg_index = max(msg_index, max_msg_index)\n",
    "            if len(token_ids) == chunk_length:\n",
    "                assert len(token_ids) == len(attn_mask) == len(loss_mask) == chunk_length\n",
    "                yield token_ids, attn_mask, loss_mask\n",
    "                mask_index = 1\n",
    "                token_ids, attn_mask, loss_mask = [], [], []\n",
    "                msg_index -= min(overlap_count, msg_index)\n",
    "            else:\n",
    "                msg_index += 1\n",
    "\n",
    "    if len(token_ids) > len(start_tokens):\n",
    "        pad_length = chunk_length - len(token_ids)\n",
    "        token_ids += [0 for _ in range(pad_length)]\n",
    "        attn_mask += [0 for _ in range(pad_length)]\n",
    "        loss_mask += [0 for _ in range(pad_length)]\n",
    "        assert len(token_ids) == len(attn_mask) == len(loss_mask) == chunk_length\n",
    "        yield token_ids, attn_mask, loss_mask\n",
    "\n",
    "    print(f'Skipped {skip_dialogue_count}/{len(dialogues)} dialogues.')"
   ],
   "metadata": {
    "collapsed": false,
    "ExecuteTime": {
     "start_time": "2023-11-02T01:23:31.362794784Z"
    }
   },
   "id": "4d4cdc0410da09e7"
  },
  {
   "cell_type": "code",
   "execution_count": 146,
   "outputs": [],
   "source": [
    "def write_out_dataset(file, entries):\n",
    "    writer = DatasetWriter(file, {'token_ids': np.uint16, 'attn_mask': np.uint16, 'loss_mask': np.uint16})\n",
    "    for (token_ids, attn_mask, loss_mask) in tqdm(entries):\n",
    "        writer.add_entry(token_ids=np.array(token_ids, dtype=np.uint16),\n",
    "                         attn_mask=np.array(attn_mask, dtype=np.uint16),\n",
    "                         loss_mask=np.array(loss_mask, dtype=np.uint16))\n",
    "    writer.finish()"
   ],
   "metadata": {
    "collapsed": false,
    "ExecuteTime": {
     "end_time": "2023-11-02T01:40:49.174339453Z",
     "start_time": "2023-11-02T01:40:49.172333730Z"
    }
   },
   "id": "5a2936bf78b4d29f"
  },
  {
   "cell_type": "code",
   "execution_count": 112,
   "outputs": [],
   "source": [
    "dialogues_to_chunks_1024 = partial(dialogues_to_chunks, chunk_length=1024, max_message_length=450, overlap_count=1)"
   ],
   "metadata": {
    "collapsed": false,
    "ExecuteTime": {
     "start_time": "2023-11-02T01:23:32.061447039Z"
    }
   },
   "id": "599634ebe9529eba"
  },
  {
   "cell_type": "code",
   "execution_count": 135,
   "outputs": [],
   "source": [
    "def alpaca_to_dialogue(alpaca_sample):\n",
    "    return [('User', alpaca_sample['instruction'] + (f'\\n{alpaca_sample[\"input\"]}' if alpaca_sample['input'] != '' else '')),\n",
    "            ('Assistant', alpaca_sample['output'])]\n",
    "\n",
    "\n",
    "alpaca_diags = [alpaca_to_dialogue(d) for d in alpaca_gpt['train']]"
   ],
   "metadata": {
    "collapsed": false,
    "ExecuteTime": {
     "end_time": "2023-11-02T01:31:40.301098339Z",
     "start_time": "2023-11-02T01:31:39.547010908Z"
    }
   },
   "id": "f7f548285266d4c4"
  },
  {
   "cell_type": "code",
   "execution_count": 136,
   "outputs": [
    {
     "data": {
      "text/plain": "  0%|          | 0/52002 [00:00<?, ?it/s]",
      "application/vnd.jupyter.widget-view+json": {
       "version_major": 2,
       "version_minor": 0,
       "model_id": "8078fecd11a14bfa925ce66dfee76a91"
      }
     },
     "metadata": {},
     "output_type": "display_data"
    },
    {
     "name": "stdout",
     "output_type": "stream",
     "text": [
      "Skipped 2888 dialogues.\n"
     ]
    }
   ],
   "source": [
    "alpaca_chunks = [x for x in dialogues_to_chunks_1024(alpaca_diags)]"
   ],
   "metadata": {
    "collapsed": false,
    "ExecuteTime": {
     "end_time": "2023-11-02T01:32:05.299359498Z",
     "start_time": "2023-11-02T01:31:59.482773592Z"
    }
   },
   "id": "b8d9c00c339a9ade"
  },
  {
   "cell_type": "code",
   "execution_count": 147,
   "outputs": [
    {
     "data": {
      "text/plain": "  0%|          | 0/9956 [00:00<?, ?it/s]",
      "application/vnd.jupyter.widget-view+json": {
       "version_major": 2,
       "version_minor": 0,
       "model_id": "e33e39e4bcfd49f88e3b0f31b8adf612"
      }
     },
     "metadata": {},
     "output_type": "display_data"
    }
   ],
   "source": [
    "write_out_dataset('datasets/sft/alpaca_gpt4.bin', alpaca_chunks)"
   ],
   "metadata": {
    "collapsed": false,
    "ExecuteTime": {
     "end_time": "2023-11-02T01:40:51.861173340Z",
     "start_time": "2023-11-02T01:40:51.357577919Z"
    }
   },
   "id": "47f88fc2b7560672"
  },
  {
   "cell_type": "code",
   "execution_count": 155,
   "outputs": [],
   "source": [
    "airoboros_diags = [[('User', d['instruction']), ('Assistant', d['response'])] for d in airoboros['train'] if not 'contextual' in d['category']]"
   ],
   "metadata": {
    "collapsed": false,
    "ExecuteTime": {
     "end_time": "2023-11-02T01:45:36.370453989Z",
     "start_time": "2023-11-02T01:45:35.596494007Z"
    }
   },
   "id": "a07e2445bed5ce56"
  },
  {
   "cell_type": "code",
   "execution_count": 158,
   "outputs": [
    {
     "data": {
      "text/plain": "  0%|          | 0/40331 [00:00<?, ?it/s]",
      "application/vnd.jupyter.widget-view+json": {
       "version_major": 2,
       "version_minor": 0,
       "model_id": "c374ad2de02641778cbf64dcc95f304c"
      }
     },
     "metadata": {},
     "output_type": "display_data"
    },
    {
     "name": "stdout",
     "output_type": "stream",
     "text": [
      "Skipped 11984 dialogues.\n"
     ]
    }
   ],
   "source": [
    "airoboros_chunks = [x for x in dialogues_to_chunks_1024(airoboros_diags)]"
   ],
   "metadata": {
    "collapsed": false,
    "ExecuteTime": {
     "end_time": "2023-11-02T01:46:12.336970212Z",
     "start_time": "2023-11-02T01:46:03.916280342Z"
    }
   },
   "id": "eeb552c069dfef66"
  },
  {
   "cell_type": "code",
   "execution_count": 160,
   "outputs": [
    {
     "data": {
      "text/plain": "  0%|          | 0/7447 [00:00<?, ?it/s]",
      "application/vnd.jupyter.widget-view+json": {
       "version_major": 2,
       "version_minor": 0,
       "model_id": "573b48b7f20149a3800be521d5f31e85"
      }
     },
     "metadata": {},
     "output_type": "display_data"
    }
   ],
   "source": [
    "write_out_dataset('datasets/sft/airoboros_2.2.1.bin', airoboros_chunks)"
   ],
   "metadata": {
    "collapsed": false,
    "ExecuteTime": {
     "end_time": "2023-11-02T01:46:36.587722576Z",
     "start_time": "2023-11-02T01:46:36.196675903Z"
    }
   },
   "id": "1965469a519fc50b"
  },
  {
   "cell_type": "code",
   "execution_count": 113,
   "outputs": [],
   "source": [
    "wizardlm_diags = [[('User' if msg['from'] == 'human' else 'Assistant', msg['value']) for msg in diag] for diag in wizardlm['train']['conversations']]"
   ],
   "metadata": {
    "collapsed": false,
    "ExecuteTime": {
     "start_time": "2023-11-02T01:23:32.922392951Z"
    }
   },
   "id": "ac6cbd4ad2be241d"
  },
  {
   "cell_type": "code",
   "execution_count": 117,
   "outputs": [
    {
     "data": {
      "text/plain": "  0%|          | 0/143000 [00:00<?, ?it/s]",
      "application/vnd.jupyter.widget-view+json": {
       "version_major": 2,
       "version_minor": 0,
       "model_id": "cfc6f18b958549a8a0182ff96c589aa4"
      }
     },
     "metadata": {},
     "output_type": "display_data"
    },
    {
     "name": "stdout",
     "output_type": "stream",
     "text": [
      "Skipped 61171 dialogues.\n"
     ]
    }
   ],
   "source": [
    "wizardlm_chunks = [x for x in dialogues_to_chunks_1024(wizardlm_diags)]"
   ],
   "metadata": {
    "collapsed": false,
    "ExecuteTime": {
     "start_time": "2023-11-02T01:24:52.326532079Z"
    }
   },
   "id": "32fdbfc8a41e5a64"
  },
  {
   "cell_type": "code",
   "execution_count": 151,
   "outputs": [
    {
     "data": {
      "text/plain": "  0%|          | 0/35655 [00:00<?, ?it/s]",
      "application/vnd.jupyter.widget-view+json": {
       "version_major": 2,
       "version_minor": 0,
       "model_id": "80d66f4bee7f402592d9b1b14e0d2bc0"
      }
     },
     "metadata": {},
     "output_type": "display_data"
    }
   ],
   "source": [
    "write_out_dataset('datasets/sft/wizardlm_evol_2.bin', wizardlm_chunks)"
   ],
   "metadata": {
    "collapsed": false,
    "ExecuteTime": {
     "end_time": "2023-11-02T01:42:29.545171695Z",
     "start_time": "2023-11-02T01:42:27.744695008Z"
    }
   },
   "id": "fdedb28c9fe67ceb"
  },
  {
   "cell_type": "code",
   "execution_count": 150,
   "outputs": [],
   "source": [],
   "metadata": {
    "collapsed": false,
    "ExecuteTime": {
     "end_time": "2023-11-02T01:42:03.072970803Z",
     "start_time": "2023-11-02T01:42:03.029639888Z"
    }
   },
   "id": "56ea6d05afd4304b"
  },
  {
   "cell_type": "code",
   "execution_count": null,
   "outputs": [],
   "source": [],
   "metadata": {
    "collapsed": false
   },
   "id": "f460024f9b61f5b7"
  }
 ],
 "metadata": {
  "kernelspec": {
   "display_name": "Python 3",
   "language": "python",
   "name": "python3"
  },
  "language_info": {
   "codemirror_mode": {
    "name": "ipython",
    "version": 2
   },
   "file_extension": ".py",
   "mimetype": "text/x-python",
   "name": "python",
   "nbconvert_exporter": "python",
   "pygments_lexer": "ipython2",
   "version": "2.7.6"
  }
 },
 "nbformat": 4,
 "nbformat_minor": 5
}

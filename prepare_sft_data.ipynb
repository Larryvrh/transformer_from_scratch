{
 "cells": [
  {
   "cell_type": "code",
   "execution_count": 1,
   "id": "initial_id",
   "metadata": {
    "collapsed": true,
    "ExecuteTime": {
     "end_time": "2023-11-05T19:21:15.620758781Z",
     "start_time": "2023-11-05T19:21:14.403129233Z"
    }
   },
   "outputs": [],
   "source": [
    "import datasets\n",
    "from tokenizers import TRIETokenizerFast\n",
    "from matplotlib import pyplot as plt\n",
    "import json\n",
    "from tqdm.notebook import tqdm\n",
    "from dataloader import DatasetWriter, SingleDatasetReader\n",
    "from typing import *\n",
    "import numpy as np\n",
    "from torch.utils.data import DataLoader\n",
    "from functools import partial\n",
    "import re"
   ]
  },
  {
   "cell_type": "code",
   "execution_count": 2,
   "outputs": [],
   "source": [
    "tokenizer = TRIETokenizerFast('llama_vocab_pruned_32k.json')"
   ],
   "metadata": {
    "collapsed": false,
    "ExecuteTime": {
     "end_time": "2023-11-05T19:21:23.724432869Z",
     "start_time": "2023-11-05T19:21:15.621668919Z"
    }
   },
   "id": "1d265892fe30a6d4"
  },
  {
   "cell_type": "code",
   "execution_count": null,
   "outputs": [],
   "source": [
    "alpaca_gpt = datasets.load_dataset('vicgalle/alpaca-gpt4', cache_dir='./corpus')"
   ],
   "metadata": {
    "collapsed": false
   },
   "id": "794851e03446e7ea"
  },
  {
   "cell_type": "code",
   "execution_count": null,
   "outputs": [],
   "source": [
    "airoboros = datasets.load_dataset('jondurbin/airoboros-2.2.1', cache_dir='./corpus')"
   ],
   "metadata": {
    "collapsed": false
   },
   "id": "25f21ce32b9a3211"
  },
  {
   "cell_type": "code",
   "execution_count": null,
   "outputs": [],
   "source": [
    "wizardlm = datasets.load_dataset('WizardLM/WizardLM_evol_instruct_V2_196k', cache_dir='./corpus')"
   ],
   "metadata": {
    "collapsed": false
   },
   "id": "14ddd1dc80bb3646"
  },
  {
   "cell_type": "code",
   "execution_count": null,
   "outputs": [],
   "source": [
    "sharegpt4 = datasets.load_dataset('shibing624/sharegpt_gpt4', cache_dir='./corpus')"
   ],
   "metadata": {
    "collapsed": false
   },
   "id": "56ea6d05afd4304b"
  },
  {
   "cell_type": "code",
   "execution_count": null,
   "outputs": [],
   "source": [
    "def sharegpt4_en_filter(entry):\n",
    "    conv = entry['conversations']\n",
    "    # print([re.findall(r'[^a-zA-Z0-9!@#$%^&*()_\\-+=\\[\\]{}|\\\\;:\\'\",<>/?.`~\\n\\t\\r ]', c['value']) for c in conv])\n",
    "    return all(len(re.findall(r'[^a-zA-Z0-9!@#$%^&*()_\\-+=\\[\\]{}|\\\\;:\\'\",<>/?.`~\\n\\t\\r ]', c['value'])) == 0 for c in conv)"
   ],
   "metadata": {
    "collapsed": false
   },
   "id": "e4ff1872c5936a24"
  },
  {
   "cell_type": "code",
   "execution_count": null,
   "outputs": [],
   "source": [
    "sharegpt4_en = sharegpt4.filter(sharegpt4_en_filter)"
   ],
   "metadata": {
    "collapsed": false
   },
   "id": "303923f85843fd06"
  },
  {
   "cell_type": "code",
   "execution_count": 4,
   "outputs": [],
   "source": [
    "ultrachat = datasets.load_dataset('HuggingFaceH4/ultrachat_200k', cache_dir='./corpus')"
   ],
   "metadata": {
    "collapsed": false,
    "ExecuteTime": {
     "end_time": "2023-11-05T19:22:49.339200242Z",
     "start_time": "2023-11-05T19:22:48.644319770Z"
    }
   },
   "id": "f05d3b4aac41734b"
  },
  {
   "cell_type": "code",
   "execution_count": 9,
   "outputs": [
    {
     "data": {
      "text/plain": "Filter:   0%|          | 0/207865 [00:00<?, ? examples/s]",
      "application/vnd.jupyter.widget-view+json": {
       "version_major": 2,
       "version_minor": 0,
       "model_id": "11cd2c90ead9464c846b85b8cee58d27"
      }
     },
     "metadata": {},
     "output_type": "display_data"
    }
   ],
   "source": [
    "def ultrachat_en_filter(entry):\n",
    "    conv = entry['messages']\n",
    "    # print([re.findall(r'[^a-zA-Z0-9!@#$%^&*()_\\-+=\\[\\]{}|\\\\;:\\'\",<>/?.`~\\n\\t\\r ]', c['value']) for c in conv])\n",
    "    return all(len(re.findall(r'[^a-zA-Z0-9!@#$%^&*()_\\-+=\\[\\]{}|\\\\;:\\'\",<>/?.`~\\n\\t\\r ]', c['content'])) == 0 for c in conv)\n",
    "\n",
    "ultrachat_en = ultrachat['train_sft'].filter(ultrachat_en_filter)"
   ],
   "metadata": {
    "collapsed": false,
    "ExecuteTime": {
     "end_time": "2023-11-05T19:26:34.048115864Z",
     "start_time": "2023-11-05T19:26:27.994135078Z"
    }
   },
   "id": "7bc90666e416bb4e"
  },
  {
   "cell_type": "code",
   "execution_count": 17,
   "outputs": [],
   "source": [
    "def preview_chunk(token_ids, attn_mask, loss_mask):\n",
    "    unique_mask = [i for i in set(attn_mask) if i != 0]\n",
    "    print(f'Total {len(unique_mask)} dialogues within chunk.')\n",
    "    for m in unique_mask:\n",
    "        print(f'Dialogue index {m}')\n",
    "        dialogue_token_ids = [token_ids[i] for i in range(len(token_ids)) if attn_mask[i] == m]\n",
    "        dialogue_token_ids_loss = [token_ids[i] for i in range(len(token_ids)) if attn_mask[i] == m and loss_mask[i] == 1]\n",
    "        print('Full text:')\n",
    "        print(tokenizer.decode(dialogue_token_ids))\n",
    "        print('-' * 80)\n",
    "        print('Loss text:')\n",
    "        print(tokenizer.decode(dialogue_token_ids_loss))\n",
    "        print('=' * 80)"
   ],
   "metadata": {
    "collapsed": false,
    "ExecuteTime": {
     "end_time": "2023-11-05T19:29:44.451302005Z",
     "start_time": "2023-11-05T19:29:44.407167191Z"
    }
   },
   "id": "308c5261ca3e996a"
  },
  {
   "cell_type": "code",
   "execution_count": 18,
   "outputs": [],
   "source": [
    "def dialogues_to_chunks(dialogues: List[List[Tuple[str, str]]], chunk_length: int, max_message_length: int, overlap_count: int):\n",
    "    assert max_message_length * overlap_count < chunk_length, 'max_message_length * overlap_count >= chunk_size can cause infinite loop'\n",
    "\n",
    "    skip_dialogue_count = 0\n",
    "\n",
    "    start_tokens = tokenizer.encode('<s>A chat between User and Assistant.\\n')\n",
    "\n",
    "    mask_index = 0\n",
    "    token_ids, attn_mask, loss_mask = [], [], []\n",
    "\n",
    "    for dial in tqdm(dialogues):\n",
    "        dial_encoded = [(m[0], tokenizer.encode(f'{m[0]}:{m[1]}' + {'User': '\\n', 'Assistant': '</s>\\n'}[m[0]])) for m in dial]\n",
    "        if any(len(m[1]) > max_message_length for m in dial_encoded):\n",
    "            skip_dialogue_count += 1\n",
    "            continue\n",
    "\n",
    "        mask_index += 1\n",
    "        if chunk_length - len(token_ids) <= len(start_tokens):\n",
    "            pad_length = chunk_length - len(token_ids)\n",
    "            token_ids += [0 for _ in range(pad_length)]\n",
    "            attn_mask += [chunk_length + 1 for _ in range(pad_length)]  # use standalone index for padding mask to avoid \"void attention\"\n",
    "            loss_mask += [0 for _ in range(pad_length)]\n",
    "            assert len(token_ids) == len(attn_mask) == len(loss_mask) == chunk_length\n",
    "            yield token_ids, attn_mask, loss_mask\n",
    "            mask_index = 1\n",
    "            token_ids, attn_mask, loss_mask = start_tokens.copy(), [1 for _ in range(len(start_tokens))], [0 for _ in range(len(start_tokens))]\n",
    "        else:\n",
    "            token_ids += start_tokens\n",
    "            attn_mask += [mask_index for _ in range(len(start_tokens))]\n",
    "            loss_mask += [0 for _ in range(len(start_tokens))]\n",
    "\n",
    "        msg_index, max_msg_index = 0, -1\n",
    "        while msg_index < len(dial_encoded):\n",
    "            src, msg = dial_encoded[msg_index]\n",
    "            append_length = min(chunk_length - len(token_ids), len(msg))\n",
    "            token_ids += msg[:append_length]\n",
    "            attn_mask += [mask_index for _ in range(append_length)]\n",
    "            loss_mask += [0 for _ in range(append_length)] if src == 'User' or msg_index <= max_msg_index else [1 for _ in range(append_length)]\n",
    "            max_msg_index = max(msg_index, max_msg_index)\n",
    "            if len(token_ids) == chunk_length:\n",
    "                assert len(token_ids) == len(attn_mask) == len(loss_mask) == chunk_length\n",
    "                yield token_ids, attn_mask, loss_mask\n",
    "                mask_index = 1\n",
    "                token_ids, attn_mask, loss_mask = [], [], []\n",
    "                msg_index -= min(overlap_count, msg_index)\n",
    "            else:\n",
    "                msg_index += 1\n",
    "\n",
    "    if len(token_ids) > len(start_tokens):\n",
    "        pad_length = chunk_length - len(token_ids)\n",
    "        token_ids += [0 for _ in range(pad_length)]\n",
    "        attn_mask += [chunk_length + 1 for _ in range(pad_length)]\n",
    "        loss_mask += [0 for _ in range(pad_length)]\n",
    "        assert len(token_ids) == len(attn_mask) == len(loss_mask) == chunk_length\n",
    "        yield token_ids, attn_mask, loss_mask\n",
    "\n",
    "    print(f'Skipped {skip_dialogue_count}/{len(dialogues)} dialogues.')"
   ],
   "metadata": {
    "collapsed": false,
    "ExecuteTime": {
     "end_time": "2023-11-05T19:29:44.836938323Z",
     "start_time": "2023-11-05T19:29:44.830510729Z"
    }
   },
   "id": "4d4cdc0410da09e7"
  },
  {
   "cell_type": "code",
   "execution_count": 19,
   "outputs": [],
   "source": [
    "def write_out_dataset(file, entries):\n",
    "    writer = DatasetWriter(file, {'token_ids': np.uint16, 'attn_mask': np.uint16, 'loss_mask': np.uint16})\n",
    "    for (token_ids, attn_mask, loss_mask) in tqdm(entries):\n",
    "        writer.add_entry(token_ids=np.array(token_ids, dtype=np.uint16),\n",
    "                         attn_mask=np.array(attn_mask, dtype=np.uint16),\n",
    "                         loss_mask=np.array(loss_mask, dtype=np.uint16))\n",
    "    writer.finish()"
   ],
   "metadata": {
    "collapsed": false,
    "ExecuteTime": {
     "end_time": "2023-11-05T19:29:47.018272196Z",
     "start_time": "2023-11-05T19:29:47.011559112Z"
    }
   },
   "id": "5a2936bf78b4d29f"
  },
  {
   "cell_type": "code",
   "execution_count": 20,
   "outputs": [],
   "source": [
    "dialogues_to_chunks_1024 = partial(dialogues_to_chunks, chunk_length=1024, max_message_length=450, overlap_count=1)"
   ],
   "metadata": {
    "collapsed": false,
    "ExecuteTime": {
     "end_time": "2023-11-05T19:29:47.397020003Z",
     "start_time": "2023-11-05T19:29:47.393176937Z"
    }
   },
   "id": "599634ebe9529eba"
  },
  {
   "cell_type": "code",
   "execution_count": null,
   "outputs": [],
   "source": [
    "def alpaca_to_dialogue(alpaca_sample):\n",
    "    return [('User', alpaca_sample['instruction'] + (f'\\n{alpaca_sample[\"input\"]}' if alpaca_sample['input'] != '' else '')),\n",
    "            ('Assistant', alpaca_sample['output'])]\n",
    "\n",
    "\n",
    "alpaca_diags = [alpaca_to_dialogue(d) for d in alpaca_gpt['train']]"
   ],
   "metadata": {
    "collapsed": false
   },
   "id": "f7f548285266d4c4"
  },
  {
   "cell_type": "code",
   "execution_count": null,
   "outputs": [],
   "source": [
    "alpaca_chunks = [x for x in dialogues_to_chunks_1024(alpaca_diags)]"
   ],
   "metadata": {
    "collapsed": false
   },
   "id": "b8d9c00c339a9ade"
  },
  {
   "cell_type": "code",
   "execution_count": null,
   "outputs": [],
   "source": [
    "write_out_dataset('datasets/sft/alpaca_gpt4.bin', alpaca_chunks)"
   ],
   "metadata": {
    "collapsed": false
   },
   "id": "47f88fc2b7560672"
  },
  {
   "cell_type": "code",
   "execution_count": null,
   "outputs": [],
   "source": [
    "airoboros_diags = [[('User', d['instruction']), ('Assistant', d['response'])] for d in airoboros['train'] if not 'contextual' in d['category']]"
   ],
   "metadata": {
    "collapsed": false
   },
   "id": "a07e2445bed5ce56"
  },
  {
   "cell_type": "code",
   "execution_count": null,
   "outputs": [],
   "source": [
    "airoboros_chunks = [x for x in dialogues_to_chunks_1024(airoboros_diags)]"
   ],
   "metadata": {
    "collapsed": false
   },
   "id": "eeb552c069dfef66"
  },
  {
   "cell_type": "code",
   "execution_count": null,
   "outputs": [],
   "source": [
    "write_out_dataset('datasets/sft/airoboros_2.2.1.bin', airoboros_chunks)"
   ],
   "metadata": {
    "collapsed": false
   },
   "id": "1965469a519fc50b"
  },
  {
   "cell_type": "code",
   "execution_count": null,
   "outputs": [],
   "source": [
    "wizardlm_diags = [[('User' if msg['from'] == 'human' else 'Assistant', msg['value']) for msg in diag] for diag in wizardlm['train']['conversations']]"
   ],
   "metadata": {
    "collapsed": false
   },
   "id": "ac6cbd4ad2be241d"
  },
  {
   "cell_type": "code",
   "execution_count": null,
   "outputs": [],
   "source": [
    "wizardlm_chunks = [x for x in dialogues_to_chunks_1024(wizardlm_diags)]"
   ],
   "metadata": {
    "collapsed": false
   },
   "id": "32fdbfc8a41e5a64"
  },
  {
   "cell_type": "code",
   "execution_count": null,
   "outputs": [],
   "source": [
    "write_out_dataset('datasets/sft/wizardlm_evol_2.bin', wizardlm_chunks)"
   ],
   "metadata": {
    "collapsed": false
   },
   "id": "fdedb28c9fe67ceb"
  },
  {
   "cell_type": "code",
   "execution_count": null,
   "outputs": [],
   "source": [
    "sharegpt4_en_diags = [[('User' if msg['from'] == 'human' else 'Assistant', msg['value']) for msg in diag] for diag in sharegpt4_en['train']['conversations']]"
   ],
   "metadata": {
    "collapsed": false
   },
   "id": "f460024f9b61f5b7"
  },
  {
   "cell_type": "code",
   "execution_count": null,
   "outputs": [],
   "source": [
    "sharegpt4_en_chunks = [x for x in dialogues_to_chunks_1024(sharegpt4_en_diags)]"
   ],
   "metadata": {
    "collapsed": false
   },
   "id": "d5ecead376a5667b"
  },
  {
   "cell_type": "code",
   "execution_count": null,
   "outputs": [],
   "source": [
    "write_out_dataset('datasets/sft/sharegpt_gpt4.bin', sharegpt4_en_chunks)"
   ],
   "metadata": {
    "collapsed": false
   },
   "id": "1b986fb4459c6059"
  },
  {
   "cell_type": "code",
   "execution_count": 14,
   "outputs": [],
   "source": [
    "ultrachat_en_diags = [[('User' if msg['role'] == 'user' else 'Assistant', msg['content']) for msg in diag] for diag in ultrachat_en['messages']]"
   ],
   "metadata": {
    "collapsed": false,
    "ExecuteTime": {
     "end_time": "2023-11-05T19:29:22.838060295Z",
     "start_time": "2023-11-05T19:29:20.181061815Z"
    }
   },
   "id": "233bc7d126f7066b"
  },
  {
   "cell_type": "code",
   "execution_count": 21,
   "outputs": [
    {
     "data": {
      "text/plain": "  0%|          | 0/121030 [00:00<?, ?it/s]",
      "application/vnd.jupyter.widget-view+json": {
       "version_major": 2,
       "version_minor": 0,
       "model_id": "b2b8d2e4a81d445fb607662ab7c58362"
      }
     },
     "metadata": {},
     "output_type": "display_data"
    },
    {
     "name": "stdout",
     "output_type": "stream",
     "text": [
      "Skipped 61611/121030 dialogues.\n"
     ]
    }
   ],
   "source": [
    "ultrachat_en_chunks = [x for x in dialogues_to_chunks_1024(ultrachat_en_diags)]"
   ],
   "metadata": {
    "collapsed": false,
    "ExecuteTime": {
     "end_time": "2023-11-05T19:31:20.820173718Z",
     "start_time": "2023-11-05T19:30:03.221890641Z"
    }
   },
   "id": "4fe0514d25dc1fa5"
  },
  {
   "cell_type": "code",
   "execution_count": 26,
   "outputs": [
    {
     "data": {
      "text/plain": "  0%|          | 0/70705 [00:00<?, ?it/s]",
      "application/vnd.jupyter.widget-view+json": {
       "version_major": 2,
       "version_minor": 0,
       "model_id": "2f2b358ae92b4c30af527eaf82b0ed10"
      }
     },
     "metadata": {},
     "output_type": "display_data"
    }
   ],
   "source": [
    "write_out_dataset('datasets/sft/ultrachat.bin', ultrachat_en_chunks)"
   ],
   "metadata": {
    "collapsed": false,
    "ExecuteTime": {
     "end_time": "2023-11-05T19:32:49.855400987Z",
     "start_time": "2023-11-05T19:32:46.434932779Z"
    }
   },
   "id": "3cd3d2cc23a13d03"
  },
  {
   "cell_type": "code",
   "execution_count": null,
   "outputs": [],
   "source": [],
   "metadata": {
    "collapsed": false
   },
   "id": "b91116714f16c348"
  }
 ],
 "metadata": {
  "kernelspec": {
   "display_name": "Python 3",
   "language": "python",
   "name": "python3"
  },
  "language_info": {
   "codemirror_mode": {
    "name": "ipython",
    "version": 2
   },
   "file_extension": ".py",
   "mimetype": "text/x-python",
   "name": "python",
   "nbconvert_exporter": "python",
   "pygments_lexer": "ipython2",
   "version": "2.7.6"
  }
 },
 "nbformat": 4,
 "nbformat_minor": 5
}

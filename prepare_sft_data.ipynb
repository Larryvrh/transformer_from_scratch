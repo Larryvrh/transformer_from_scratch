{
 "cells": [
  {
   "cell_type": "code",
   "execution_count": 6,
   "id": "initial_id",
   "metadata": {
    "collapsed": true,
    "ExecuteTime": {
     "end_time": "2023-11-05T00:27:12.676296684Z",
     "start_time": "2023-11-05T00:27:12.671997684Z"
    }
   },
   "outputs": [],
   "source": [
    "import datasets\n",
    "from tokenizers import TRIETokenizerFast\n",
    "from matplotlib import pyplot as plt\n",
    "import json\n",
    "from tqdm.notebook import tqdm\n",
    "from dataloader import DatasetWriter, SingleDatasetReader\n",
    "from typing import *\n",
    "import numpy as np\n",
    "from torch.utils.data import DataLoader\n",
    "from functools import partial\n",
    "import re"
   ]
  },
  {
   "cell_type": "code",
   "execution_count": 2,
   "outputs": [],
   "source": [
    "tokenizer = TRIETokenizerFast('llama_vocab_pruned_32k.json')"
   ],
   "metadata": {
    "collapsed": false,
    "ExecuteTime": {
     "end_time": "2023-11-05T00:24:32.056238071Z",
     "start_time": "2023-11-05T00:24:23.927000717Z"
    }
   },
   "id": "1d265892fe30a6d4"
  },
  {
   "cell_type": "code",
   "execution_count": 3,
   "outputs": [],
   "source": [
    "alpaca_gpt = datasets.load_dataset('vicgalle/alpaca-gpt4', cache_dir='./corpus')"
   ],
   "metadata": {
    "collapsed": false,
    "ExecuteTime": {
     "end_time": "2023-11-02T06:24:42.631239942Z",
     "start_time": "2023-11-02T06:24:41.102569049Z"
    }
   },
   "id": "794851e03446e7ea"
  },
  {
   "cell_type": "code",
   "execution_count": 4,
   "outputs": [],
   "source": [
    "airoboros = datasets.load_dataset('jondurbin/airoboros-2.2.1', cache_dir='./corpus')"
   ],
   "metadata": {
    "collapsed": false,
    "ExecuteTime": {
     "end_time": "2023-11-02T06:24:44.256605821Z",
     "start_time": "2023-11-02T06:24:42.629683830Z"
    }
   },
   "id": "25f21ce32b9a3211"
  },
  {
   "cell_type": "code",
   "execution_count": 5,
   "outputs": [
    {
     "name": "stderr",
     "output_type": "stream",
     "text": [
      "Repo card metadata block was not found. Setting CardData to empty.\n"
     ]
    }
   ],
   "source": [
    "wizardlm = datasets.load_dataset('WizardLM/WizardLM_evol_instruct_V2_196k', cache_dir='./corpus')"
   ],
   "metadata": {
    "collapsed": false,
    "ExecuteTime": {
     "start_time": "2023-11-02T06:24:44.261816845Z"
    }
   },
   "id": "14ddd1dc80bb3646"
  },
  {
   "cell_type": "code",
   "execution_count": 27,
   "outputs": [],
   "source": [
    "sharegpt4 = datasets.load_dataset('shibing624/sharegpt_gpt4', cache_dir='./corpus')"
   ],
   "metadata": {
    "collapsed": false,
    "ExecuteTime": {
     "end_time": "2023-11-05T00:32:20.491882922Z",
     "start_time": "2023-11-05T00:32:17.944562596Z"
    }
   },
   "id": "56ea6d05afd4304b"
  },
  {
   "cell_type": "code",
   "execution_count": 51,
   "outputs": [],
   "source": [
    "def sharegpt4_en_filter(entry):\n",
    "    conv = entry['conversations']\n",
    "    # print([re.findall(r'[^a-zA-Z0-9!@#$%^&*()_\\-+=\\[\\]{}|\\\\;:\\'\",<>/?.`~\\n\\t\\r ]', c['value']) for c in conv])\n",
    "    return all(len(re.findall(r'[^a-zA-Z0-9!@#$%^&*()_\\-+=\\[\\]{}|\\\\;:\\'\",<>/?.`~\\n\\t\\r ]', c['value'])) == 0 for c in conv)"
   ],
   "metadata": {
    "collapsed": false,
    "ExecuteTime": {
     "end_time": "2023-11-05T00:35:53.833923812Z",
     "start_time": "2023-11-05T00:35:53.756070088Z"
    }
   },
   "id": "e4ff1872c5936a24"
  },
  {
   "cell_type": "code",
   "execution_count": 52,
   "outputs": [
    {
     "data": {
      "text/plain": "Filter:   0%|          | 0/103415 [00:00<?, ? examples/s]",
      "application/vnd.jupyter.widget-view+json": {
       "version_major": 2,
       "version_minor": 0,
       "model_id": "1bdde90cb49c406ba5edce7aa814d7b0"
      }
     },
     "metadata": {},
     "output_type": "display_data"
    }
   ],
   "source": [
    "sharegpt4_en = sharegpt4.filter(sharegpt4_en_filter)"
   ],
   "metadata": {
    "collapsed": false,
    "ExecuteTime": {
     "end_time": "2023-11-05T00:35:57.984204676Z",
     "start_time": "2023-11-05T00:35:54.852785617Z"
    }
   },
   "id": "303923f85843fd06"
  },
  {
   "cell_type": "code",
   "execution_count": 69,
   "outputs": [],
   "source": [
    "def preview_chunk(token_ids, attn_mask, loss_mask):\n",
    "    unique_mask = [i for i in set(attn_mask) if i != 0]\n",
    "    print(f'Total {len(unique_mask)} dialogues within chunk.')\n",
    "    for m in unique_mask:\n",
    "        print(f'Dialogue index {m}')\n",
    "        dialogue_token_ids = [token_ids[i] for i in range(len(token_ids)) if attn_mask[i] == m]\n",
    "        dialogue_token_ids_loss = [token_ids[i] for i in range(len(token_ids)) if attn_mask[i] == m and loss_mask[i] == 1]\n",
    "        print('Full text:')\n",
    "        print(tokenizer.decode(dialogue_token_ids))\n",
    "        print('-' * 80)\n",
    "        print('Loss text:')\n",
    "        print(tokenizer.decode(dialogue_token_ids_loss))\n",
    "        print('=' * 80)"
   ],
   "metadata": {
    "collapsed": false,
    "ExecuteTime": {
     "end_time": "2023-11-05T00:38:23.667621805Z",
     "start_time": "2023-11-05T00:38:23.601016936Z"
    }
   },
   "id": "308c5261ca3e996a"
  },
  {
   "cell_type": "code",
   "execution_count": 70,
   "outputs": [],
   "source": [
    "def dialogues_to_chunks(dialogues: List[List[Tuple[str, str]]], chunk_length: int, max_message_length: int, overlap_count: int):\n",
    "    assert max_message_length * overlap_count < chunk_length, 'max_message_length * overlap_count >= chunk_size can cause infinite loop'\n",
    "\n",
    "    skip_dialogue_count = 0\n",
    "\n",
    "    start_tokens = tokenizer.encode('<s>A chat between User and Assistant.\\n')\n",
    "\n",
    "    mask_index = 0\n",
    "    token_ids, attn_mask, loss_mask = [], [], []\n",
    "\n",
    "    for dial in tqdm(dialogues):\n",
    "        dial_encoded = [(m[0], tokenizer.encode(f'{m[0]}:{m[1]}' + {'User': '\\n', 'Assistant': '</s>\\n'}[m[0]])) for m in dial]\n",
    "        if any(len(m[1]) > max_message_length for m in dial_encoded):\n",
    "            skip_dialogue_count += 1\n",
    "            continue\n",
    "\n",
    "        mask_index += 1\n",
    "        if chunk_length - len(token_ids) <= len(start_tokens):\n",
    "            pad_length = chunk_length - len(token_ids)\n",
    "            token_ids += [0 for _ in range(pad_length)]\n",
    "            attn_mask += [chunk_length + 1 for _ in range(pad_length)]  # use standalone index for padding mask to avoid \"void attention\"\n",
    "            loss_mask += [0 for _ in range(pad_length)]\n",
    "            assert len(token_ids) == len(attn_mask) == len(loss_mask) == chunk_length\n",
    "            yield token_ids, attn_mask, loss_mask\n",
    "            mask_index = 1\n",
    "            token_ids, attn_mask, loss_mask = start_tokens.copy(), [1 for _ in range(len(start_tokens))], [0 for _ in range(len(start_tokens))]\n",
    "        else:\n",
    "            token_ids += start_tokens\n",
    "            attn_mask += [mask_index for _ in range(len(start_tokens))]\n",
    "            loss_mask += [0 for _ in range(len(start_tokens))]\n",
    "\n",
    "        msg_index, max_msg_index = 0, -1\n",
    "        while msg_index < len(dial_encoded):\n",
    "            src, msg = dial_encoded[msg_index]\n",
    "            append_length = min(chunk_length - len(token_ids), len(msg))\n",
    "            token_ids += msg[:append_length]\n",
    "            attn_mask += [mask_index for _ in range(append_length)]\n",
    "            loss_mask += [0 for _ in range(append_length)] if src == 'User' or msg_index <= max_msg_index else [1 for _ in range(append_length)]\n",
    "            max_msg_index = max(msg_index, max_msg_index)\n",
    "            if len(token_ids) == chunk_length:\n",
    "                assert len(token_ids) == len(attn_mask) == len(loss_mask) == chunk_length\n",
    "                yield token_ids, attn_mask, loss_mask\n",
    "                mask_index = 1\n",
    "                token_ids, attn_mask, loss_mask = [], [], []\n",
    "                msg_index -= min(overlap_count, msg_index)\n",
    "            else:\n",
    "                msg_index += 1\n",
    "\n",
    "    if len(token_ids) > len(start_tokens):\n",
    "        pad_length = chunk_length - len(token_ids)\n",
    "        token_ids += [0 for _ in range(pad_length)]\n",
    "        attn_mask += [chunk_length + 1 for _ in range(pad_length)]\n",
    "        loss_mask += [0 for _ in range(pad_length)]\n",
    "        assert len(token_ids) == len(attn_mask) == len(loss_mask) == chunk_length\n",
    "        yield token_ids, attn_mask, loss_mask\n",
    "\n",
    "    print(f'Skipped {skip_dialogue_count}/{len(dialogues)} dialogues.')"
   ],
   "metadata": {
    "collapsed": false,
    "ExecuteTime": {
     "end_time": "2023-11-05T00:38:24.133727327Z",
     "start_time": "2023-11-05T00:38:24.117014903Z"
    }
   },
   "id": "4d4cdc0410da09e7"
  },
  {
   "cell_type": "code",
   "execution_count": 71,
   "outputs": [],
   "source": [
    "def write_out_dataset(file, entries):\n",
    "    writer = DatasetWriter(file, {'token_ids': np.uint16, 'attn_mask': np.uint16, 'loss_mask': np.uint16})\n",
    "    for (token_ids, attn_mask, loss_mask) in tqdm(entries):\n",
    "        writer.add_entry(token_ids=np.array(token_ids, dtype=np.uint16),\n",
    "                         attn_mask=np.array(attn_mask, dtype=np.uint16),\n",
    "                         loss_mask=np.array(loss_mask, dtype=np.uint16))\n",
    "    writer.finish()"
   ],
   "metadata": {
    "collapsed": false,
    "ExecuteTime": {
     "end_time": "2023-11-05T00:38:25.500367928Z",
     "start_time": "2023-11-05T00:38:25.497746934Z"
    }
   },
   "id": "5a2936bf78b4d29f"
  },
  {
   "cell_type": "code",
   "execution_count": 72,
   "outputs": [],
   "source": [
    "dialogues_to_chunks_1024 = partial(dialogues_to_chunks, chunk_length=1024, max_message_length=450, overlap_count=1)"
   ],
   "metadata": {
    "collapsed": false,
    "ExecuteTime": {
     "end_time": "2023-11-05T00:38:25.922039937Z",
     "start_time": "2023-11-05T00:38:25.919135335Z"
    }
   },
   "id": "599634ebe9529eba"
  },
  {
   "cell_type": "code",
   "execution_count": 10,
   "outputs": [],
   "source": [
    "def alpaca_to_dialogue(alpaca_sample):\n",
    "    return [('User', alpaca_sample['instruction'] + (f'\\n{alpaca_sample[\"input\"]}' if alpaca_sample['input'] != '' else '')),\n",
    "            ('Assistant', alpaca_sample['output'])]\n",
    "\n",
    "\n",
    "alpaca_diags = [alpaca_to_dialogue(d) for d in alpaca_gpt['train']]"
   ],
   "metadata": {
    "collapsed": false,
    "ExecuteTime": {
     "start_time": "2023-11-02T06:24:46.379239568Z"
    }
   },
   "id": "f7f548285266d4c4"
  },
  {
   "cell_type": "code",
   "execution_count": 11,
   "outputs": [
    {
     "data": {
      "text/plain": "  0%|          | 0/52002 [00:00<?, ?it/s]",
      "application/vnd.jupyter.widget-view+json": {
       "version_major": 2,
       "version_minor": 0,
       "model_id": "862aa0b50c8940e69d07a5f7fca83713"
      }
     },
     "metadata": {},
     "output_type": "display_data"
    },
    {
     "name": "stdout",
     "output_type": "stream",
     "text": [
      "Skipped 2888/52002 dialogues.\n"
     ]
    }
   ],
   "source": [
    "alpaca_chunks = [x for x in dialogues_to_chunks_1024(alpaca_diags)]"
   ],
   "metadata": {
    "collapsed": false,
    "ExecuteTime": {
     "start_time": "2023-11-02T06:24:51.997016035Z"
    }
   },
   "id": "b8d9c00c339a9ade"
  },
  {
   "cell_type": "code",
   "execution_count": 12,
   "outputs": [
    {
     "data": {
      "text/plain": "  0%|          | 0/9956 [00:00<?, ?it/s]",
      "application/vnd.jupyter.widget-view+json": {
       "version_major": 2,
       "version_minor": 0,
       "model_id": "fbf124d6d279409bb5b8bf9d8009e9da"
      }
     },
     "metadata": {},
     "output_type": "display_data"
    }
   ],
   "source": [
    "write_out_dataset('datasets/sft/alpaca_gpt4.bin', alpaca_chunks)"
   ],
   "metadata": {
    "collapsed": false,
    "ExecuteTime": {
     "start_time": "2023-11-02T06:24:57.529320614Z"
    }
   },
   "id": "47f88fc2b7560672"
  },
  {
   "cell_type": "code",
   "execution_count": 13,
   "outputs": [],
   "source": [
    "airoboros_diags = [[('User', d['instruction']), ('Assistant', d['response'])] for d in airoboros['train'] if not 'contextual' in d['category']]"
   ],
   "metadata": {
    "collapsed": false,
    "ExecuteTime": {
     "start_time": "2023-11-02T06:24:58.092036949Z"
    }
   },
   "id": "a07e2445bed5ce56"
  },
  {
   "cell_type": "code",
   "execution_count": 14,
   "outputs": [
    {
     "data": {
      "text/plain": "  0%|          | 0/40331 [00:00<?, ?it/s]",
      "application/vnd.jupyter.widget-view+json": {
       "version_major": 2,
       "version_minor": 0,
       "model_id": "f3f285eb8d6e4d38a361145797d320f3"
      }
     },
     "metadata": {},
     "output_type": "display_data"
    },
    {
     "name": "stdout",
     "output_type": "stream",
     "text": [
      "Skipped 11984/40331 dialogues.\n"
     ]
    }
   ],
   "source": [
    "airoboros_chunks = [x for x in dialogues_to_chunks_1024(airoboros_diags)]"
   ],
   "metadata": {
    "collapsed": false,
    "ExecuteTime": {
     "start_time": "2023-11-02T06:24:58.818404065Z"
    }
   },
   "id": "eeb552c069dfef66"
  },
  {
   "cell_type": "code",
   "execution_count": 15,
   "outputs": [
    {
     "data": {
      "text/plain": "  0%|          | 0/7447 [00:00<?, ?it/s]",
      "application/vnd.jupyter.widget-view+json": {
       "version_major": 2,
       "version_minor": 0,
       "model_id": "0a75cc7718c546d4b439a207d6bbc321"
      }
     },
     "metadata": {},
     "output_type": "display_data"
    }
   ],
   "source": [
    "write_out_dataset('datasets/sft/airoboros_2.2.1.bin', airoboros_chunks)"
   ],
   "metadata": {
    "collapsed": false,
    "ExecuteTime": {
     "start_time": "2023-11-02T06:25:07.060328990Z"
    }
   },
   "id": "1965469a519fc50b"
  },
  {
   "cell_type": "code",
   "execution_count": 16,
   "outputs": [],
   "source": [
    "wizardlm_diags = [[('User' if msg['from'] == 'human' else 'Assistant', msg['value']) for msg in diag] for diag in wizardlm['train']['conversations']]"
   ],
   "metadata": {
    "collapsed": false,
    "ExecuteTime": {
     "start_time": "2023-11-02T06:25:07.500826011Z"
    }
   },
   "id": "ac6cbd4ad2be241d"
  },
  {
   "cell_type": "code",
   "execution_count": 17,
   "outputs": [
    {
     "data": {
      "text/plain": "  0%|          | 0/143000 [00:00<?, ?it/s]",
      "application/vnd.jupyter.widget-view+json": {
       "version_major": 2,
       "version_minor": 0,
       "model_id": "3302584dab1f4c4187daf72bf75a6d82"
      }
     },
     "metadata": {},
     "output_type": "display_data"
    },
    {
     "name": "stdout",
     "output_type": "stream",
     "text": [
      "Skipped 61171/143000 dialogues.\n"
     ]
    }
   ],
   "source": [
    "wizardlm_chunks = [x for x in dialogues_to_chunks_1024(wizardlm_diags)]"
   ],
   "metadata": {
    "collapsed": false,
    "ExecuteTime": {
     "start_time": "2023-11-02T06:25:08.978603504Z"
    }
   },
   "id": "32fdbfc8a41e5a64"
  },
  {
   "cell_type": "code",
   "execution_count": 18,
   "outputs": [
    {
     "data": {
      "text/plain": "  0%|          | 0/35655 [00:00<?, ?it/s]",
      "application/vnd.jupyter.widget-view+json": {
       "version_major": 2,
       "version_minor": 0,
       "model_id": "4e7362536b6d44ebb22aab811b540d31"
      }
     },
     "metadata": {},
     "output_type": "display_data"
    }
   ],
   "source": [
    "write_out_dataset('datasets/sft/wizardlm_evol_2.bin', wizardlm_chunks)"
   ],
   "metadata": {
    "collapsed": false,
    "ExecuteTime": {
     "start_time": "2023-11-02T06:25:46.091827948Z"
    }
   },
   "id": "fdedb28c9fe67ceb"
  },
  {
   "cell_type": "code",
   "execution_count": 55,
   "outputs": [],
   "source": [
    "sharegpt4_en_diags = [[('User' if msg['from'] == 'human' else 'Assistant', msg['value']) for msg in diag] for diag in sharegpt4_en['train']['conversations']]"
   ],
   "metadata": {
    "collapsed": false,
    "ExecuteTime": {
     "end_time": "2023-11-05T00:37:12.769298831Z",
     "start_time": "2023-11-05T00:37:11.694648942Z"
    }
   },
   "id": "f460024f9b61f5b7"
  },
  {
   "cell_type": "code",
   "execution_count": 73,
   "outputs": [
    {
     "data": {
      "text/plain": "  0%|          | 0/46324 [00:00<?, ?it/s]",
      "application/vnd.jupyter.widget-view+json": {
       "version_major": 2,
       "version_minor": 0,
       "model_id": "74a1d2b4aba843b9b945957f3a175323"
      }
     },
     "metadata": {},
     "output_type": "display_data"
    },
    {
     "name": "stdout",
     "output_type": "stream",
     "text": [
      "Skipped 24924/46324 dialogues.\n"
     ]
    }
   ],
   "source": [
    "sharegpt4_en_chunks = [x for x in dialogues_to_chunks_1024(sharegpt4_en_diags)]"
   ],
   "metadata": {
    "collapsed": false,
    "ExecuteTime": {
     "end_time": "2023-11-05T00:38:58.922014940Z",
     "start_time": "2023-11-05T00:38:29.687252549Z"
    }
   },
   "id": "d5ecead376a5667b"
  },
  {
   "cell_type": "code",
   "execution_count": 82,
   "outputs": [
    {
     "data": {
      "text/plain": "  0%|          | 0/20411 [00:00<?, ?it/s]",
      "application/vnd.jupyter.widget-view+json": {
       "version_major": 2,
       "version_minor": 0,
       "model_id": "50835c1defe14932a96d65c9faa8dd43"
      }
     },
     "metadata": {},
     "output_type": "display_data"
    }
   ],
   "source": [
    "write_out_dataset('datasets/sft/sharegpt_gpt4.bin', sharegpt4_en_chunks)"
   ],
   "metadata": {
    "collapsed": false,
    "ExecuteTime": {
     "end_time": "2023-11-05T00:41:48.275575442Z",
     "start_time": "2023-11-05T00:41:47.253544279Z"
    }
   },
   "id": "1b986fb4459c6059"
  },
  {
   "cell_type": "code",
   "execution_count": 84,
   "outputs": [
    {
     "name": "stdout",
     "output_type": "stream",
     "text": [
      "Total 1 dialogues within chunk.\n",
      "Dialogue index 1\n",
      "Full text:\n",
      "<s>A chat between User and Assistant.\n",
      "User:Summarize the main ideas of Jeff Walker's Product Launch Formula into bullet points as it pertains to a growth marketing agency implementing these strategies and tactics for their clients...\n",
      "Assistant:Here are the main ideas of Jeff Walker's Product Launch Formula that can be applied by a growth marketing agency for their clients:\n",
      "\n",
      "1. Identify the target audience and their needs: Understand the ideal customer for the product or service, and create a messaging that resonates with them.\n",
      "2. Pre-launch: Build anticipation and excitement for the launch by creating buzz, gathering testimonials and case studies, and using social media to create awareness.\n",
      "3. Launch: Use a well-crafted launch sequence to maximize sales and conversions. This can include offering bonuses, creating scarcity, and using a deadline to create urgency.\n",
      "4. Post-launch: Follow up with customers, gather feedback, and continue to provide value to keep them engaged and loyal.\n",
      "5. Create a product suite: Once the initial product is successful, expand the offering by creating additional products or services that address other needs of the same audience.\n",
      "6. Continual optimization: Continually monitor and optimize the launch process and product suite to improve results.\n",
      "7. Build a community: Use the launch process to build a community of customers who are passionate about the product and can help spread the word.\n",
      "8. Use automation: Use technology and automation to streamline the launch process and improve efficiency.</s>\n",
      "User:Summarize the main ideas of Brendon Burchard's Experts Academy into bullet points as it pertains to a growth marketing agency implementing these strategies and tactics for their clients...\n",
      "Assistant:Here are the main ideas of Brendon Burchard's Experts Academy that can be applied by a growth marketing agency for their clients:\n",
      "\n",
      "1. Identify your expertise: Define your area of expertise and create a unique value proposition that differentiates you from others.\n",
      "2. Create a content strategy: Develop a content strategy that showcases your expertise and provides value to your audience. This can include blog posts, videos, podcasts, and social media content.\n",
      "3. Build your audience: Use social media, advertising, and other channels to build your audience and increase your visibility.\n",
      "4. Develop your products: Create products and services that align with your expertise and meet the needs of your audience. These can include digital products, courses, coaching, and consulting services.\n",
      "5. Create a brand: Develop a strong brand that reflects your expertise and resonates with your audience.\n",
      "6. Build authority: Establish yourself as an authority in your industry by speaking at events, publishing a book, or appearing on podcasts or TV shows.\n",
      "7. Monetize your expertise: Develop a monetization strategy that leverages your expertise and products to generate revenue.\n",
      "8. Build a team: As your business grows, build a team of experts to help you scale your business and provide excellent service to your clients.\n",
      "9. Continual improvement: Continually improve your products, services, and marketing strategies to stay ahead of the competition and provide the best possible experience for your clients.\n",
      "10. Focus on impact: Ultimately, focus on making a positive impact in the lives of your clients and using your expertise to make a difference in the world.</s>\n",
      "User:What are the mental triggers in Jeff Walker's Product Launch Formula and \"Launch\" book?\n",
      "Assistant:Here are the mental triggers described in Jeff Walker's Product Launch Formula and \"Launch\" book:\n",
      "\n",
      "1. Scarcity: Creating a sense of urgency by limiting the availability of the product or service being launched.\n",
      "2. Authority: Establishing oneself as an expert or authority in the industry to build credibility and trust with the audience.\n",
      "3. Social proof: Using testimonials, case studies, and other forms of social proof to demonstrate the effectiveness and value of the product or service.\n",
      "4. Reciprocity: Offering something of value to the audience before asking for a sale or commitment.\n",
      "5. Likeability: Building a personal connection with the audience and creating a likable persona to increase the chances of a sale.\n",
      "6. Anticipation: Building anticipation and excitement leading up to the launch to generate buzz and increase interest in the product or service.\n",
      "7. Exclusivity: Creating a feeling of exclusivity by offering early access or special deals to a select group of people.\n",
      "8. Bel\n",
      "--------------------------------------------------------------------------------\n",
      "Loss text:\n",
      "Assistant:Here are the main ideas of Jeff Walker's Product Launch Formula that can be applied by a growth marketing agency for their clients:\n",
      "\n",
      "1. Identify the target audience and their needs: Understand the ideal customer for the product or service, and create a messaging that resonates with them.\n",
      "2. Pre-launch: Build anticipation and excitement for the launch by creating buzz, gathering testimonials and case studies, and using social media to create awareness.\n",
      "3. Launch: Use a well-crafted launch sequence to maximize sales and conversions. This can include offering bonuses, creating scarcity, and using a deadline to create urgency.\n",
      "4. Post-launch: Follow up with customers, gather feedback, and continue to provide value to keep them engaged and loyal.\n",
      "5. Create a product suite: Once the initial product is successful, expand the offering by creating additional products or services that address other needs of the same audience.\n",
      "6. Continual optimization: Continually monitor and optimize the launch process and product suite to improve results.\n",
      "7. Build a community: Use the launch process to build a community of customers who are passionate about the product and can help spread the word.\n",
      "8. Use automation: Use technology and automation to streamline the launch process and improve efficiency.</s>\n",
      "Assistant:Here are the main ideas of Brendon Burchard's Experts Academy that can be applied by a growth marketing agency for their clients:\n",
      "\n",
      "1. Identify your expertise: Define your area of expertise and create a unique value proposition that differentiates you from others.\n",
      "2. Create a content strategy: Develop a content strategy that showcases your expertise and provides value to your audience. This can include blog posts, videos, podcasts, and social media content.\n",
      "3. Build your audience: Use social media, advertising, and other channels to build your audience and increase your visibility.\n",
      "4. Develop your products: Create products and services that align with your expertise and meet the needs of your audience. These can include digital products, courses, coaching, and consulting services.\n",
      "5. Create a brand: Develop a strong brand that reflects your expertise and resonates with your audience.\n",
      "6. Build authority: Establish yourself as an authority in your industry by speaking at events, publishing a book, or appearing on podcasts or TV shows.\n",
      "7. Monetize your expertise: Develop a monetization strategy that leverages your expertise and products to generate revenue.\n",
      "8. Build a team: As your business grows, build a team of experts to help you scale your business and provide excellent service to your clients.\n",
      "9. Continual improvement: Continually improve your products, services, and marketing strategies to stay ahead of the competition and provide the best possible experience for your clients.\n",
      "10. Focus on impact: Ultimately, focus on making a positive impact in the lives of your clients and using your expertise to make a difference in the world.</s>\n",
      "Assistant:Here are the mental triggers described in Jeff Walker's Product Launch Formula and \"Launch\" book:\n",
      "\n",
      "1. Scarcity: Creating a sense of urgency by limiting the availability of the product or service being launched.\n",
      "2. Authority: Establishing oneself as an expert or authority in the industry to build credibility and trust with the audience.\n",
      "3. Social proof: Using testimonials, case studies, and other forms of social proof to demonstrate the effectiveness and value of the product or service.\n",
      "4. Reciprocity: Offering something of value to the audience before asking for a sale or commitment.\n",
      "5. Likeability: Building a personal connection with the audience and creating a likable persona to increase the chances of a sale.\n",
      "6. Anticipation: Building anticipation and excitement leading up to the launch to generate buzz and increase interest in the product or service.\n",
      "7. Exclusivity: Creating a feeling of exclusivity by offering early access or special deals to a select group of people.\n",
      "8. Bel\n",
      "================================================================================\n"
     ]
    }
   ],
   "source": [
    "preview_chunk(*sharegpt4_en_chunks[0])"
   ],
   "metadata": {
    "collapsed": false,
    "ExecuteTime": {
     "end_time": "2023-11-05T00:42:56.072296069Z",
     "start_time": "2023-11-05T00:42:56.014420991Z"
    }
   },
   "id": "3cd3d2cc23a13d03"
  },
  {
   "cell_type": "code",
   "execution_count": null,
   "outputs": [],
   "source": [],
   "metadata": {
    "collapsed": false
   },
   "id": "91de14bc3ced18b7"
  }
 ],
 "metadata": {
  "kernelspec": {
   "display_name": "Python 3",
   "language": "python",
   "name": "python3"
  },
  "language_info": {
   "codemirror_mode": {
    "name": "ipython",
    "version": 2
   },
   "file_extension": ".py",
   "mimetype": "text/x-python",
   "name": "python",
   "nbconvert_exporter": "python",
   "pygments_lexer": "ipython2",
   "version": "2.7.6"
  }
 },
 "nbformat": 4,
 "nbformat_minor": 5
}

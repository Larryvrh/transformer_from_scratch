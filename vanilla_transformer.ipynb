{
 "cells": [
  {
   "cell_type": "code",
   "execution_count": null,
   "id": "initial_id",
   "metadata": {
    "collapsed": true,
    "jupyter": {
     "outputs_hidden": true
    }
   },
   "outputs": [],
   "source": [
    "from tokenizers import WordTokenizer\n",
    "import torch\n",
    "from torch import nn\n",
    "import json\n",
    "import tqdm.notebook as tqdm"
   ]
  },
  {
   "cell_type": "code",
   "execution_count": null,
   "id": "40e76bcba3a904db",
   "metadata": {
    "collapsed": false
   },
   "outputs": [],
   "source": [
    "with open('../../Jupyter/NLP/TinyStoriesV2-GPT4-valid-chunks.json', 'r') as file:\n",
    "    lines = [l.strip() for l in json.load(file) if l.strip() != '']\n",
    "    raw_text = '\\n'.join(lines)"
   ]
  },
  {
   "cell_type": "code",
   "execution_count": null,
   "id": "2fb151752ec125fa",
   "metadata": {
    "collapsed": false
   },
   "outputs": [],
   "source": [
    "# Network definition\n",
    "C_SEQ_LEN = 512\n",
    "C_VOCAB_SIZE = 4096\n",
    "C_HIDDEN_SIZE = 256\n",
    "C_NUM_HEADS = 2\n",
    "C_NUM_LAYERS = 3"
   ]
  },
  {
   "cell_type": "code",
   "execution_count": null,
   "id": "33702a8e6613f742",
   "metadata": {
    "collapsed": false
   },
   "outputs": [],
   "source": [
    "tokenizer = WordTokenizer(raw_text, vocab_size=C_VOCAB_SIZE, reserved_vocab=['<s>', '</s>', '<pad>'])"
   ]
  },
  {
   "cell_type": "code",
   "execution_count": null,
   "id": "cdf7fc22d44a2d77",
   "metadata": {
    "collapsed": false
   },
   "outputs": [],
   "source": [
    "tokenizer.eval_vocab_coverage(raw_text)"
   ]
  },
  {
   "cell_type": "code",
   "execution_count": null,
   "outputs": [],
   "source": [
    "encoded_samples = []\n",
    "for l in tqdm.tqdm(lines):\n",
    "    encoded_samples += tokenizer.encode('<s>' + l + '</s>')"
   ],
   "metadata": {
    "collapsed": false
   },
   "id": "6236ac3649c35eb1"
  },
  {
   "cell_type": "code",
   "execution_count": null,
   "outputs": [],
   "source": [
    "chunks = []\n",
    "for i in range(0, len(encoded_samples), C_SEQ_LEN):\n",
    "    chunks.append(encoded_samples[i:i + C_SEQ_LEN])\n",
    "chunks.pop(-1)\n",
    "all(len(c) == C_SEQ_LEN for c in chunks)"
   ],
   "metadata": {
    "collapsed": false
   },
   "id": "7d1685466c786f0f"
  },
  {
   "cell_type": "code",
   "execution_count": null,
   "id": "fb60031d199ad9a6",
   "metadata": {
    "collapsed": false
   },
   "outputs": [],
   "source": [
    "debug_seq = torch.tensor([tokenizer.encode(raw_text[:10000])[:128 * 8]]).view((-1, 128))\n",
    "debug_seq.shape"
   ]
  },
  {
   "cell_type": "code",
   "execution_count": null,
   "outputs": [],
   "source": [
    "train_seq = torch.tensor(chunks)\n",
    "train_seq.shape"
   ],
   "metadata": {
    "collapsed": false
   },
   "id": "e442cf97d0bbe96e"
  },
  {
   "cell_type": "code",
   "execution_count": null,
   "id": "34d4a7cb7e49d5f5",
   "metadata": {
    "collapsed": false
   },
   "outputs": [],
   "source": [
    "class AttentionHead(nn.Module):\n",
    "    def __init__(self, num_heads: int, hidden_size: int):\n",
    "        super().__init__()\n",
    "        self.hidden_size = hidden_size\n",
    "        self.q_proj = nn.Linear(hidden_size, hidden_size // num_heads)\n",
    "        self.k_proj = nn.Linear(hidden_size, hidden_size // num_heads)\n",
    "        self.v_proj = nn.Linear(hidden_size, hidden_size // num_heads)\n",
    "\n",
    "    def forward(self, x: torch.Tensor):\n",
    "        seq_len = x.shape[1]\n",
    "        causal_mask = torch.triu(torch.ones(seq_len, seq_len), diagonal=1)\n",
    "        causal_mask = causal_mask.masked_fill(causal_mask == 1, 1e9)\n",
    "\n",
    "        q = self.q_proj(x)  # BATCH_SIZE * SEQ_LEN * HIDDEN_DIM\n",
    "        k = self.k_proj(x)\n",
    "        v = self.v_proj(x)\n",
    "        attn_score = (q @ k.permute(0, 2, 1) / (self.hidden_size ** 0.5)) - causal_mask\n",
    "\n",
    "        return torch.softmax(attn_score, dim=2) @ v\n",
    "\n",
    "\n",
    "class MultiHeadAttention(nn.Module):\n",
    "    def __init__(self, num_heads: int, hidden_size: int):\n",
    "        super().__init__()\n",
    "        self.attn_heads = nn.ModuleList([AttentionHead(num_heads, hidden_size) for _ in range(num_heads)])\n",
    "        self.o_proj = nn.Linear(hidden_size, hidden_size)\n",
    "\n",
    "    def forward(self, x: torch.Tensor):\n",
    "        return self.o_proj(torch.concat([a(x) for a in self.attn_heads], dim=2))\n",
    "\n",
    "\n",
    "class DecoderLayer(nn.Module):\n",
    "    def __init__(self, num_heads: int, hidden_size: int):\n",
    "        super().__init__()\n",
    "        self.mha = MultiHeadAttention(num_heads, hidden_size)\n",
    "        self.up_proj = nn.Linear(hidden_size, hidden_size * 4)\n",
    "        self.down_proj = nn.Linear(hidden_size * 4, hidden_size)\n",
    "        self.ln_mha = nn.LayerNorm(hidden_size)\n",
    "        self.ln_ffn = nn.LayerNorm(hidden_size)\n",
    "\n",
    "    def forward(self, x: torch.Tensor):\n",
    "        mha_output = self.ln_mha(x + self.mha(x))\n",
    "        ffn_output = self.down_proj(torch.relu(self.up_proj(mha_output)))\n",
    "        return self.ln_ffn(mha_output + ffn_output)\n",
    "\n",
    "\n",
    "class ToyTransformer(nn.Module):\n",
    "    def __init__(self):\n",
    "        super().__init__()\n",
    "        self.sem_embed = nn.Embedding(C_VOCAB_SIZE, C_HIDDEN_SIZE)\n",
    "        self.pos_embed = nn.Embedding(C_SEQ_LEN, C_HIDDEN_SIZE)\n",
    "        self.decoder_layers = nn.ModuleList([DecoderLayer(C_NUM_HEADS, C_HIDDEN_SIZE) for _ in range(C_NUM_LAYERS)])\n",
    "        self.lm_head = nn.Linear(C_HIDDEN_SIZE, C_VOCAB_SIZE)\n",
    "\n",
    "    def forward(self, seq):\n",
    "        seq_len = seq.shape[1]\n",
    "        hidden = self.sem_embed(seq) + self.pos_embed(torch.arange(0, seq_len, 1))\n",
    "        for decoder in self.decoder_layers:\n",
    "            hidden = decoder(hidden)\n",
    "        logits = self.lm_head(hidden)\n",
    "        return logits"
   ]
  },
  {
   "cell_type": "code",
   "execution_count": null,
   "id": "d124589733f9ed1c",
   "metadata": {
    "collapsed": false
   },
   "outputs": [],
   "source": [
    "model = ToyTransformer()\n",
    "print('Total parameters:', sum([t.numel() for t in model.parameters()]))\n",
    "model"
   ]
  },
  {
   "cell_type": "code",
   "execution_count": null,
   "id": "6704e7b3092a4c0c",
   "metadata": {
    "collapsed": false
   },
   "outputs": [],
   "source": [
    "optim = torch.optim.AdamW(model.parameters(), lr=3e-4)"
   ]
  },
  {
   "cell_type": "code",
   "execution_count": null,
   "id": "eaba00d2720d53e6",
   "metadata": {
    "collapsed": false
   },
   "outputs": [],
   "source": [
    "C_BATCH_SIZE = 32\n",
    "for epoch_num in range(1):\n",
    "    for batch_i in tqdm.tqdm(list(range(0, len(train_seq), C_BATCH_SIZE))):\n",
    "        inputs = train_seq[batch_i:batch_i + C_BATCH_SIZE, :-1]\n",
    "        labels = train_seq[batch_i:batch_i + C_BATCH_SIZE, 1:]\n",
    "        logits = model.forward(inputs)\n",
    "        probs = torch.softmax(logits, dim=2)  # BSZ * SEQ * VOCAB\n",
    "        probs_flat = probs.view(-1, C_VOCAB_SIZE)\n",
    "        loss = (-torch.log(probs_flat[torch.arange(probs_flat.shape[0]), labels.reshape(-1)])).mean()\n",
    "        optim.zero_grad()\n",
    "        loss.backward()\n",
    "        optim.step()\n",
    "        print(loss)"
   ]
  },
  {
   "cell_type": "code",
   "execution_count": null,
   "id": "2e800403549c98d2",
   "metadata": {
    "collapsed": false
   },
   "outputs": [],
   "source": [
    "def generate(prompt, max_new_tokens=20):\n",
    "    tokens = tokenizer.encode(prompt)\n",
    "    for _ in range(max_new_tokens):\n",
    "        logits = model.forward(torch.tensor([tokens]))[0][-1]\n",
    "        probs = torch.softmax(logits, dim=0)\n",
    "        tokens.append(torch.argmax(probs).item())\n",
    "    print(tokens)\n",
    "    return tokenizer.decode(tokens)\n",
    "\n",
    "\n",
    "generate(\"<s>\", 100)"
   ]
  },
  {
   "cell_type": "code",
   "execution_count": null,
   "id": "acfd06574fc4aae5",
   "metadata": {
    "collapsed": false
   },
   "outputs": [],
   "source": [
    "tokenizer.decode(train_seq[0].tolist())"
   ]
  },
  {
   "cell_type": "code",
   "execution_count": null,
   "outputs": [],
   "source": [],
   "metadata": {
    "collapsed": false
   },
   "id": "a6da265cd850c26c"
  }
 ],
 "metadata": {
  "kernelspec": {
   "display_name": "Python 3 (ipykernel)",
   "language": "python",
   "name": "python3"
  },
  "language_info": {
   "codemirror_mode": {
    "name": "ipython",
    "version": 3
   },
   "file_extension": ".py",
   "mimetype": "text/x-python",
   "name": "python",
   "nbconvert_exporter": "python",
   "pygments_lexer": "ipython3",
   "version": "3.10.6"
  }
 },
 "nbformat": 4,
 "nbformat_minor": 5
}

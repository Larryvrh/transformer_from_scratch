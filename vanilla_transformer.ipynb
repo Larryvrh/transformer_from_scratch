{
 "cells": [
  {
   "cell_type": "code",
   "execution_count": 1,
   "id": "initial_id",
   "metadata": {
    "jupyter": {
     "outputs_hidden": true
    },
    "ExecuteTime": {
     "end_time": "2023-10-20T01:10:24.833156147Z",
     "start_time": "2023-10-20T01:10:24.098466301Z"
    }
   },
   "outputs": [],
   "source": [
    "import re\n",
    "from tokenizers import WordTokenizer, CharTokenizer, TRIETokenizerFast\n",
    "import torch\n",
    "from torch import nn\n",
    "import json\n",
    "import tqdm.notebook as tqdm\n",
    "import time\n",
    "import bisect\n",
    "import random\n",
    "from typing import *\n",
    "import gc\n",
    "from dataclasses import dataclass"
   ]
  },
  {
   "cell_type": "code",
   "execution_count": null,
   "id": "40e76bcba3a904db",
   "metadata": {},
   "outputs": [],
   "source": [
    "with open('./corpus/TinyStoriesV2-GPT4-valid.txt', 'r') as file:\n",
    "    raw_text = file.read()\n",
    "    lines = [l.strip() for l in raw_text.split('<|endoftext|>')[:-1]]"
   ]
  },
  {
   "cell_type": "code",
   "execution_count": null,
   "id": "2fb151752ec125fa",
   "metadata": {},
   "outputs": [],
   "source": [
    "# Network definition\n",
    "C_SEQ_LEN = 2048\n",
    "C_VOCAB_SIZE = 4096  # No longer used\n",
    "C_HIDDEN_SIZE = 768\n",
    "C_NUM_HEADS = 12\n",
    "C_NUM_LAYERS = 12\n",
    "\n",
    "C_DEVICE = torch.device('cuda')\n",
    "C_DTYPE = torch.bfloat16\n",
    "\n",
    "C_DEBUG = False"
   ]
  },
  {
   "cell_type": "code",
   "execution_count": null,
   "outputs": [],
   "source": [
    "len(raw_text)"
   ],
   "metadata": {
    "collapsed": false
   },
   "id": "111829d7be3d3949"
  },
  {
   "cell_type": "code",
   "execution_count": null,
   "id": "33702a8e6613f742",
   "metadata": {},
   "outputs": [],
   "source": [
    "# tokenizer = WordTokenizer(raw_text, vocab_size=C_VOCAB_SIZE, reserved_vocab=['<s>', '</s>', '<pad>'])\n",
    "tokenizer = TRIETokenizerFast('llama_vocab_pruned_20480.json')"
   ]
  },
  {
   "cell_type": "code",
   "execution_count": null,
   "id": "cdf7fc22d44a2d77",
   "metadata": {},
   "outputs": [],
   "source": [
    "# tokenizer.eval_vocab_coverage(raw_text)\n",
    "print(len(tokenizer.encode(raw_text[:10000])))"
   ]
  },
  {
   "cell_type": "code",
   "execution_count": null,
   "id": "6236ac3649c35eb1",
   "metadata": {},
   "outputs": [],
   "source": [
    "# token_ids, position_ids, attn_mask, loss_mask = [[]], [[]], [[]], None\n",
    "# mask_index = 1\n",
    "# for l in tqdm.tqdm(lines):\n",
    "#     cursor = 0\n",
    "#     sample_token_ids = tokenizer.encode('<s>' + l + '</s>')\n",
    "#     if len(sample_token_ids) > C_SEQ_LEN:\n",
    "#         continue\n",
    "#     sample_position_ids = list(range(len(sample_token_ids)))\n",
    "#     while cursor < len(sample_token_ids):\n",
    "#         length = min(C_SEQ_LEN - len(token_ids[-1]), len(sample_token_ids) - cursor)\n",
    "#         token_ids[-1] += sample_token_ids[cursor:cursor + length]\n",
    "#         position_ids[-1] += sample_position_ids[cursor:cursor + length]\n",
    "#         attn_mask[-1] += [mask_index] * length\n",
    "#         cursor += length\n",
    "#         mask_index += 1\n",
    "#         if len(token_ids[-1]) == C_SEQ_LEN:\n",
    "#             token_ids.append([])\n",
    "#             position_ids.append([])\n",
    "#             attn_mask.append([])\n",
    "#             mask_index = 1\n",
    "# token_ids = torch.tensor(token_ids[:-1])\n",
    "# position_ids = torch.tensor(position_ids[:-1])\n",
    "# attn_mask = torch.tensor(attn_mask[:-1])"
   ]
  },
  {
   "cell_type": "code",
   "execution_count": null,
   "outputs": [],
   "source": [
    "# with open('tiny_stories_tokenized.pt', 'wb') as file:\n",
    "#     torch.save([token_ids, position_ids, attn_mask], file)\n",
    "if not C_DEBUG:\n",
    "    with open('tiny_stories_tokenized.pt', 'rb') as file:\n",
    "        token_ids, position_ids, attn_mask = torch.load(file)"
   ],
   "metadata": {
    "collapsed": false
   },
   "id": "799b78921dbff1ec"
  },
  {
   "cell_type": "code",
   "execution_count": null,
   "id": "fb60031d199ad9a6",
   "metadata": {},
   "outputs": [],
   "source": [
    "debug_seq = torch.tensor([tokenizer.encode(raw_text[:10000])[:128 * 8]]).view((-1, 128))\n",
    "debug_seq.shape"
   ]
  },
  {
   "cell_type": "code",
   "execution_count": 2,
   "id": "34d4a7cb7e49d5f5",
   "metadata": {
    "ExecuteTime": {
     "end_time": "2023-10-20T01:10:30.976345263Z",
     "start_time": "2023-10-20T01:10:30.968695442Z"
    }
   },
   "outputs": [],
   "source": [
    "@dataclass\n",
    "class TransformerConfig:\n",
    "    vocab_size: int = -1,\n",
    "    num_layers: int = -1,\n",
    "    num_heads: int = -1,\n",
    "    hidden_size: int = -1,\n",
    "    max_seq_len: int = -1,\n",
    "    root_model: 'ToyTransformer' = None\n",
    "    device: torch.device = torch.device('cpu')\n",
    "    dtype: torch.dtype = torch.float32\n",
    "    enable_rel_pos: bool = False\n",
    "    enable_fast_attn: bool = True\n",
    "\n",
    "\n",
    "def expand_attn_mask(custom_attn_mask: torch.Tensor):\n",
    "    B, T = custom_attn_mask.shape\n",
    "    mask = custom_attn_mask.unsqueeze(1).repeat((1, T, 1))\n",
    "    seq_index_mask = (mask == custom_attn_mask[:, torch.arange(T)].view(B, T, 1))\n",
    "    return seq_index_mask & (torch.tril(mask) > 0)\n",
    "\n",
    "\n",
    "# naive ROPE implementation following https://arxiv.org/pdf/2104.09864.pdf\n",
    "def get_rope_cache_slow(seq_len: int, dim: int, theta: int, device: torch.device, dtype: torch.dtype):\n",
    "    assert dim % 2 == 0\n",
    "    freqs = theta ** (-2 * torch.arange(0, dim // 2, 1.) / dim)\n",
    "    freqs = torch.repeat_interleave(freqs, 2)\n",
    "    v1 = torch.cos(torch.arange(seq_len, dtype=torch.float).view((seq_len, 1)) * freqs)\n",
    "    v2 = torch.sin(torch.arange(seq_len, dtype=torch.float).view((seq_len, 1)) * freqs)\n",
    "    v2 = v2 * torch.tensor([1, -1] * (dim // 2))\n",
    "    indices = torch.tensor([j for i in range(0, dim, 2) for j in (i + 1, i)])\n",
    "    return v1.to(device, dtype=dtype), v2.to(device, dtype=dtype), indices.to(device)\n",
    "\n",
    "\n",
    "def apply_rope_slow(x, rope_cache, positions: Optional[torch.Tensor] = None):\n",
    "    v1, v2, indices = rope_cache\n",
    "    seq_len, dim = x.shape[1:]\n",
    "    if positions is None:\n",
    "        v1 = v1[:seq_len, :]\n",
    "        v2 = v2[:seq_len, :]\n",
    "    else:\n",
    "        v1 = v1[positions, torch.arange(dim)].view((-1, dim))\n",
    "        v2 = v2[positions, torch.arange(dim)].view((-1, dim))\n",
    "    applied_x = x * v1 + (x * v2)[:, :, indices]\n",
    "    return applied_x\n",
    "\n",
    "\n",
    "# Optimized ROPE implementation copied from Llama\n",
    "def precompute_freqs_cis(dim: int, seq_len: int, theta: float = 10000.0):\n",
    "    freqs = 1.0 / (theta ** (torch.arange(0, dim, 2)[: (dim // 2)].float() / dim))\n",
    "    t = torch.arange(seq_len, device=freqs.device)\n",
    "    freqs = torch.outer(t, freqs).float()\n",
    "    freqs_cis = torch.polar(torch.ones_like(freqs), freqs)\n",
    "    return freqs_cis.cuda()\n",
    "\n",
    "\n",
    "def apply_rotary_emb(\n",
    "        xq: torch.Tensor,\n",
    "        xk: torch.Tensor,\n",
    "        freqs_cis: torch.Tensor,\n",
    ") -> Tuple[torch.Tensor, torch.Tensor]:\n",
    "    # xq.shape = [batch_size, seq_len, dim]\n",
    "    # xq_.shape = [batch_size, seq_len, dim // 2, 2]\n",
    "    xq_ = xq.float().reshape(*xq.shape[:-1], -1, 2)\n",
    "    xk_ = xk.float().reshape(*xk.shape[:-1], -1, 2)\n",
    "\n",
    "    # 转为复数域\n",
    "    xq_ = torch.view_as_complex(xq_)\n",
    "    xk_ = torch.view_as_complex(xk_)\n",
    "\n",
    "    # 应用旋转操作，然后将结果转回实数域\n",
    "    # xq_out.shape = [batch_size, seq_len, dim]\n",
    "    xq_out = torch.view_as_real(xq_ * freqs_cis).flatten(2)\n",
    "    xk_out = torch.view_as_real(xk_ * freqs_cis).flatten(2)\n",
    "    return xq_out.type_as(xq), xk_out.type_as(xk)\n",
    "\n",
    "\n",
    "class AttentionHead(nn.Module):\n",
    "    def __init__(self, config: TransformerConfig):\n",
    "        super().__init__()\n",
    "        self.config = config\n",
    "        self.hidden_size = config.hidden_size\n",
    "        self.dtype = config.dtype\n",
    "        self.q_proj = nn.Linear(config.hidden_size, config.hidden_size // config.num_heads, dtype=config.dtype)\n",
    "        self.k_proj = nn.Linear(config.hidden_size, config.hidden_size // config.num_heads, dtype=config.dtype)\n",
    "        self.v_proj = nn.Linear(config.hidden_size, config.hidden_size // config.num_heads, dtype=config.dtype)\n",
    "\n",
    "    def forward(self, x: torch.Tensor, attn_mask: Optional[torch.Tensor],\n",
    "                kv_cache: Optional[List[torch.Tensor]]) -> Tuple[torch.Tensor, List[torch.Tensor]]:\n",
    "        B, T, C = x.shape\n",
    "\n",
    "        mask_zero = torch.tensor(0, dtype=self.dtype)\n",
    "        mask_val = torch.tensor(torch.finfo(self.dtype).min / 2, dtype=self.dtype)\n",
    "        if kv_cache is None and attn_mask is not None:\n",
    "            apply_mask = expand_attn_mask(attn_mask)\n",
    "        elif kv_cache is None and not self.config.enable_fast_attn:\n",
    "            apply_mask = expand_attn_mask(torch.ones(x.shape[:2]))\n",
    "        elif kv_cache is not None:\n",
    "            apply_mask = torch.ones((B, T, T), dtype=torch.bool)\n",
    "        else:\n",
    "            apply_mask = None\n",
    "\n",
    "        if not self.config.enable_fast_attn:\n",
    "            apply_mask = torch.where(apply_mask, mask_zero, mask_val)\n",
    "\n",
    "        use_flash_attn = self.config.enable_fast_attn and kv_cache is None and apply_mask is None\n",
    "\n",
    "        q = self.q_proj(x)\n",
    "        k = self.k_proj(x)\n",
    "        v = self.v_proj(x)\n",
    "\n",
    "        if self.config.enable_rel_pos:\n",
    "            #positions = torch.tensor([kv_cache[0].shape[1]]).to(q.device) if kv_cache is not None else None\n",
    "            #q = apply_rope(q, self.config.root_model.rope_cache, positions=positions)\n",
    "            #k = apply_rope(k, self.config.root_model.rope_cache, positions=positions)\n",
    "            q, k = apply_rotary_emb(q, k, self.config.root_model.rope_cache)\n",
    "\n",
    "        if kv_cache is not None:\n",
    "            k = torch.concat([kv_cache[0], k], dim=1)\n",
    "            v = torch.concat([kv_cache[1], v], dim=1)\n",
    "\n",
    "        if self.config.enable_fast_attn:\n",
    "            # noinspection PyUnresolvedReferences\n",
    "            if use_flash_attn:\n",
    "                q, k, v, = q.unsqueeze(1), k.unsqueeze(1), v.unsqueeze(1)\n",
    "            with torch.backends.cuda.sdp_kernel(enable_flash=use_flash_attn, enable_math=not use_flash_attn, enable_mem_efficient=not use_flash_attn):\n",
    "                attn_result = nn.functional.scaled_dot_product_attention(q, k, v,\n",
    "                                                                         attn_mask=apply_mask.to(q.device) if apply_mask is not None else None,\n",
    "                                                                         is_causal=True if apply_mask is None else False)\n",
    "            if use_flash_attn:\n",
    "                q, k, v, attn_result = q.squeeze(1), k.squeeze(1), v.squeeze(1), attn_result.squeeze(1)\n",
    "        else:\n",
    "            attn_score = (q @ k.permute(0, 2, 1) / (self.hidden_size ** 0.5)) + apply_mask.to(q.device)\n",
    "            attn_result = torch.softmax(attn_score, dim=2) @ v\n",
    "\n",
    "        return attn_result, [k, v]\n",
    "\n",
    "\n",
    "class MultiHeadAttention(nn.Module):\n",
    "    def __init__(self, config: TransformerConfig):\n",
    "        super().__init__()\n",
    "        self.config = config\n",
    "        self.attn_heads = nn.ModuleList([AttentionHead(config) for _ in range(config.num_heads)])\n",
    "        self.o_proj = nn.Linear(config.hidden_size, config.hidden_size, dtype=config.dtype)\n",
    "\n",
    "    def forward(self, x: torch.Tensor, attn_mask: Optional[torch.Tensor],\n",
    "                kv_cache: Optional[List[torch.Tensor]]) -> Tuple[torch.Tensor, List[List[torch.Tensor]]]:\n",
    "        head_outputs = [head(x, attn_mask, kv_cache[idx] if kv_cache is not None else None) for idx, head in\n",
    "                        enumerate(self.attn_heads)]\n",
    "        return self.o_proj(torch.concat([o[0] for o in head_outputs], dim=2)), [o[1] for o in head_outputs]\n",
    "\n",
    "\n",
    "class DecoderLayer(nn.Module):\n",
    "    def __init__(self, config: TransformerConfig):\n",
    "        super().__init__()\n",
    "        self.config = config\n",
    "        self.mha = MultiHeadAttention(config)\n",
    "        self.up_proj = nn.Linear(config.hidden_size, config.hidden_size * 4, dtype=config.dtype)\n",
    "        self.down_proj = nn.Linear(config.hidden_size * 4, config.hidden_size, dtype=config.dtype)\n",
    "        self.ln_mha = nn.LayerNorm(config.hidden_size, dtype=config.dtype)\n",
    "        self.ln_ffn = nn.LayerNorm(config.hidden_size, dtype=config.dtype)\n",
    "        self.act = nn.GELU()\n",
    "\n",
    "    def forward(self, x: torch.Tensor, attn_mask: Optional[torch.Tensor],\n",
    "                kv_cache: Optional[List[torch.Tensor]]) -> Tuple[torch.Tensor, List[List[torch.Tensor]]]:\n",
    "        mha_output, new_kv_cache = self.mha(self.ln_mha(x), attn_mask, kv_cache)\n",
    "        mha_output = x + mha_output\n",
    "        ffn_output = self.down_proj(self.act(self.up_proj(self.ln_ffn(mha_output))))\n",
    "        return mha_output + ffn_output, new_kv_cache\n",
    "\n",
    "\n",
    "class ToyTransformer(nn.Module):\n",
    "    def __init__(self, vocab_size: int, num_layers: int, num_heads: int, hidden_size: int, max_seq_len: int,\n",
    "                 device: torch.device = torch.device('cpu'), dtype: torch.dtype = torch.float32,\n",
    "                 enable_rel_pos: bool = False, enable_fast_attn: bool = False):\n",
    "        super().__init__()\n",
    "        self.config = TransformerConfig(vocab_size, num_layers, num_heads, hidden_size, max_seq_len, self, device,\n",
    "                                        dtype, enable_rel_pos, enable_fast_attn)\n",
    "\n",
    "        self.sem_embed = nn.Embedding(vocab_size, hidden_size, dtype=dtype)\n",
    "\n",
    "        if not self.config.enable_rel_pos:\n",
    "            self.pos_embed = nn.Embedding(max_seq_len, hidden_size, dtype=dtype)\n",
    "        else:\n",
    "            # self.rope_cache = get_rope_cache(max_seq_len, hidden_size // num_heads, 10000, device, dtype)\n",
    "            self.rope_cache = precompute_freqs_cis(hidden_size // num_heads, max_seq_len)\n",
    "\n",
    "        self.decoder_layers = nn.ModuleList([DecoderLayer(self.config) for _ in range(num_layers)])\n",
    "        self.lm_head = nn.Linear(hidden_size, vocab_size, dtype=dtype)\n",
    "        self.to(device)\n",
    "\n",
    "    def forward(self, seq: torch.Tensor,\n",
    "                position_ids: Optional[torch.Tensor] = None,\n",
    "                attn_mask: Optional[torch.Tensor] = None,\n",
    "                kv_cache: Optional[List[torch.Tensor]] = None) -> Tuple[torch.Tensor, List[List[List[torch.Tensor]]]]:\n",
    "\n",
    "        if self.config.enable_rel_pos:\n",
    "            hidden = self.sem_embed(seq)\n",
    "        elif position_ids is not None:\n",
    "            hidden = self.sem_embed(seq) + self.pos_embed(position_ids)\n",
    "        else:\n",
    "            hidden = self.sem_embed(seq) + self.pos_embed(torch.arange(0, seq.shape[1], 1).to(self.device))\n",
    "\n",
    "        new_kv_cache = []\n",
    "        for idx, decoder in enumerate(self.decoder_layers):\n",
    "            hidden, layer_kv_cache = decoder(hidden, attn_mask, kv_cache[idx] if kv_cache is not None else None)\n",
    "            new_kv_cache.append(layer_kv_cache)\n",
    "\n",
    "        return self.lm_head(hidden), new_kv_cache\n",
    "\n",
    "    @property\n",
    "    def device(self):\n",
    "        return next(self.parameters()).device\n",
    "\n",
    "# torch.manual_seed(0)\n",
    "# a = AttentionHead(TransformerConfig(num_heads=1, hidden_size=256, max_seq_len=2, enable_rel_pos=True, enable_fast_attn=False))\n",
    "# torch.manual_seed(0)\n",
    "# b = AttentionHead(TransformerConfig(num_heads=1, hidden_size=256, max_seq_len=2, enable_rel_pos=False, enable_fast_attn=False))\n",
    "# \n",
    "# d = torch.randn((3, 256, 256))\n",
    "# ao = (a.forward(d, None, None)[0])\n",
    "# bo = (b.forward(d, None, None)[0])\n",
    "# torch.allclose(ao, bo)"
   ]
  },
  {
   "cell_type": "code",
   "execution_count": null,
   "outputs": [],
   "source": [
    "debug_model = ToyTransformer(tokenizer.get_vocab_size(), 2, 2, 256, 128, enable_fast_attn=True, enable_rel_pos=True)\n",
    "print('Total parameters:', sum([t.numel() for t in debug_model.parameters()]))"
   ],
   "metadata": {
    "collapsed": false
   },
   "id": "dda0053a2d0e7da2"
  },
  {
   "cell_type": "code",
   "execution_count": null,
   "id": "d124589733f9ed1c",
   "metadata": {},
   "outputs": [],
   "source": [
    "if not C_DEBUG:\n",
    "    model = ToyTransformer(tokenizer.get_vocab_size(), C_NUM_LAYERS, C_NUM_HEADS, C_HIDDEN_SIZE, 511, C_DEVICE, C_DTYPE, enable_rel_pos=True,\n",
    "                           enable_fast_attn=True)\n",
    "    model = model.to(C_DEVICE)\n",
    "    print('Total parameters:', sum([t.numel() for t in model.parameters()]))"
   ]
  },
  {
   "cell_type": "code",
   "execution_count": null,
   "outputs": [],
   "source": [
    "if not C_DEBUG:\n",
    "    # model.load_state_dict(torch.load('./tiny_stories_0.8_epoch.pt'))\n",
    "    print(model)"
   ],
   "metadata": {
    "collapsed": false
   },
   "id": "f906aed5"
  },
  {
   "cell_type": "code",
   "execution_count": null,
   "outputs": [],
   "source": [
    "gc.collect()\n",
    "torch.cuda.empty_cache()"
   ],
   "metadata": {
    "collapsed": false
   },
   "id": "dca6004e9b65892c"
  },
  {
   "cell_type": "code",
   "execution_count": null,
   "id": "eaba00d2720d53e6",
   "metadata": {
    "scrolled": true
   },
   "outputs": [],
   "source": [
    "def train_model(model, num_epochs, batch_size, max_lr, min_lr, warmup_ratio,\n",
    "                token_ids, position_ids, attn_masks, loss_masks, show_progress=True):\n",
    "    optimizer = torch.optim.AdamW(model.parameters(), lr=max_lr)\n",
    "    scheduler = torch.optim.lr_scheduler.OneCycleLR(optimizer, max_lr=max_lr,\n",
    "                                                    total_steps=(len(token_ids) // batch_size + 1) * num_epochs,\n",
    "                                                    final_div_factor=max_lr / min_lr, pct_start=warmup_ratio)\n",
    "\n",
    "    model.train()\n",
    "    for epoch_num in range(num_epochs):\n",
    "        batches = tqdm.tqdm(list(range(0, len(token_ids), batch_size)), desc=f'Epoch {epoch_num}', disable=not show_progress)\n",
    "        for batch_i in batches:\n",
    "            step_start_time = time.time()\n",
    "\n",
    "            inputs = token_ids[batch_i:batch_i + batch_size, :-1].to(model.device)\n",
    "            labels = token_ids[batch_i:batch_i + batch_size, 1:].to(model.device)\n",
    "\n",
    "            positions = position_ids[batch_i:batch_i + batch_size, :-1].to(model.device) if position_ids is not None else None\n",
    "            attn_mask = attn_masks[batch_i:batch_i + batch_size, :-1].to(model.device) if attn_masks is not None else None\n",
    "            loss_mask = loss_masks[batch_i:batch_i + batch_size, 1:] if loss_masks is not None else None\n",
    "\n",
    "            logits, kv_state = model.forward(inputs, position_ids=positions, attn_mask=attn_mask)\n",
    "\n",
    "            probs = torch.softmax(logits, dim=2).view(-1, logits.shape[-1])\n",
    "\n",
    "            loss = (-torch.log(probs[torch.arange(probs.shape[0]), labels.reshape(-1)]))\n",
    "            if loss_mask is not None:\n",
    "                loss = (loss * loss_mask.reshape(-1)).mean()\n",
    "            else:\n",
    "                loss = loss.mean()\n",
    "\n",
    "            optimizer.zero_grad()\n",
    "            loss.backward()\n",
    "            optimizer.step()\n",
    "\n",
    "            step_time_cost = time.time() - step_start_time\n",
    "            throughput = round(probs.shape[0] / step_time_cost / 1000, 2)\n",
    "\n",
    "            step_stat = {'Loss': f'{loss.item():.3f}',\n",
    "                         'LR': f'{scheduler.get_last_lr()[0]:.5}',\n",
    "                         'Throughput': f'{throughput} kt/s'}\n",
    "\n",
    "            if show_progress:\n",
    "                batches.set_postfix(step_stat)\n",
    "            else:\n",
    "                print(', '.join(f'{s[0]}:{s[1]}' for s in step_stat.items()))\n",
    "\n",
    "            scheduler.step()\n",
    "        batches.close()\n",
    "\n",
    "\n",
    "if C_DEBUG:\n",
    "    train_model(debug_model, num_epochs=100, batch_size=128, max_lr=1e-3, min_lr=1e-4,\n",
    "                warmup_ratio=0.1,\n",
    "                token_ids=debug_seq, position_ids=None, attn_masks=None, loss_masks=None,\n",
    "                show_progress=False)\n",
    "else:\n",
    "    train_model(model, num_epochs=1, batch_size=16 * 4, max_lr=1e-3, min_lr=1e-4,\n",
    "                warmup_ratio=0.1,\n",
    "                token_ids=token_ids, position_ids=position_ids, attn_masks=None, loss_masks=None,\n",
    "                show_progress=True)"
   ]
  },
  {
   "cell_type": "code",
   "execution_count": null,
   "outputs": [],
   "source": [],
   "metadata": {
    "collapsed": false
   },
   "id": "f9ef30d2a4197797"
  },
  {
   "cell_type": "code",
   "execution_count": null,
   "id": "2e800403549c98d2",
   "metadata": {},
   "outputs": [],
   "source": [
    "def generate(model, tokenizer, prompt, temperature, top_p, rep_penalty,\n",
    "             max_new_tokens=20, total_tokens=None,\n",
    "             end_tokens=None,\n",
    "             enable_kv_cache=True):\n",
    "    model.eval()\n",
    "\n",
    "    feed_tokens = tokenizer.encode(prompt)\n",
    "    all_tokens = feed_tokens.copy()\n",
    "    if total_tokens is not None:\n",
    "        max_new_tokens = max(0, total_tokens - len(feed_tokens))\n",
    "\n",
    "    with torch.no_grad():\n",
    "        kv_cache = None\n",
    "        for _ in range(max_new_tokens):\n",
    "            position_ids = None if kv_cache is None else torch.tensor([[len(all_tokens) - 1]]).to(model.device)\n",
    "            logits, kv_cache = model.forward(\n",
    "                torch.tensor([feed_tokens if enable_kv_cache else all_tokens]).to(model.device),\n",
    "                position_ids=position_ids,\n",
    "                kv_cache=kv_cache)\n",
    "            logits = logits[0][-1].cpu()\n",
    "            if not enable_kv_cache:\n",
    "                kv_cache = None\n",
    "\n",
    "            # apply repetition penalty\n",
    "            logits_rep = torch.gather(logits, 0, torch.tensor(all_tokens))\n",
    "            logits_rep = torch.where(logits_rep < 0, logits_rep * rep_penalty, logits_rep / rep_penalty)\n",
    "            logits.scatter_(0, torch.tensor(all_tokens), logits_rep)\n",
    "\n",
    "            # apply temperature\n",
    "            logits /= max(temperature, 1e-6)\n",
    "\n",
    "            probs = torch.softmax(logits, dim=0)\n",
    "\n",
    "            # apply top-p\n",
    "            ordered_probs, ordered_indices = torch.sort(probs, descending=True)\n",
    "            cum_probs = torch.cumsum(ordered_probs, dim=0).tolist()\n",
    "            top_p_index = bisect.bisect_right(cum_probs, top_p) + 1\n",
    "            ordered_probs, ordered_indices = ordered_probs[:top_p_index], ordered_indices[:top_p_index]\n",
    "            sampled_index = ordered_indices[torch.multinomial(ordered_probs, num_samples=1).item()].item()\n",
    "\n",
    "            all_tokens.append(sampled_index)\n",
    "            feed_tokens = [sampled_index]\n",
    "\n",
    "            if end_tokens is not None and sampled_index in end_tokens:\n",
    "                break\n",
    "\n",
    "    return tokenizer.decode(all_tokens)"
   ]
  },
  {
   "cell_type": "code",
   "execution_count": null,
   "outputs": [],
   "source": [
    "print(repr(tokenizer.decode(debug_seq[-1].tolist())))"
   ],
   "metadata": {
    "collapsed": false
   },
   "id": "f94c17f13926df4a"
  },
  {
   "cell_type": "code",
   "execution_count": null,
   "id": "1bc924753b5acfc5",
   "metadata": {},
   "outputs": [],
   "source": [
    "a = time.time()\n",
    "result = generate(debug_model, tokenizer, 'd.',\n",
    "                  temperature=1.0, top_p=0.001, rep_penalty=1.0,\n",
    "                  total_tokens=128,\n",
    "                  end_tokens=tokenizer.encode('</s>'),\n",
    "                  enable_kv_cache=True)\n",
    "print(repr(result))\n",
    "print(f'{time.time() - a:.3f} sec(s)')"
   ]
  },
  {
   "cell_type": "code",
   "execution_count": 33,
   "outputs": [],
   "source": [
    "# Optimized ROPE adopted from https://github.com/huggingface/transformers/blob/main/src/transformers/models/llama/modeling_llama.py\n",
    "def get_rope_cache_fast(seq_len: int, dim: int, theta: int, device: torch.device, dtype: torch.dtype):\n",
    "    # inv_freq = (1.0 / (theta ** (torch.arange(0, dim, 2).float().to(device) / dim))).to(dtype)\n",
    "    # t = torch.arange(seq_len, device=device, dtype=inv_freq.dtype)\n",
    "    # freqs = torch.einsum(\"i,j->ij\", t, inv_freq)\n",
    "    # emb = torch.cat((freqs, freqs), dim=-1)\n",
    "    # return emb.cos(), emb.sin()\n",
    "    assert dim % 2 == 0\n",
    "    freqs = theta ** (-2 * torch.arange(0, dim // 2, 1.) / dim)\n",
    "    freqs = torch.repeat_interleave(freqs, 2)\n",
    "    v1 = torch.cos(torch.arange(seq_len, dtype=torch.float).view((seq_len, 1)) * freqs)\n",
    "    v2 = torch.sin(torch.arange(seq_len, dtype=torch.float).view((seq_len, 1)) * freqs)\n",
    "    return v1.to(device, dtype=dtype), v2.to(device, dtype=dtype)\n",
    "\n",
    "\n",
    "def rotate_half(x):\n",
    "    \"\"\"Rotates half the hidden dims of the input.\"\"\"\n",
    "    x1 = x[..., : x.shape[-1] // 2]\n",
    "    x2 = x[..., x.shape[-1] // 2:]\n",
    "    return torch.cat((-x2, x1), dim=-1)\n",
    "\n",
    "\n",
    "def apply_rope_fast(x, rope_cache, positions: Optional[torch.Tensor] = None):\n",
    "    cos, sin = rope_cache\n",
    "    seq_len, dim = x.shape[1:]\n",
    "    if positions is not None:\n",
    "        cos = cos[positions].unsqueeze(1)\n",
    "        sin = sin[positions].unsqueeze(1)\n",
    "    else:\n",
    "        cos = cos[:seq_len]\n",
    "        sin = sin[:seq_len]\n",
    "    applied = (x * cos) + (rotate_half(x) * sin)\n",
    "    return applied\n",
    "\n",
    "\n",
    "cache_slow = get_rope_cache_slow(128, 512, 10000, torch.device('cuda'), torch.bfloat16)\n",
    "cache_fast = get_rope_cache_fast(128, 512, 10000, torch.device('cuda'), torch.bfloat16)\n",
    "\n",
    "torch.manual_seed(0)\n",
    "q = torch.rand((1, 128, 512), device=torch.device('cuda'))\n",
    "\n",
    "a = apply_rope_slow(q, cache_slow)\n",
    "b = apply_rope_fast(q, cache_fast)"
   ],
   "metadata": {
    "collapsed": false,
    "ExecuteTime": {
     "end_time": "2023-10-20T01:21:53.177517348Z",
     "start_time": "2023-10-20T01:21:53.163764345Z"
    }
   },
   "id": "ba9e208573ba7f7f"
  },
  {
   "cell_type": "code",
   "execution_count": 34,
   "outputs": [
    {
     "data": {
      "text/plain": "tensor([[[ 3.9905e-01,  5.1668e-01,  2.4930e-02,  ...,  7.8262e-01,\n           3.0818e-01,  7.2505e-01],\n         [ 7.0288e-02,  5.9516e-01, -2.4674e-01,  ...,  1.3797e-01,\n           4.4884e-01,  9.8853e-01],\n         [-7.9757e-01,  2.2292e-01, -4.2485e-01,  ...,  9.7830e-01,\n           4.1490e-01,  7.3124e-01],\n         ...,\n         [ 5.2722e-01, -1.0833e-01,  9.5904e-05,  ...,  5.2229e-01,\n           3.0103e-01,  9.4630e-01],\n         [ 2.8446e-01,  4.5265e-01, -6.2621e-01,  ...,  4.7318e-01,\n           4.4343e-01,  5.9790e-01],\n         [ 9.6523e-03,  8.3252e-01, -8.6934e-02,  ...,  8.7490e-01,\n           5.1446e-01,  7.3176e-01]]], device='cuda:0')"
     },
     "execution_count": 34,
     "metadata": {},
     "output_type": "execute_result"
    }
   ],
   "source": [
    "a"
   ],
   "metadata": {
    "collapsed": false,
    "ExecuteTime": {
     "end_time": "2023-10-20T01:21:53.691516288Z",
     "start_time": "2023-10-20T01:21:53.687882779Z"
    }
   },
   "id": "709dca19c5a9934c"
  },
  {
   "cell_type": "code",
   "execution_count": 35,
   "outputs": [
    {
     "data": {
      "text/plain": "tensor([[[ 0.3990,  0.5167,  0.0249,  ...,  0.7826,  0.3082,  0.7250],\n         [ 0.2104, -0.4720, -0.2046,  ...,  0.1380,  0.4490,  0.9886],\n         [-0.4915, -0.7773, -0.8390,  ...,  0.9783,  0.4152,  0.7313],\n         ...,\n         [ 0.6005,  0.3180, -0.6355,  ...,  0.5308,  0.3223,  0.9507],\n         [ 0.2364,  0.0133, -0.8184,  ...,  0.4753,  0.4618,  0.6037],\n         [ 0.1129, -0.3608, -0.0911,  ...,  0.8787,  0.5243,  0.7334]]],\n       device='cuda:0')"
     },
     "execution_count": 35,
     "metadata": {},
     "output_type": "execute_result"
    }
   ],
   "source": [
    "b"
   ],
   "metadata": {
    "collapsed": false,
    "ExecuteTime": {
     "end_time": "2023-10-20T01:21:54.983007620Z",
     "start_time": "2023-10-20T01:21:54.939198839Z"
    }
   },
   "id": "f7e7c1546c825c92"
  },
  {
   "cell_type": "code",
   "execution_count": null,
   "outputs": [],
   "source": [],
   "metadata": {
    "collapsed": false
   },
   "id": "58569df68d09b1a"
  }
 ],
 "metadata": {
  "kernelspec": {
   "display_name": "Python 3 (ipykernel)",
   "language": "python",
   "name": "python3"
  },
  "language_info": {
   "codemirror_mode": {
    "name": "ipython",
    "version": 3
   },
   "file_extension": ".py",
   "mimetype": "text/x-python",
   "name": "python",
   "nbconvert_exporter": "python",
   "pygments_lexer": "ipython3",
   "version": "3.10.12"
  }
 },
 "nbformat": 4,
 "nbformat_minor": 5
}

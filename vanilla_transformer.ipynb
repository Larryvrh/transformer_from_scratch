{
 "cells": [
  {
   "cell_type": "code",
   "execution_count": 1,
   "id": "initial_id",
   "metadata": {
    "jupyter": {
     "outputs_hidden": true
    },
    "ExecuteTime": {
     "end_time": "2023-10-12T15:27:04.652259Z",
     "start_time": "2023-10-12T15:27:03.863404Z"
    }
   },
   "outputs": [],
   "source": [
    "import re\n",
    "from tokenizers import WordTokenizer, CharTokenizer\n",
    "import torch\n",
    "from torch import nn\n",
    "import json\n",
    "import tqdm.notebook as tqdm\n",
    "import time\n",
    "import bisect\n",
    "import random\n",
    "from typing import *\n",
    "import gc\n",
    "from dataclasses import dataclass"
   ]
  },
  {
   "cell_type": "code",
   "execution_count": 2,
   "id": "40e76bcba3a904db",
   "metadata": {
    "ExecuteTime": {
     "end_time": "2023-10-12T15:27:05.388171Z",
     "start_time": "2023-10-12T15:27:05.332271Z"
    }
   },
   "outputs": [],
   "source": [
    "with open('./corpus/TinyStoriesV2-GPT4-valid.txt', 'r') as file:\n",
    "    raw_text = file.read()\n",
    "    lines = [l.strip() for l in raw_text.split('<|endoftext|>')[:-1]]"
   ]
  },
  {
   "cell_type": "code",
   "execution_count": 13,
   "id": "2fb151752ec125fa",
   "metadata": {
    "ExecuteTime": {
     "end_time": "2023-10-12T15:28:07.332097Z",
     "start_time": "2023-10-12T15:28:07.317851Z"
    }
   },
   "outputs": [],
   "source": [
    "# Network definition\n",
    "C_SEQ_LEN = 512\n",
    "C_VOCAB_SIZE = 4096\n",
    "C_HIDDEN_SIZE = 512\n",
    "C_NUM_HEADS = 8\n",
    "C_NUM_LAYERS = 8\n",
    "\n",
    "C_DEVICE = torch.device('cuda')\n",
    "C_DTYPE = torch.bfloat16"
   ]
  },
  {
   "cell_type": "code",
   "execution_count": 6,
   "outputs": [
    {
     "data": {
      "text/plain": "22493387"
     },
     "execution_count": 6,
     "metadata": {},
     "output_type": "execute_result"
    }
   ],
   "source": [
    "len(raw_text)"
   ],
   "metadata": {
    "collapsed": false,
    "ExecuteTime": {
     "end_time": "2023-10-12T15:27:21.311787Z",
     "start_time": "2023-10-12T15:27:21.305406Z"
    }
   },
   "id": "111829d7be3d3949"
  },
  {
   "cell_type": "code",
   "execution_count": 7,
   "id": "33702a8e6613f742",
   "metadata": {
    "ExecuteTime": {
     "end_time": "2023-10-12T15:27:24.960282Z",
     "start_time": "2023-10-12T15:27:21.915699Z"
    }
   },
   "outputs": [],
   "source": [
    "tokenizer = WordTokenizer(raw_text, vocab_size=C_VOCAB_SIZE, reserved_vocab=['<s>', '</s>', '<pad>'])"
   ]
  },
  {
   "cell_type": "code",
   "execution_count": 8,
   "id": "cdf7fc22d44a2d77",
   "metadata": {
    "ExecuteTime": {
     "end_time": "2023-10-12T15:27:30.897564Z",
     "start_time": "2023-10-12T15:27:27.389976Z"
    }
   },
   "outputs": [
    {
     "data": {
      "text/plain": "0.9968006233353223"
     },
     "execution_count": 8,
     "metadata": {},
     "output_type": "execute_result"
    }
   ],
   "source": [
    "tokenizer.eval_vocab_coverage(raw_text)"
   ]
  },
  {
   "cell_type": "code",
   "execution_count": 9,
   "id": "6236ac3649c35eb1",
   "metadata": {
    "ExecuteTime": {
     "end_time": "2023-10-12T15:27:31.963729Z",
     "start_time": "2023-10-12T15:27:31.950664Z"
    }
   },
   "outputs": [],
   "source": [
    "# token_ids, position_ids, attn_mask, loss_mask = [[]], [[]], [[]], None\n",
    "# mask_index = 1\n",
    "# for l in tqdm.tqdm(lines):\n",
    "#     cursor = 0\n",
    "#     sample_token_ids = tokenizer.encode('<s>' + l + '</s>')\n",
    "#     if len(sample_token_ids) > C_SEQ_LEN:\n",
    "#         continue\n",
    "#     sample_position_ids = list(range(len(sample_token_ids)))\n",
    "#     while cursor < len(sample_token_ids):\n",
    "#         length = min(C_SEQ_LEN - len(token_ids[-1]), len(sample_token_ids) - cursor)\n",
    "#         token_ids[-1] += sample_token_ids[cursor:cursor + length]\n",
    "#         position_ids[-1] += sample_position_ids[cursor:cursor + length]\n",
    "#         attn_mask[-1] += [mask_index] * length\n",
    "#         cursor += length\n",
    "#         mask_index += 1\n",
    "#         if len(token_ids[-1]) == C_SEQ_LEN:\n",
    "#             token_ids.append([])\n",
    "#             position_ids.append([])\n",
    "#             attn_mask.append([])\n",
    "#             mask_index = 1\n",
    "# token_ids = torch.tensor(token_ids[:-1])\n",
    "# position_ids = torch.tensor(position_ids[:-1])\n",
    "# attn_mask = torch.tensor(attn_mask[:-1])"
   ]
  },
  {
   "cell_type": "code",
   "execution_count": 14,
   "outputs": [],
   "source": [
    "# with open('tiny_stories_tokenized.pt', 'wb') as file:\n",
    "#     torch.save([token_ids, position_ids, attn_mask], file)\n",
    "with open('tiny_stories_tokenized.pt', 'rb') as file:\n",
    "    token_ids, position_ids, attn_mask = torch.load(file)"
   ],
   "metadata": {
    "collapsed": false,
    "ExecuteTime": {
     "end_time": "2023-10-12T15:28:09.761565Z",
     "start_time": "2023-10-12T15:28:09.755242Z"
    }
   },
   "id": "799b78921dbff1ec"
  },
  {
   "cell_type": "code",
   "execution_count": 15,
   "id": "fb60031d199ad9a6",
   "metadata": {
    "ExecuteTime": {
     "end_time": "2023-10-12T15:28:10.506794Z",
     "start_time": "2023-10-12T15:28:10.502935Z"
    }
   },
   "outputs": [
    {
     "data": {
      "text/plain": "torch.Size([8, 128])"
     },
     "execution_count": 15,
     "metadata": {},
     "output_type": "execute_result"
    }
   ],
   "source": [
    "debug_seq = torch.tensor([tokenizer.encode(raw_text[:10000])[:128 * 8]]).view((-1, 128))\n",
    "debug_seq.shape"
   ]
  },
  {
   "cell_type": "code",
   "execution_count": 48,
   "id": "34d4a7cb7e49d5f5",
   "metadata": {
    "ExecuteTime": {
     "end_time": "2023-10-12T15:37:30.765212Z",
     "start_time": "2023-10-12T15:37:30.761949Z"
    }
   },
   "outputs": [],
   "source": [
    "@dataclass\n",
    "class TransformerConfig:\n",
    "    vocab_size: int = -1,\n",
    "    num_layers: int = -1,\n",
    "    num_heads: int = -1,\n",
    "    hidden_size: int = -1,\n",
    "    max_seq_len: int = -1,\n",
    "    root_model: 'ToyTransformer' = None\n",
    "    dtype: torch.dtype = torch.float32\n",
    "    enable_rel_pos: bool = False\n",
    "    enable_fast_attn: bool = True\n",
    "\n",
    "\n",
    "def expand_attn_mask(custom_attn_mask: torch.Tensor):\n",
    "    B, T = custom_attn_mask.shape\n",
    "    mask = custom_attn_mask.unsqueeze(1).repeat((1, T, 1))\n",
    "    seq_index_mask = (mask == custom_attn_mask[:, torch.arange(T)].view(B, T, 1))\n",
    "    return seq_index_mask & (torch.tril(mask) > 0)\n",
    "\n",
    "\n",
    "class AttentionHead(nn.Module):\n",
    "    def __init__(self, config: TransformerConfig):\n",
    "        super().__init__()\n",
    "        self.config = config\n",
    "        self.hidden_size = config.hidden_size\n",
    "        self.dtype = config.dtype\n",
    "        self.q_proj = nn.Linear(config.hidden_size, config.hidden_size // config.num_heads, dtype=config.dtype)\n",
    "        self.k_proj = nn.Linear(config.hidden_size, config.hidden_size // config.num_heads, dtype=config.dtype)\n",
    "        self.v_proj = nn.Linear(config.hidden_size, config.hidden_size // config.num_heads, dtype=config.dtype)\n",
    "\n",
    "    def forward(self, x: torch.Tensor, attn_mask: Optional[torch.Tensor],\n",
    "                kv_cache: Optional[List[torch.Tensor]]) -> Tuple[torch.Tensor, List[torch.Tensor]]:\n",
    "        B, T, C = x.shape\n",
    "\n",
    "        mask_zero = torch.tensor(0, dtype=self.dtype)\n",
    "        mask_val = torch.tensor(torch.finfo(self.dtype).min / 2, dtype=self.dtype)\n",
    "        if kv_cache is None and attn_mask is not None:\n",
    "            causal_mask = expand_attn_mask(attn_mask)\n",
    "        elif kv_cache is None:\n",
    "            causal_mask = expand_attn_mask(torch.ones(x.shape[:2]))\n",
    "        else:\n",
    "            causal_mask = torch.ones((B, T, T), dtype=torch.bool)\n",
    "        if not self.config.enable_fast_attn:\n",
    "            causal_mask = torch.where(causal_mask, mask_zero, mask_val)\n",
    "\n",
    "        q = self.q_proj(x)\n",
    "        k = self.k_proj(x)\n",
    "        v = self.v_proj(x)\n",
    "        if kv_cache is not None:\n",
    "            k = torch.concat([kv_cache[0], k], dim=1)\n",
    "            v = torch.concat([kv_cache[1], v], dim=1)\n",
    "\n",
    "        if self.config.enable_rel_pos:\n",
    "            if kv_cache is None:\n",
    "                rel_pos = torch.tensor([[s + (self.config.max_seq_len - 1) for s in range(-i, T - i)] for i in range(T)],\n",
    "                                       device=q.device)\n",
    "            else:\n",
    "                rel_pos = torch.tensor([[s + (self.config.max_seq_len - 1) for s in range(-k.shape[1] + 1, 1)]], device=q.device)\n",
    "            rel_emb = self.config.root_model.pos_embed(rel_pos)\n",
    "            attn_offset = (q.unsqueeze(2) @ rel_emb.permute(0, 2, 1)).squeeze(2)\n",
    "            attn_score = ((q @ k.permute(0, 2, 1) + attn_offset) / (self.hidden_size ** 0.5)) + causal_mask.to(q.device)\n",
    "            attn_result = torch.softmax(attn_score, dim=2) @ v\n",
    "\n",
    "        elif self.config.enable_fast_attn:\n",
    "            # noinspection PyUnresolvedReferences\n",
    "            with torch.backends.cuda.sdp_kernel(enable_flash=False, enable_math=True, enable_mem_efficient=True):\n",
    "                attn_result = nn.functional.scaled_dot_product_attention(q, k, v, attn_mask=causal_mask.to(q.device))\n",
    "        else:\n",
    "            attn_score = (q @ k.permute(0, 2, 1) / (self.hidden_size ** 0.5)) + causal_mask.to(q.device)\n",
    "            attn_result = torch.softmax(attn_score, dim=2) @ v\n",
    "\n",
    "        return attn_result, [k, v]\n",
    "\n",
    "\n",
    "class MultiHeadAttention(nn.Module):\n",
    "    def __init__(self, config: TransformerConfig):\n",
    "        super().__init__()\n",
    "        self.config = config\n",
    "        self.attn_heads = nn.ModuleList([AttentionHead(config) for _ in range(config.num_heads)])\n",
    "        self.o_proj = nn.Linear(config.hidden_size, config.hidden_size, dtype=config.dtype)\n",
    "\n",
    "    def forward(self, x: torch.Tensor, attn_mask: Optional[torch.Tensor],\n",
    "                kv_cache: Optional[List[torch.Tensor]]) -> Tuple[torch.Tensor, List[List[torch.Tensor]]]:\n",
    "        head_outputs = [head(x, attn_mask, kv_cache[idx] if kv_cache is not None else None) for idx, head in\n",
    "                        enumerate(self.attn_heads)]\n",
    "        return self.o_proj(torch.concat([o[0] for o in head_outputs], dim=2)), [o[1] for o in head_outputs]\n",
    "\n",
    "\n",
    "class DecoderLayer(nn.Module):\n",
    "    def __init__(self, config: TransformerConfig):\n",
    "        super().__init__()\n",
    "        self.config = config\n",
    "        self.mha = MultiHeadAttention(config)\n",
    "        self.up_proj = nn.Linear(config.hidden_size, config.hidden_size * 4, dtype=config.dtype)\n",
    "        self.down_proj = nn.Linear(config.hidden_size * 4, config.hidden_size, dtype=config.dtype)\n",
    "        self.ln_mha = nn.LayerNorm(config.hidden_size, dtype=config.dtype)\n",
    "        self.ln_ffn = nn.LayerNorm(config.hidden_size, dtype=config.dtype)\n",
    "        self.act = nn.GELU()\n",
    "\n",
    "    def forward(self, x: torch.Tensor, attn_mask: Optional[torch.Tensor],\n",
    "                kv_cache: Optional[List[torch.Tensor]]) -> Tuple[torch.Tensor, List[List[torch.Tensor]]]:\n",
    "        mha_output, new_kv_cache = self.mha(self.ln_mha(x), attn_mask, kv_cache)\n",
    "        mha_output = x + mha_output\n",
    "        ffn_output = self.down_proj(self.act(self.up_proj(self.ln_ffn(mha_output))))\n",
    "        return mha_output + ffn_output, new_kv_cache\n",
    "\n",
    "\n",
    "class ToyTransformer(nn.Module):\n",
    "    def __init__(self, vocab_size: int, num_layers: int, num_heads: int, hidden_size: int, max_seq_len: int,\n",
    "                 dtype: torch.dtype = torch.float32,\n",
    "                 enable_rel_pos: bool = False, enable_fast_attn: bool = False):\n",
    "        super().__init__()\n",
    "        self.config = TransformerConfig(vocab_size, num_layers, num_heads, hidden_size, max_seq_len, self, dtype,\n",
    "                                        enable_rel_pos, enable_fast_attn)\n",
    "\n",
    "        self.sem_embed = nn.Embedding(vocab_size, hidden_size, dtype=dtype)\n",
    "\n",
    "        if not self.config.enable_rel_pos:\n",
    "            self.pos_embed = nn.Embedding(max_seq_len, hidden_size, dtype=dtype)\n",
    "        else:\n",
    "            self.pos_embed = nn.Embedding(max_seq_len * 2 - 1, hidden_size // num_heads, dtype=dtype)\n",
    "\n",
    "        self.decoder_layers = nn.ModuleList([DecoderLayer(self.config) for _ in range(num_layers)])\n",
    "        self.lm_head = nn.Linear(hidden_size, vocab_size, dtype=dtype)\n",
    "\n",
    "    def forward(self, seq: torch.Tensor,\n",
    "                position_ids: Optional[torch.Tensor] = None,\n",
    "                attn_mask: Optional[torch.Tensor] = None,\n",
    "                kv_cache: Optional[List[torch.Tensor]] = None) -> Tuple[torch.Tensor, List[List[List[torch.Tensor]]]]:\n",
    "\n",
    "        if self.config.enable_rel_pos:\n",
    "            hidden = self.sem_embed(seq)\n",
    "        elif position_ids is not None:\n",
    "            hidden = self.sem_embed(seq) + self.pos_embed(position_ids)\n",
    "        else:\n",
    "            hidden = self.sem_embed(seq) + self.pos_embed(torch.arange(0, seq.shape[1], 1).to(self.device))\n",
    "\n",
    "        new_kv_cache = []\n",
    "        for idx, decoder in enumerate(self.decoder_layers):\n",
    "            hidden, layer_kv_cache = decoder(hidden, attn_mask, kv_cache[idx] if kv_cache is not None else None)\n",
    "            new_kv_cache.append(layer_kv_cache)\n",
    "\n",
    "        return self.lm_head(hidden), new_kv_cache\n",
    "\n",
    "    @property\n",
    "    def device(self):\n",
    "        return next(self.parameters()).device\n",
    "\n",
    "# torch.manual_seed(0)\n",
    "# a = AttentionHead(TransformerConfig(num_heads=1, hidden_size=256, max_seq_len=2, enable_rel_pos=True, enable_fast_attn=False))\n",
    "# torch.manual_seed(0)\n",
    "# b = AttentionHead(TransformerConfig(num_heads=1, hidden_size=256, max_seq_len=2, enable_rel_pos=False, enable_fast_attn=False))\n",
    "# \n",
    "# d = torch.randn((3, 256, 256))\n",
    "# ao = (a.forward(d, None, None)[0])\n",
    "# bo = (b.forward(d, None, None)[0])\n",
    "# torch.allclose(ao, bo)"
   ]
  },
  {
   "cell_type": "code",
   "execution_count": 49,
   "outputs": [
    {
     "name": "stdout",
     "output_type": "stream",
     "text": [
      "Total parameters: 5810560\n"
     ]
    }
   ],
   "source": [
    "debug_model = ToyTransformer(C_VOCAB_SIZE, 2, 2, 256, 128, enable_fast_attn=False, enable_rel_pos=True)\n",
    "print('Total parameters:', sum([t.numel() for t in debug_model.parameters()]))"
   ],
   "metadata": {
    "collapsed": false,
    "ExecuteTime": {
     "end_time": "2023-10-12T15:37:31.761210Z",
     "start_time": "2023-10-12T15:37:31.711900Z"
    }
   },
   "id": "dda0053a2d0e7da2"
  },
  {
   "cell_type": "code",
   "execution_count": 41,
   "id": "d124589733f9ed1c",
   "metadata": {
    "ExecuteTime": {
     "end_time": "2023-10-12T15:36:33.186006Z",
     "start_time": "2023-10-12T15:36:33.178528Z"
    }
   },
   "outputs": [],
   "source": [
    "model = ToyTransformer(C_VOCAB_SIZE, C_NUM_LAYERS, C_NUM_HEADS, C_HIDDEN_SIZE, C_SEQ_LEN, C_DTYPE, enable_rel_pos=True, enable_fast_attn=False)\n",
    "model = model.to(C_DEVICE)\n",
    "print('Total parameters:', sum([t.numel() for t in model.parameters()]))"
   ]
  },
  {
   "cell_type": "code",
   "execution_count": 42,
   "outputs": [],
   "source": [
    "model"
   ],
   "metadata": {
    "collapsed": false,
    "ExecuteTime": {
     "end_time": "2023-10-12T15:36:33.602742Z",
     "start_time": "2023-10-12T15:36:33.593290Z"
    }
   },
   "id": "f906aed5"
  },
  {
   "cell_type": "code",
   "execution_count": 52,
   "outputs": [],
   "source": [
    "# model.load_state_dict(torch.load('./tiny_stories_0.8_epoch.pt'))"
   ],
   "metadata": {
    "collapsed": false,
    "ExecuteTime": {
     "end_time": "2023-10-12T15:38:00.829191Z",
     "start_time": "2023-10-12T15:38:00.824968Z"
    }
   },
   "id": "7cb50733c6a6feaf"
  },
  {
   "cell_type": "code",
   "execution_count": 51,
   "outputs": [],
   "source": [
    "gc.collect()\n",
    "torch.cuda.empty_cache()"
   ],
   "metadata": {
    "collapsed": false,
    "ExecuteTime": {
     "end_time": "2023-10-12T15:37:57.057134Z",
     "start_time": "2023-10-12T15:37:57.042269Z"
    }
   },
   "id": "dca6004e9b65892c"
  },
  {
   "cell_type": "code",
   "execution_count": 60,
   "id": "eaba00d2720d53e6",
   "metadata": {
    "scrolled": true,
    "ExecuteTime": {
     "end_time": "2023-10-12T15:39:18.408403Z",
     "start_time": "2023-10-12T15:39:00.102373Z"
    }
   },
   "outputs": [
    {
     "name": "stdout",
     "output_type": "stream",
     "text": [
      "Loss:0.608, LR:4e-05, Throughput:21618.03 kt/s\n",
      "Loss:0.600, LR:6.8948e-05, Throughput:16813.34 kt/s\n",
      "Loss:0.587, LR:0.0001523, Throughput:24465.37 kt/s\n",
      "Loss:0.565, LR:0.00028, Throughput:24890.59 kt/s\n",
      "Loss:0.544, LR:0.00043665, Throughput:25426.11 kt/s\n",
      "Loss:0.528, LR:0.00060335, Throughput:21805.05 kt/s\n",
      "Loss:0.444, LR:0.00076, Throughput:22420.48 kt/s\n",
      "Loss:0.406, LR:0.0008877, Throughput:22319.82 kt/s\n",
      "Loss:0.380, LR:0.00097105, Throughput:19365.52 kt/s\n",
      "Loss:0.289, LR:0.001, Throughput:24901.49 kt/s\n",
      "Loss:0.243, LR:0.0009997, Throughput:24810.59 kt/s\n",
      "Loss:0.186, LR:0.00099879, Throughput:25541.86 kt/s\n",
      "Loss:0.155, LR:0.00099727, Throughput:21481.52 kt/s\n",
      "Loss:0.112, LR:0.00099515, Throughput:23600.57 kt/s\n",
      "Loss:0.093, LR:0.00099243, Throughput:22276.35 kt/s\n",
      "Loss:0.068, LR:0.00098912, Throughput:20308.4 kt/s\n",
      "Loss:0.050, LR:0.00098521, Throughput:24460.78 kt/s\n",
      "Loss:0.041, LR:0.00098071, Throughput:24718.5 kt/s\n",
      "Loss:0.030, LR:0.00097563, Throughput:25732.13 kt/s\n",
      "Loss:0.022, LR:0.00096997, Throughput:20605.22 kt/s\n",
      "Loss:0.017, LR:0.00096374, Throughput:23424.16 kt/s\n",
      "Loss:0.014, LR:0.00095695, Throughput:22125.26 kt/s\n",
      "Loss:0.011, LR:0.0009496, Throughput:19805.79 kt/s\n",
      "Loss:0.009, LR:0.00094171, Throughput:24840.07 kt/s\n",
      "Loss:0.007, LR:0.00093328, Throughput:25014.18 kt/s\n",
      "Loss:0.006, LR:0.00092433, Throughput:25390.83 kt/s\n",
      "Loss:0.005, LR:0.00091486, Throughput:20851.25 kt/s\n",
      "Loss:0.004, LR:0.00090489, Throughput:22904.6 kt/s\n",
      "Loss:0.004, LR:0.00089443, Throughput:22490.04 kt/s\n",
      "Loss:0.003, LR:0.00088349, Throughput:19493.78 kt/s\n",
      "Loss:0.003, LR:0.00087209, Throughput:25293.99 kt/s\n",
      "Loss:0.003, LR:0.00086023, Throughput:24890.62 kt/s\n",
      "Loss:0.002, LR:0.00084794, Throughput:25517.14 kt/s\n",
      "Loss:0.002, LR:0.00083523, Throughput:21352.63 kt/s\n",
      "Loss:0.002, LR:0.00082211, Throughput:19978.4 kt/s\n",
      "Loss:0.002, LR:0.0008086, Throughput:24970.67 kt/s\n",
      "Loss:0.002, LR:0.00079472, Throughput:24987.76 kt/s\n",
      "Loss:0.002, LR:0.00078048, Throughput:25521.84 kt/s\n",
      "Loss:0.002, LR:0.0007659, Throughput:21176.26 kt/s\n",
      "Loss:0.001, LR:0.000751, Throughput:20892.4 kt/s\n",
      "Loss:0.001, LR:0.0007358, Throughput:24143.72 kt/s\n",
      "Loss:0.001, LR:0.00072031, Throughput:19506.32 kt/s\n",
      "Loss:0.001, LR:0.00070455, Throughput:24838.62 kt/s\n",
      "Loss:0.001, LR:0.00068855, Throughput:24827.39 kt/s\n",
      "Loss:0.001, LR:0.00067233, Throughput:25270.29 kt/s\n",
      "Loss:0.001, LR:0.00065589, Throughput:21591.11 kt/s\n",
      "Loss:0.001, LR:0.00063927, Throughput:21704.73 kt/s\n",
      "Loss:0.001, LR:0.00062248, Throughput:22426.87 kt/s\n",
      "Loss:0.001, LR:0.00060554, Throughput:19582.77 kt/s\n",
      "Loss:0.001, LR:0.00058848, Throughput:25012.86 kt/s\n",
      "Loss:0.001, LR:0.00057131, Throughput:24800.02 kt/s\n",
      "Loss:0.001, LR:0.00055406, Throughput:25503.05 kt/s\n",
      "Loss:0.001, LR:0.00053674, Throughput:22140.21 kt/s\n",
      "Loss:0.001, LR:0.00051938, Throughput:22968.56 kt/s\n",
      "Loss:0.001, LR:0.000502, Throughput:22427.85 kt/s\n",
      "Loss:0.001, LR:0.00048462, Throughput:19721.96 kt/s\n",
      "Loss:0.001, LR:0.00046726, Throughput:24924.6 kt/s\n",
      "Loss:0.001, LR:0.00044994, Throughput:24790.12 kt/s\n",
      "Loss:0.001, LR:0.00043269, Throughput:24963.92 kt/s\n",
      "Loss:0.001, LR:0.00041552, Throughput:21751.49 kt/s\n",
      "Loss:0.001, LR:0.00039846, Throughput:21099.72 kt/s\n",
      "Loss:0.001, LR:0.00038152, Throughput:22311.46 kt/s\n",
      "Loss:0.001, LR:0.00036473, Throughput:19562.25 kt/s\n",
      "Loss:0.001, LR:0.00034811, Throughput:25152.53 kt/s\n",
      "Loss:0.001, LR:0.00033167, Throughput:24646.04 kt/s\n",
      "Loss:0.001, LR:0.00031545, Throughput:25276.62 kt/s\n",
      "Loss:0.001, LR:0.00029945, Throughput:21597.06 kt/s\n",
      "Loss:0.001, LR:0.00028369, Throughput:22070.12 kt/s\n",
      "Loss:0.001, LR:0.0002682, Throughput:21411.04 kt/s\n",
      "Loss:0.001, LR:0.000253, Throughput:20011.52 kt/s\n",
      "Loss:0.001, LR:0.0002381, Throughput:25058.82 kt/s\n",
      "Loss:0.001, LR:0.00022352, Throughput:24817.43 kt/s\n",
      "Loss:0.001, LR:0.00020928, Throughput:25494.3 kt/s\n",
      "Loss:0.001, LR:0.0001954, Throughput:21206.7 kt/s\n",
      "Loss:0.001, LR:0.00018189, Throughput:22116.76 kt/s\n",
      "Loss:0.001, LR:0.00016877, Throughput:22704.27 kt/s\n",
      "Loss:0.001, LR:0.00015606, Throughput:19991.81 kt/s\n",
      "Loss:0.001, LR:0.00014377, Throughput:24299.23 kt/s\n",
      "Loss:0.001, LR:0.00013191, Throughput:24584.6 kt/s\n",
      "Loss:0.001, LR:0.00012051, Throughput:25266.74 kt/s\n",
      "Loss:0.001, LR:0.00010957, Throughput:21046.45 kt/s\n",
      "Loss:0.001, LR:9.911e-05, Throughput:20681.23 kt/s\n",
      "Loss:0.001, LR:8.9139e-05, Throughput:24396.95 kt/s\n",
      "Loss:0.001, LR:7.9672e-05, Throughput:20118.73 kt/s\n",
      "Loss:0.001, LR:7.0719e-05, Throughput:24302.65 kt/s\n",
      "Loss:0.001, LR:6.2292e-05, Throughput:24840.39 kt/s\n",
      "Loss:0.001, LR:5.4401e-05, Throughput:25421.45 kt/s\n",
      "Loss:0.001, LR:4.7054e-05, Throughput:21491.68 kt/s\n",
      "Loss:0.001, LR:4.0262e-05, Throughput:19919.67 kt/s\n",
      "Loss:0.001, LR:3.4033e-05, Throughput:24579.27 kt/s\n",
      "Loss:0.001, LR:2.8374e-05, Throughput:24876.15 kt/s\n",
      "Loss:0.001, LR:2.3292e-05, Throughput:25510.69 kt/s\n",
      "Loss:0.001, LR:1.8793e-05, Throughput:21029.33 kt/s\n",
      "Loss:0.001, LR:1.4882e-05, Throughput:21925.65 kt/s\n",
      "Loss:0.001, LR:1.1566e-05, Throughput:22367.7 kt/s\n",
      "Loss:0.001, LR:8.8465e-06, Throughput:19734.34 kt/s\n",
      "Loss:0.001, LR:6.7281e-06, Throughput:24659.62 kt/s\n",
      "Loss:0.001, LR:5.2131e-06, Throughput:24403.26 kt/s\n",
      "Loss:0.001, LR:4.3034e-06, Throughput:25047.78 kt/s\n",
      "Loss:0.001, LR:4e-06, Throughput:21106.0 kt/s\n"
     ]
    }
   ],
   "source": [
    "def train_model(model, num_epochs, batch_size, max_lr, min_lr, warmup_ratio,\n",
    "                token_ids, position_ids, attn_masks, loss_masks, show_progress=True):\n",
    "    optimizer = torch.optim.AdamW(model.parameters(), lr=max_lr)\n",
    "    scheduler = torch.optim.lr_scheduler.OneCycleLR(optimizer, max_lr=max_lr,\n",
    "                                                    total_steps=(len(token_ids) // batch_size + 1) * num_epochs,\n",
    "                                                    final_div_factor=max_lr / min_lr, pct_start=warmup_ratio)\n",
    "\n",
    "    model.train()\n",
    "    for epoch_num in range(num_epochs):\n",
    "        batches = tqdm.tqdm(list(range(0, len(token_ids), batch_size)), desc=f'Epoch {epoch_num}', disable=not show_progress)\n",
    "        for batch_i in batches:\n",
    "            step_start_time = time.time()\n",
    "\n",
    "            inputs = token_ids[batch_i:batch_i + batch_size, :-1].to(model.device)\n",
    "            labels = token_ids[batch_i:batch_i + batch_size, 1:].to(model.device)\n",
    "\n",
    "            positions = position_ids[batch_i:batch_i + batch_size, :-1].to(model.device) if position_ids is not None else None\n",
    "            attn_mask = attn_masks[batch_i:batch_i + batch_size, :-1].to(model.device) if attn_masks is not None else None\n",
    "            loss_mask = loss_masks[batch_i:batch_i + batch_size, 1:] if loss_masks is not None else None\n",
    "\n",
    "            logits, kv_state = model.forward(inputs, position_ids=positions, attn_mask=attn_mask)\n",
    "\n",
    "            probs = torch.softmax(logits, dim=2).view(-1, logits.shape[-1])\n",
    "\n",
    "            loss = (-torch.log(probs[torch.arange(probs.shape[0]), labels.reshape(-1)]))\n",
    "            if loss_mask is not None:\n",
    "                loss = (loss * loss_mask.reshape(-1)).mean()\n",
    "            else:\n",
    "                loss = loss.mean()\n",
    "\n",
    "            optimizer.zero_grad()\n",
    "            loss.backward()\n",
    "            optimizer.step()\n",
    "\n",
    "            step_time_cost = time.time() - step_start_time\n",
    "            throughput = round((probs.shape[0] * probs.shape[1]) / step_time_cost / 1000, 2)\n",
    "\n",
    "            step_stat = {'Loss': f'{loss.item():.3f}',\n",
    "                         'LR': f'{scheduler.get_last_lr()[0]:.5}',\n",
    "                         'Throughput': f'{throughput} kt/s'}\n",
    "\n",
    "            if show_progress:\n",
    "                batches.set_postfix(step_stat)\n",
    "            else:\n",
    "                print(', '.join(f'{s[0]}:{s[1]}' for s in step_stat.items()))\n",
    "\n",
    "            scheduler.step()\n",
    "        batches.close()\n",
    "\n",
    "\n",
    "train_model(debug_model, num_epochs=100, batch_size=128, max_lr=1e-3, min_lr=1e-4,\n",
    "            warmup_ratio=0.1,\n",
    "            token_ids=debug_seq, position_ids=None, attn_masks=None, loss_masks=None,\n",
    "            show_progress=False)\n",
    "\n",
    "# train_model(model, num_epochs=1, batch_size=4, max_lr=1e-3, min_lr=1e-4,\n",
    "#             warmup_ratio=0.1,\n",
    "#             token_ids=token_ids, position_ids=position_ids, attn_masks=attn_mask, loss_masks=None,\n",
    "#             show_progress=True)"
   ]
  },
  {
   "cell_type": "code",
   "execution_count": 61,
   "id": "2e800403549c98d2",
   "metadata": {
    "ExecuteTime": {
     "end_time": "2023-10-12T15:39:19.491103Z",
     "start_time": "2023-10-12T15:39:19.486047Z"
    }
   },
   "outputs": [],
   "source": [
    "def generate(model, tokenizer, prompt, temperature, top_p, rep_penalty,\n",
    "             max_new_tokens=20, total_tokens=None,\n",
    "             end_tokens=None,\n",
    "             enable_kv_cache=True):\n",
    "    model.eval()\n",
    "\n",
    "    feed_tokens = tokenizer.encode(prompt)\n",
    "    all_tokens = feed_tokens.copy()\n",
    "    if total_tokens is not None:\n",
    "        max_new_tokens = max(0, total_tokens - len(feed_tokens))\n",
    "\n",
    "    with torch.no_grad():\n",
    "        kv_cache = None\n",
    "        for _ in range(max_new_tokens):\n",
    "            position_ids = None if kv_cache is None else torch.tensor([[len(all_tokens) - 1]]).to(model.device)\n",
    "            logits, kv_cache = model.forward(\n",
    "                torch.tensor([feed_tokens if enable_kv_cache else all_tokens]).to(model.device),\n",
    "                position_ids=position_ids,\n",
    "                kv_cache=kv_cache)\n",
    "            logits = logits[0][-1].cpu()\n",
    "            if not enable_kv_cache:\n",
    "                kv_cache = None\n",
    "\n",
    "            # apply repetition penalty\n",
    "            logits_rep = torch.gather(logits, 0, torch.tensor(all_tokens))\n",
    "            logits_rep = torch.where(logits_rep < 0, logits_rep * rep_penalty, logits_rep / rep_penalty)\n",
    "            logits.scatter_(0, torch.tensor(all_tokens), logits_rep)\n",
    "\n",
    "            # apply temperature\n",
    "            logits /= max(temperature, 1e-6)\n",
    "\n",
    "            probs = torch.softmax(logits, dim=0)\n",
    "\n",
    "            # apply top-p\n",
    "            ordered_probs, ordered_indices = torch.sort(probs, descending=True)\n",
    "            cum_probs = torch.cumsum(ordered_probs, dim=0).tolist()\n",
    "            top_p_index = bisect.bisect_right(cum_probs, top_p) + 1\n",
    "            ordered_probs, ordered_indices = ordered_probs[:top_p_index], ordered_indices[:top_p_index]\n",
    "            sampled_index = ordered_indices[torch.multinomial(ordered_probs, num_samples=1).item()].item()\n",
    "\n",
    "            all_tokens.append(sampled_index)\n",
    "            feed_tokens = [sampled_index]\n",
    "\n",
    "            if end_tokens is not None and sampled_index in end_tokens:\n",
    "                break\n",
    "\n",
    "    return tokenizer.decode(all_tokens)"
   ]
  },
  {
   "cell_type": "code",
   "execution_count": 64,
   "outputs": [
    {
     "name": "stdout",
     "output_type": "stream",
     "text": [
      "'.\\n\"Are you okay, kids?\" Mommy asked. She hugged them and checked if they were hurt.\\n\"We\\'re okay, Mommy. But our toys are broken,\" Lily said.\\n\"I\\'m sorry, Lily. But toys are not important. You are important. We are safe and together. That\\'s what <unk>,\" Mommy said.\\nTom felt sorry for'\n"
     ]
    }
   ],
   "source": [
    "print(repr(tokenizer.decode(debug_seq[0].tolist())))"
   ],
   "metadata": {
    "collapsed": false,
    "ExecuteTime": {
     "end_time": "2023-10-12T15:39:27.000775Z",
     "start_time": "2023-10-12T15:39:26.985087Z"
    }
   },
   "id": "f94c17f13926df4a"
  },
  {
   "cell_type": "code",
   "execution_count": 65,
   "id": "1bc924753b5acfc5",
   "metadata": {
    "ExecuteTime": {
     "end_time": "2023-10-12T15:39:33.341245Z",
     "start_time": "2023-10-12T15:39:33.188225Z"
    }
   },
   "outputs": [
    {
     "name": "stdout",
     "output_type": "stream",
     "text": [
      "'.\\n\"Are you okay, kids?\" Mommy asked. She hugged them and checked if they were hurt.\\n\"We\\'re okay, Mommy. But our toys are broken,\" Lily said.\\n\"I\\'m sorry, Lily. But toys are not important. You are important. We are safe and together. That\\'s what <unk>,\" Mommy said.\\nTom felt sorry for'\n",
      "0.148 sec(s)\n"
     ]
    }
   ],
   "source": [
    "a = time.time()\n",
    "result = generate(debug_model, tokenizer, '<unk>',\n",
    "                  temperature=1.0, top_p=0.001, rep_penalty=1.0,\n",
    "                  total_tokens=128,\n",
    "                  end_tokens=tokenizer.encode('</s>'),\n",
    "                  enable_kv_cache=True)\n",
    "print(repr(result))\n",
    "print(f'{time.time() - a:.3f} sec(s)')"
   ]
  },
  {
   "cell_type": "code",
   "execution_count": null,
   "outputs": [],
   "source": [
    "def isTorchSubClass(obj):\n",
    "    for parent in obj.__class__.__mro__:\n",
    "        if parent.__module__.startswith(\"torch\"):\n",
    "            return True\n",
    "    return False\n",
    "\n",
    "\n",
    "def findTensors(obj, objPath, results, depth):\n",
    "    if depth > 5 or obj == results:\n",
    "        return\n",
    "\n",
    "    if isinstance(obj, (list, tuple, set)):\n",
    "        for i, o in enumerate(obj):\n",
    "            findTensors(o, f\"{objPath}[{i}]\", results, depth + 1)\n",
    "    elif isinstance(obj, dict):\n",
    "        for k, v in obj.items():\n",
    "            findTensors(v, f\"{objPath}[{k}]\", results, depth + 1)\n",
    "\n",
    "    if type(obj) is torch.Tensor:\n",
    "        results.setdefault(objPath, obj)\n",
    "    elif isTorchSubClass(obj):\n",
    "        for attrName in dir(obj):\n",
    "            try:\n",
    "                findTensors(\n",
    "                    getattr(obj, attrName), f\"{objPath}.{attrName}\", results, depth + 1\n",
    "                )\n",
    "            except:\n",
    "                pass\n",
    "\n",
    "\n",
    "def outputTensorSummary(deepTraverse=False):\n",
    "    from gc import get_objects\n",
    "    from warnings import filterwarnings\n",
    "    from collections import Counter\n",
    "\n",
    "    unit, unitName = 1024, \"KB\"\n",
    "\n",
    "    filterwarnings(\"ignore\", message=\"torch.distributed.reduce_op is deprecated\")\n",
    "\n",
    "    isTensor = lambda obj: isinstance(obj, torch.Tensor) or (\n",
    "            hasattr(obj, \"data\") and isinstance(obj.data, torch.Tensor)\n",
    "    )\n",
    "\n",
    "    if deepTraverse:\n",
    "        globalTensors = {}\n",
    "        findTensors(globals().copy(), \"Global\", globalTensors, 0)\n",
    "        globalTensors = {id(v): k for k, v in globalTensors.items()}\n",
    "    else:\n",
    "        globalTensors = {id(v): k for k, v in globals().items() if isTensor(v)}\n",
    "\n",
    "    totalUsage = 0\n",
    "    trivialMemoryUsage = 0\n",
    "    bigTensors = []\n",
    "    for obj in get_objects():\n",
    "        try:\n",
    "            if isTensor(obj):\n",
    "                if obj.device.index == None:\n",
    "                    continue\n",
    "                tensorMemSize = obj.nelement() * obj.element_size()\n",
    "                totalUsage += tensorMemSize\n",
    "                if (tensorMemSize / unit) < 1:\n",
    "                    trivialMemoryUsage += tensorMemSize\n",
    "                    continue\n",
    "                if id(obj) in globalTensors:\n",
    "                    bigTensors.append(\n",
    "                        (obj.shape, tensorMemSize / unit, globalTensors[id(obj)])\n",
    "                    )\n",
    "                else:\n",
    "                    bigTensors.append((obj.shape, tensorMemSize / unit))\n",
    "        except:\n",
    "            pass\n",
    "\n",
    "    print(f\"Total {totalUsage / unit:.2f} {unitName} CUDA memory in use.\\n\")\n",
    "\n",
    "    bigTensors.sort(key=lambda x: x[1], reverse=True)\n",
    "\n",
    "    maxLowerUnit, minLowerUnit = 1000, 100\n",
    "    while minLowerUnit >= 1:\n",
    "        inRangeTensors = [t for t in bigTensors if minLowerUnit <= t[1] <= maxLowerUnit]\n",
    "        groupCounter = Counter(inRangeTensors)\n",
    "        print(f\"Tensors of size {minLowerUnit:>5} - {maxLowerUnit:>5} {unitName}:\")\n",
    "        for tensor, count in groupCounter.items():\n",
    "            print(\n",
    "                f\"  {count:4} * Size: {tensor[1]:.2f} {unitName} Shape: {[*tensor[0]]}\",\n",
    "                end=\"\",\n",
    "            )\n",
    "            print(f' {tensor[2]:.30}' if len(tensor) == 3 else \"\")\n",
    "\n",
    "        print(f\"Total: {sum([t[1] for t in inRangeTensors]):.2f} {unitName}\\n\")\n",
    "        maxLowerUnit, minLowerUnit = maxLowerUnit // 10, minLowerUnit // 10\n",
    "\n",
    "    print(\n",
    "        f\"Total {trivialMemoryUsage / unit :.2f} {unitName} is occupied by trivial tensors(<=1{unitName}).\"\n",
    "    )\n",
    "\n",
    "\n",
    "outputTensorSummary()"
   ],
   "metadata": {
    "collapsed": false
   },
   "id": "28cf9c6e7de51317"
  },
  {
   "cell_type": "code",
   "execution_count": null,
   "outputs": [],
   "source": [
    "d_bsz = 2\n",
    "d_seq = 3\n",
    "d_emb = 7\n",
    "\n",
    "torch.manual_seed(0)\n",
    "rel_emb = nn.Embedding(d_seq * 2 - 1, d_emb)\n",
    "\n",
    "rel_pos = torch.tensor([[s + (d_seq - 1) for s in range(-i, d_seq - i)] for i in range(d_seq)])\n",
    "print([[s for s in range(-i, d_seq - i)] for i in range(d_seq)])\n",
    "r = rel_emb(rel_pos)\n",
    "print(r.shape)\n",
    "\n",
    "q = torch.randn((d_bsz, d_seq, d_emb))\n",
    "k = torch.randn((d_bsz, d_seq, d_emb))\n",
    "v = torch.randn((d_bsz, d_seq, d_emb))\n",
    "#q @ k.permute(0, 2, 1)\n",
    "\n",
    "rel_q = q.unsqueeze(1).repeat(1, d_seq, 1, 1)\n",
    "rel_k = k.unsqueeze(1).repeat(1, d_seq, 1, 1).permute(0, 1, 3, 2)\n",
    "attn_score = rel_q @ rel_k\n",
    "attn_score"
   ],
   "metadata": {
    "collapsed": false
   },
   "id": "3f76f81f024ab03d"
  },
  {
   "cell_type": "code",
   "execution_count": null,
   "outputs": [],
   "source": [
    "q @ k.permute(0, 2, 1)"
   ],
   "metadata": {
    "collapsed": false
   },
   "id": "fa9f6329e0142e3f"
  },
  {
   "cell_type": "code",
   "execution_count": null,
   "outputs": [],
   "source": [
    "aq = q.unsqueeze(2)\n",
    "(aq @ r.permute(0, 2, 1)).squeeze(2)"
   ],
   "metadata": {
    "collapsed": false
   },
   "id": "d6596a34a85fa47f"
  },
  {
   "cell_type": "code",
   "execution_count": null,
   "outputs": [],
   "source": [],
   "metadata": {
    "collapsed": false
   },
   "id": "20f10056277b8f9"
  },
  {
   "cell_type": "code",
   "execution_count": null,
   "outputs": [],
   "source": [],
   "metadata": {
    "collapsed": false
   },
   "id": "ba9e208573ba7f7f"
  }
 ],
 "metadata": {
  "kernelspec": {
   "display_name": "Python 3 (ipykernel)",
   "language": "python",
   "name": "python3"
  },
  "language_info": {
   "codemirror_mode": {
    "name": "ipython",
    "version": 3
   },
   "file_extension": ".py",
   "mimetype": "text/x-python",
   "name": "python",
   "nbconvert_exporter": "python",
   "pygments_lexer": "ipython3",
   "version": "3.10.12"
  }
 },
 "nbformat": 4,
 "nbformat_minor": 5
}

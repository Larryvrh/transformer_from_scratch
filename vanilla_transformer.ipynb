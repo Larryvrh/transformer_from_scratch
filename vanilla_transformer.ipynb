{
 "cells": [
  {
   "cell_type": "code",
   "execution_count": 2,
   "id": "initial_id",
   "metadata": {
    "jupyter": {
     "outputs_hidden": true
    },
    "ExecuteTime": {
     "end_time": "2023-10-12T16:05:07.418133Z",
     "start_time": "2023-10-12T16:05:06.609404Z"
    }
   },
   "outputs": [],
   "source": [
    "import re\n",
    "from tokenizers import WordTokenizer, CharTokenizer\n",
    "import torch\n",
    "from torch import nn\n",
    "import json\n",
    "import tqdm.notebook as tqdm\n",
    "import time\n",
    "import bisect\n",
    "import random\n",
    "from typing import *\n",
    "import gc\n",
    "from dataclasses import dataclass"
   ]
  },
  {
   "cell_type": "code",
   "execution_count": 3,
   "id": "40e76bcba3a904db",
   "metadata": {
    "ExecuteTime": {
     "end_time": "2023-10-12T16:05:07.463119Z",
     "start_time": "2023-10-12T16:05:07.421908Z"
    }
   },
   "outputs": [],
   "source": [
    "with open('./corpus/TinyStoriesV2-GPT4-valid.txt', 'r') as file:\n",
    "    raw_text = file.read()\n",
    "    lines = [l.strip() for l in raw_text.split('<|endoftext|>')[:-1]]"
   ]
  },
  {
   "cell_type": "code",
   "execution_count": 5,
   "id": "2fb151752ec125fa",
   "metadata": {
    "ExecuteTime": {
     "end_time": "2023-10-12T16:06:55.815517Z",
     "start_time": "2023-10-12T16:06:55.802829Z"
    }
   },
   "outputs": [],
   "source": [
    "# Network definition\n",
    "C_SEQ_LEN = 512\n",
    "C_VOCAB_SIZE = 4096\n",
    "C_HIDDEN_SIZE = 512\n",
    "C_NUM_HEADS = 8\n",
    "C_NUM_LAYERS = 8\n",
    "\n",
    "C_DEVICE = torch.device('cuda')\n",
    "C_DTYPE = torch.bfloat16\n",
    "\n",
    "C_DEBUG = True"
   ]
  },
  {
   "cell_type": "code",
   "execution_count": 6,
   "outputs": [
    {
     "data": {
      "text/plain": "22493387"
     },
     "execution_count": 6,
     "metadata": {},
     "output_type": "execute_result"
    }
   ],
   "source": [
    "len(raw_text)"
   ],
   "metadata": {
    "collapsed": false,
    "ExecuteTime": {
     "end_time": "2023-10-12T16:06:56.564112Z",
     "start_time": "2023-10-12T16:06:56.545970Z"
    }
   },
   "id": "111829d7be3d3949"
  },
  {
   "cell_type": "code",
   "execution_count": 7,
   "id": "33702a8e6613f742",
   "metadata": {
    "ExecuteTime": {
     "end_time": "2023-10-12T16:07:01.284497Z",
     "start_time": "2023-10-12T16:06:57.647908Z"
    }
   },
   "outputs": [],
   "source": [
    "tokenizer = WordTokenizer(raw_text, vocab_size=C_VOCAB_SIZE, reserved_vocab=['<s>', '</s>', '<pad>'])"
   ]
  },
  {
   "cell_type": "code",
   "execution_count": 8,
   "id": "cdf7fc22d44a2d77",
   "metadata": {
    "ExecuteTime": {
     "end_time": "2023-10-12T16:07:04.925820Z",
     "start_time": "2023-10-12T16:07:01.358910Z"
    }
   },
   "outputs": [
    {
     "data": {
      "text/plain": "0.9968006233353223"
     },
     "execution_count": 8,
     "metadata": {},
     "output_type": "execute_result"
    }
   ],
   "source": [
    "tokenizer.eval_vocab_coverage(raw_text)"
   ]
  },
  {
   "cell_type": "code",
   "execution_count": 9,
   "id": "6236ac3649c35eb1",
   "metadata": {
    "ExecuteTime": {
     "end_time": "2023-10-12T16:07:04.926185Z",
     "start_time": "2023-10-12T16:07:04.922792Z"
    }
   },
   "outputs": [],
   "source": [
    "# token_ids, position_ids, attn_mask, loss_mask = [[]], [[]], [[]], None\n",
    "# mask_index = 1\n",
    "# for l in tqdm.tqdm(lines):\n",
    "#     cursor = 0\n",
    "#     sample_token_ids = tokenizer.encode('<s>' + l + '</s>')\n",
    "#     if len(sample_token_ids) > C_SEQ_LEN:\n",
    "#         continue\n",
    "#     sample_position_ids = list(range(len(sample_token_ids)))\n",
    "#     while cursor < len(sample_token_ids):\n",
    "#         length = min(C_SEQ_LEN - len(token_ids[-1]), len(sample_token_ids) - cursor)\n",
    "#         token_ids[-1] += sample_token_ids[cursor:cursor + length]\n",
    "#         position_ids[-1] += sample_position_ids[cursor:cursor + length]\n",
    "#         attn_mask[-1] += [mask_index] * length\n",
    "#         cursor += length\n",
    "#         mask_index += 1\n",
    "#         if len(token_ids[-1]) == C_SEQ_LEN:\n",
    "#             token_ids.append([])\n",
    "#             position_ids.append([])\n",
    "#             attn_mask.append([])\n",
    "#             mask_index = 1\n",
    "# token_ids = torch.tensor(token_ids[:-1])\n",
    "# position_ids = torch.tensor(position_ids[:-1])\n",
    "# attn_mask = torch.tensor(attn_mask[:-1])"
   ]
  },
  {
   "cell_type": "code",
   "execution_count": 13,
   "outputs": [],
   "source": [
    "# with open('tiny_stories_tokenized.pt', 'wb') as file:\n",
    "#     torch.save([token_ids, position_ids, attn_mask], file)\n",
    "if not C_DEBUG:\n",
    "    with open('tiny_stories_tokenized.pt', 'rb') as file:\n",
    "        token_ids, position_ids, attn_mask = torch.load(file)"
   ],
   "metadata": {
    "collapsed": false,
    "ExecuteTime": {
     "end_time": "2023-10-12T16:07:20.034329Z",
     "start_time": "2023-10-12T16:07:20.023906Z"
    }
   },
   "id": "799b78921dbff1ec"
  },
  {
   "cell_type": "code",
   "execution_count": 14,
   "id": "fb60031d199ad9a6",
   "metadata": {
    "ExecuteTime": {
     "end_time": "2023-10-12T16:07:21.419458Z",
     "start_time": "2023-10-12T16:07:21.411035Z"
    }
   },
   "outputs": [
    {
     "data": {
      "text/plain": "torch.Size([8, 128])"
     },
     "execution_count": 14,
     "metadata": {},
     "output_type": "execute_result"
    }
   ],
   "source": [
    "debug_seq = torch.tensor([tokenizer.encode(raw_text[:10000])[:128 * 8]]).view((-1, 128))\n",
    "debug_seq.shape"
   ]
  },
  {
   "cell_type": "code",
   "execution_count": 36,
   "id": "34d4a7cb7e49d5f5",
   "metadata": {
    "ExecuteTime": {
     "end_time": "2023-10-12T16:13:44.194236Z",
     "start_time": "2023-10-12T16:13:44.159928Z"
    }
   },
   "outputs": [],
   "source": [
    "@dataclass\n",
    "class TransformerConfig:\n",
    "    vocab_size: int = -1,\n",
    "    num_layers: int = -1,\n",
    "    num_heads: int = -1,\n",
    "    hidden_size: int = -1,\n",
    "    max_seq_len: int = -1,\n",
    "    root_model: 'ToyTransformer' = None\n",
    "    dtype: torch.dtype = torch.float32\n",
    "    enable_rel_pos: bool = False\n",
    "    enable_fast_attn: bool = True\n",
    "\n",
    "\n",
    "def expand_attn_mask(custom_attn_mask: torch.Tensor):\n",
    "    B, T = custom_attn_mask.shape\n",
    "    mask = custom_attn_mask.unsqueeze(1).repeat((1, T, 1))\n",
    "    seq_index_mask = (mask == custom_attn_mask[:, torch.arange(T)].view(B, T, 1))\n",
    "    return seq_index_mask & (torch.tril(mask) > 0)\n",
    "\n",
    "\n",
    "class AttentionHead(nn.Module):\n",
    "    def __init__(self, config: TransformerConfig):\n",
    "        super().__init__()\n",
    "        self.config = config\n",
    "        self.hidden_size = config.hidden_size\n",
    "        self.dtype = config.dtype\n",
    "        self.q_proj = nn.Linear(config.hidden_size, config.hidden_size // config.num_heads, dtype=config.dtype)\n",
    "        self.k_proj = nn.Linear(config.hidden_size, config.hidden_size // config.num_heads, dtype=config.dtype)\n",
    "        self.v_proj = nn.Linear(config.hidden_size, config.hidden_size // config.num_heads, dtype=config.dtype)\n",
    "\n",
    "    def forward(self, x: torch.Tensor, attn_mask: Optional[torch.Tensor],\n",
    "                kv_cache: Optional[List[torch.Tensor]]) -> Tuple[torch.Tensor, List[torch.Tensor]]:\n",
    "        B, T, C = x.shape\n",
    "\n",
    "        mask_zero = torch.tensor(0, dtype=self.dtype)\n",
    "        mask_val = torch.tensor(torch.finfo(self.dtype).min / 2, dtype=self.dtype)\n",
    "        if kv_cache is None and attn_mask is not None:\n",
    "            causal_mask = expand_attn_mask(attn_mask)\n",
    "        elif kv_cache is None:\n",
    "            causal_mask = expand_attn_mask(torch.ones(x.shape[:2]))\n",
    "        else:\n",
    "            causal_mask = torch.ones((B, T, T), dtype=torch.bool)\n",
    "        if not self.config.enable_fast_attn:\n",
    "            causal_mask = torch.where(causal_mask, mask_zero, mask_val)\n",
    "\n",
    "        q = self.q_proj(x)\n",
    "        k = self.k_proj(x)\n",
    "        v = self.v_proj(x)\n",
    "        if kv_cache is not None:\n",
    "            k = torch.concat([kv_cache[0], k], dim=1)\n",
    "            v = torch.concat([kv_cache[1], v], dim=1)\n",
    "\n",
    "        if self.config.enable_rel_pos:\n",
    "            if kv_cache is None:\n",
    "                rel_emb = self.config.root_model.rel_embed_cache[:T, :T]\n",
    "            else:\n",
    "                rel_pos = torch.tensor([[s + (self.config.max_seq_len - 1) for s in range(-k.shape[1] + 1, 1)]], device=q.device)\n",
    "                rel_emb = self.config.root_model.pos_embed(rel_pos)\n",
    "            attn_offset = (q.unsqueeze(2) @ rel_emb.permute(0, 2, 1)).squeeze(2)\n",
    "            attn_score = ((q @ k.permute(0, 2, 1) + attn_offset) / (self.hidden_size ** 0.5)) + causal_mask.to(q.device)\n",
    "            attn_result = torch.softmax(attn_score, dim=2) @ v\n",
    "\n",
    "        elif self.config.enable_fast_attn:\n",
    "            # noinspection PyUnresolvedReferences\n",
    "            with torch.backends.cuda.sdp_kernel(enable_flash=False, enable_math=True, enable_mem_efficient=True):\n",
    "                attn_result = nn.functional.scaled_dot_product_attention(q, k, v, attn_mask=causal_mask.to(q.device))\n",
    "        else:\n",
    "            attn_score = (q @ k.permute(0, 2, 1) / (self.hidden_size ** 0.5)) + causal_mask.to(q.device)\n",
    "            attn_result = torch.softmax(attn_score, dim=2) @ v\n",
    "\n",
    "        return attn_result, [k, v]\n",
    "\n",
    "\n",
    "class MultiHeadAttention(nn.Module):\n",
    "    def __init__(self, config: TransformerConfig):\n",
    "        super().__init__()\n",
    "        self.config = config\n",
    "        self.attn_heads = nn.ModuleList([AttentionHead(config) for _ in range(config.num_heads)])\n",
    "        self.o_proj = nn.Linear(config.hidden_size, config.hidden_size, dtype=config.dtype)\n",
    "\n",
    "    def forward(self, x: torch.Tensor, attn_mask: Optional[torch.Tensor],\n",
    "                kv_cache: Optional[List[torch.Tensor]]) -> Tuple[torch.Tensor, List[List[torch.Tensor]]]:\n",
    "        head_outputs = [head(x, attn_mask, kv_cache[idx] if kv_cache is not None else None) for idx, head in\n",
    "                        enumerate(self.attn_heads)]\n",
    "        return self.o_proj(torch.concat([o[0] for o in head_outputs], dim=2)), [o[1] for o in head_outputs]\n",
    "\n",
    "\n",
    "class DecoderLayer(nn.Module):\n",
    "    def __init__(self, config: TransformerConfig):\n",
    "        super().__init__()\n",
    "        self.config = config\n",
    "        self.mha = MultiHeadAttention(config)\n",
    "        self.up_proj = nn.Linear(config.hidden_size, config.hidden_size * 4, dtype=config.dtype)\n",
    "        self.down_proj = nn.Linear(config.hidden_size * 4, config.hidden_size, dtype=config.dtype)\n",
    "        self.ln_mha = nn.LayerNorm(config.hidden_size, dtype=config.dtype)\n",
    "        self.ln_ffn = nn.LayerNorm(config.hidden_size, dtype=config.dtype)\n",
    "        self.act = nn.GELU()\n",
    "\n",
    "    def forward(self, x: torch.Tensor, attn_mask: Optional[torch.Tensor],\n",
    "                kv_cache: Optional[List[torch.Tensor]]) -> Tuple[torch.Tensor, List[List[torch.Tensor]]]:\n",
    "        mha_output, new_kv_cache = self.mha(self.ln_mha(x), attn_mask, kv_cache)\n",
    "        mha_output = x + mha_output\n",
    "        ffn_output = self.down_proj(self.act(self.up_proj(self.ln_ffn(mha_output))))\n",
    "        return mha_output + ffn_output, new_kv_cache\n",
    "\n",
    "\n",
    "class ToyTransformer(nn.Module):\n",
    "    def __init__(self, vocab_size: int, num_layers: int, num_heads: int, hidden_size: int, max_seq_len: int,\n",
    "                 dtype: torch.dtype = torch.float32,\n",
    "                 enable_rel_pos: bool = False, enable_fast_attn: bool = False):\n",
    "        super().__init__()\n",
    "        self.config = TransformerConfig(vocab_size, num_layers, num_heads, hidden_size, max_seq_len, self, dtype,\n",
    "                                        enable_rel_pos, enable_fast_attn)\n",
    "\n",
    "        self.sem_embed = nn.Embedding(vocab_size, hidden_size, dtype=dtype)\n",
    "\n",
    "        if not self.config.enable_rel_pos:\n",
    "            self.pos_embed = nn.Embedding(max_seq_len, hidden_size, dtype=dtype)\n",
    "        else:\n",
    "            self.pos_embed = nn.Embedding(max_seq_len * 2 - 1, hidden_size // num_heads, dtype=dtype)\n",
    "            rel_pos = torch.tensor([[s + (self.config.max_seq_len - 1) for s in range(-i, max_seq_len - i)]\n",
    "                                    for i in range(max_seq_len)], device=self.device)\n",
    "            self.rel_embed_cache = nn.Parameter(self.pos_embed(rel_pos))\n",
    "\n",
    "        self.decoder_layers = nn.ModuleList([DecoderLayer(self.config) for _ in range(num_layers)])\n",
    "        self.lm_head = nn.Linear(hidden_size, vocab_size, dtype=dtype)\n",
    "\n",
    "    def forward(self, seq: torch.Tensor,\n",
    "                position_ids: Optional[torch.Tensor] = None,\n",
    "                attn_mask: Optional[torch.Tensor] = None,\n",
    "                kv_cache: Optional[List[torch.Tensor]] = None) -> Tuple[torch.Tensor, List[List[List[torch.Tensor]]]]:\n",
    "\n",
    "        if self.config.enable_rel_pos:\n",
    "            hidden = self.sem_embed(seq)\n",
    "        elif position_ids is not None:\n",
    "            hidden = self.sem_embed(seq) + self.pos_embed(position_ids)\n",
    "        else:\n",
    "            hidden = self.sem_embed(seq) + self.pos_embed(torch.arange(0, seq.shape[1], 1).to(self.device))\n",
    "\n",
    "        new_kv_cache = []\n",
    "        for idx, decoder in enumerate(self.decoder_layers):\n",
    "            hidden, layer_kv_cache = decoder(hidden, attn_mask, kv_cache[idx] if kv_cache is not None else None)\n",
    "            new_kv_cache.append(layer_kv_cache)\n",
    "\n",
    "        return self.lm_head(hidden), new_kv_cache\n",
    "\n",
    "    @property\n",
    "    def device(self):\n",
    "        return next(self.parameters()).device\n",
    "\n",
    "# torch.manual_seed(0)\n",
    "# a = AttentionHead(TransformerConfig(num_heads=1, hidden_size=256, max_seq_len=2, enable_rel_pos=True, enable_fast_attn=False))\n",
    "# torch.manual_seed(0)\n",
    "# b = AttentionHead(TransformerConfig(num_heads=1, hidden_size=256, max_seq_len=2, enable_rel_pos=False, enable_fast_attn=False))\n",
    "# \n",
    "# d = torch.randn((3, 256, 256))\n",
    "# ao = (a.forward(d, None, None)[0])\n",
    "# bo = (b.forward(d, None, None)[0])\n",
    "# torch.allclose(ao, bo)"
   ]
  },
  {
   "cell_type": "code",
   "execution_count": 37,
   "outputs": [
    {
     "name": "stdout",
     "output_type": "stream",
     "text": [
      "Total parameters: 5810560\n"
     ]
    }
   ],
   "source": [
    "debug_model = ToyTransformer(C_VOCAB_SIZE, 2, 2, 256, 128, enable_fast_attn=False, enable_rel_pos=True)\n",
    "print('Total parameters:', sum([t.numel() for t in debug_model.parameters()]))"
   ],
   "metadata": {
    "collapsed": false,
    "ExecuteTime": {
     "end_time": "2023-10-12T16:13:44.835026Z",
     "start_time": "2023-10-12T16:13:44.787589Z"
    }
   },
   "id": "dda0053a2d0e7da2"
  },
  {
   "cell_type": "code",
   "execution_count": 38,
   "id": "d124589733f9ed1c",
   "metadata": {
    "ExecuteTime": {
     "end_time": "2023-10-12T16:13:45.531849Z",
     "start_time": "2023-10-12T16:13:45.526851Z"
    }
   },
   "outputs": [],
   "source": [
    "if not C_DEBUG:\n",
    "    model = ToyTransformer(C_VOCAB_SIZE, C_NUM_LAYERS, C_NUM_HEADS, C_HIDDEN_SIZE, C_SEQ_LEN, C_DTYPE, enable_rel_pos=True, enable_fast_attn=False)\n",
    "    model = model.to(C_DEVICE)\n",
    "    print('Total parameters:', sum([t.numel() for t in model.parameters()]))"
   ]
  },
  {
   "cell_type": "code",
   "execution_count": 39,
   "outputs": [],
   "source": [
    "if not C_DEBUG:\n",
    "    model.load_state_dict(torch.load('./tiny_stories_0.8_epoch.pt'))\n",
    "    print(model)"
   ],
   "metadata": {
    "collapsed": false,
    "ExecuteTime": {
     "end_time": "2023-10-12T16:13:46.184274Z",
     "start_time": "2023-10-12T16:13:46.179352Z"
    }
   },
   "id": "f906aed5"
  },
  {
   "cell_type": "code",
   "execution_count": 40,
   "outputs": [],
   "source": [
    "gc.collect()\n",
    "torch.cuda.empty_cache()"
   ],
   "metadata": {
    "collapsed": false,
    "ExecuteTime": {
     "end_time": "2023-10-12T16:13:46.757292Z",
     "start_time": "2023-10-12T16:13:46.752827Z"
    }
   },
   "id": "dca6004e9b65892c"
  },
  {
   "cell_type": "code",
   "execution_count": 42,
   "id": "eaba00d2720d53e6",
   "metadata": {
    "scrolled": true,
    "ExecuteTime": {
     "end_time": "2023-10-12T16:14:31.595398Z",
     "start_time": "2023-10-12T16:14:12.765637Z"
    }
   },
   "outputs": [
    {
     "name": "stdout",
     "output_type": "stream",
     "text": [
      "Loss:0.358, LR:4e-05, Throughput:22113.01 kt/s\n",
      "Loss:0.352, LR:6.8948e-05, Throughput:18326.62 kt/s\n",
      "Loss:0.341, LR:0.0001523, Throughput:23548.99 kt/s\n",
      "Loss:0.326, LR:0.00028, Throughput:24102.21 kt/s\n",
      "Loss:0.330, LR:0.00043665, Throughput:20591.68 kt/s\n",
      "Loss:0.300, LR:0.00060335, Throughput:23040.53 kt/s\n",
      "Loss:0.238, LR:0.00076, Throughput:23753.48 kt/s\n",
      "Loss:0.240, LR:0.0008877, Throughput:19035.76 kt/s\n",
      "Loss:0.197, LR:0.00097105, Throughput:24423.64 kt/s\n",
      "Loss:0.139, LR:0.001, Throughput:23906.88 kt/s\n",
      "Loss:0.116, LR:0.0009997, Throughput:25652.07 kt/s\n",
      "Loss:0.084, LR:0.00099879, Throughput:19885.76 kt/s\n",
      "Loss:0.061, LR:0.00099727, Throughput:19375.89 kt/s\n",
      "Loss:0.050, LR:0.00099515, Throughput:25207.05 kt/s\n",
      "Loss:0.035, LR:0.00099243, Throughput:24762.93 kt/s\n",
      "Loss:0.026, LR:0.00098912, Throughput:25416.93 kt/s\n",
      "Loss:0.021, LR:0.00098521, Throughput:20930.76 kt/s\n",
      "Loss:0.015, LR:0.00098071, Throughput:19390.33 kt/s\n",
      "Loss:0.012, LR:0.00097563, Throughput:24905.96 kt/s\n",
      "Loss:0.009, LR:0.00096997, Throughput:24783.99 kt/s\n",
      "Loss:0.007, LR:0.00096374, Throughput:24960.31 kt/s\n",
      "Loss:0.006, LR:0.00095695, Throughput:21696.01 kt/s\n",
      "Loss:0.005, LR:0.0009496, Throughput:20374.8 kt/s\n",
      "Loss:0.004, LR:0.00094171, Throughput:23517.36 kt/s\n",
      "Loss:0.003, LR:0.00093328, Throughput:24831.98 kt/s\n",
      "Loss:0.003, LR:0.00092433, Throughput:21860.73 kt/s\n",
      "Loss:0.003, LR:0.00091486, Throughput:21312.24 kt/s\n",
      "Loss:0.002, LR:0.00090489, Throughput:18758.84 kt/s\n",
      "Loss:0.002, LR:0.00089443, Throughput:23302.57 kt/s\n",
      "Loss:0.002, LR:0.00088349, Throughput:24112.26 kt/s\n",
      "Loss:0.002, LR:0.00087209, Throughput:20052.23 kt/s\n",
      "Loss:0.002, LR:0.00086023, Throughput:24230.89 kt/s\n",
      "Loss:0.001, LR:0.00084794, Throughput:24470.38 kt/s\n",
      "Loss:0.001, LR:0.00083523, Throughput:22792.56 kt/s\n",
      "Loss:0.001, LR:0.00082211, Throughput:21210.8 kt/s\n",
      "Loss:0.001, LR:0.0008086, Throughput:18424.97 kt/s\n",
      "Loss:0.001, LR:0.00079472, Throughput:23016.08 kt/s\n",
      "Loss:0.001, LR:0.00078048, Throughput:23997.83 kt/s\n",
      "Loss:0.001, LR:0.0007659, Throughput:17015.23 kt/s\n",
      "Loss:0.001, LR:0.000751, Throughput:19877.52 kt/s\n",
      "Loss:0.001, LR:0.0007358, Throughput:22362.8 kt/s\n",
      "Loss:0.001, LR:0.00072031, Throughput:24216.1 kt/s\n",
      "Loss:0.001, LR:0.00070455, Throughput:18338.98 kt/s\n",
      "Loss:0.001, LR:0.00068855, Throughput:24301.77 kt/s\n",
      "Loss:0.001, LR:0.00067233, Throughput:24423.44 kt/s\n",
      "Loss:0.001, LR:0.00065589, Throughput:22552.69 kt/s\n",
      "Loss:0.001, LR:0.00063927, Throughput:21795.79 kt/s\n",
      "Loss:0.001, LR:0.00062248, Throughput:17980.98 kt/s\n",
      "Loss:0.001, LR:0.00060554, Throughput:22809.81 kt/s\n",
      "Loss:0.001, LR:0.00058848, Throughput:24271.76 kt/s\n",
      "Loss:0.001, LR:0.00057131, Throughput:19709.74 kt/s\n",
      "Loss:0.001, LR:0.00055406, Throughput:23773.15 kt/s\n",
      "Loss:0.001, LR:0.00053674, Throughput:24535.08 kt/s\n",
      "Loss:0.001, LR:0.00051938, Throughput:23056.24 kt/s\n",
      "Loss:0.001, LR:0.000502, Throughput:21089.02 kt/s\n",
      "Loss:0.001, LR:0.00048462, Throughput:18715.14 kt/s\n",
      "Loss:0.001, LR:0.00046726, Throughput:24291.15 kt/s\n",
      "Loss:0.001, LR:0.00044994, Throughput:24255.2 kt/s\n",
      "Loss:0.001, LR:0.00043269, Throughput:21272.92 kt/s\n",
      "Loss:0.001, LR:0.00041552, Throughput:22051.24 kt/s\n",
      "Loss:0.001, LR:0.00039846, Throughput:19616.46 kt/s\n",
      "Loss:0.001, LR:0.00038152, Throughput:24051.4 kt/s\n",
      "Loss:0.001, LR:0.00036473, Throughput:24164.64 kt/s\n",
      "Loss:0.001, LR:0.00034811, Throughput:25640.69 kt/s\n",
      "Loss:0.001, LR:0.00033167, Throughput:19292.45 kt/s\n",
      "Loss:0.001, LR:0.00031545, Throughput:19282.52 kt/s\n",
      "Loss:0.001, LR:0.00029945, Throughput:24561.22 kt/s\n",
      "Loss:0.001, LR:0.00028369, Throughput:23951.13 kt/s\n",
      "Loss:0.001, LR:0.0002682, Throughput:19837.74 kt/s\n",
      "Loss:0.001, LR:0.000253, Throughput:24388.25 kt/s\n",
      "Loss:0.001, LR:0.0002381, Throughput:24017.77 kt/s\n",
      "Loss:0.001, LR:0.00022352, Throughput:23894.08 kt/s\n",
      "Loss:0.001, LR:0.00020928, Throughput:20668.61 kt/s\n",
      "Loss:0.001, LR:0.0001954, Throughput:18572.24 kt/s\n",
      "Loss:0.001, LR:0.00018189, Throughput:24582.45 kt/s\n",
      "Loss:0.001, LR:0.00016877, Throughput:23638.48 kt/s\n",
      "Loss:0.001, LR:0.00015606, Throughput:23666.2 kt/s\n",
      "Loss:0.001, LR:0.00014377, Throughput:21884.53 kt/s\n",
      "Loss:0.001, LR:0.00013191, Throughput:19635.0 kt/s\n",
      "Loss:0.001, LR:0.00012051, Throughput:24880.62 kt/s\n",
      "Loss:0.001, LR:0.00010957, Throughput:24808.55 kt/s\n",
      "Loss:0.001, LR:9.911e-05, Throughput:24962.31 kt/s\n",
      "Loss:0.001, LR:8.9139e-05, Throughput:21365.43 kt/s\n",
      "Loss:0.001, LR:7.9672e-05, Throughput:20062.24 kt/s\n",
      "Loss:0.001, LR:7.0719e-05, Throughput:23872.71 kt/s\n",
      "Loss:0.001, LR:6.2292e-05, Throughput:24031.36 kt/s\n",
      "Loss:0.001, LR:5.4401e-05, Throughput:22247.08 kt/s\n",
      "Loss:0.001, LR:4.7054e-05, Throughput:22123.12 kt/s\n",
      "Loss:0.001, LR:4.0262e-05, Throughput:19485.14 kt/s\n",
      "Loss:0.001, LR:3.4033e-05, Throughput:22177.12 kt/s\n",
      "Loss:0.001, LR:2.8374e-05, Throughput:23026.03 kt/s\n",
      "Loss:0.001, LR:2.3292e-05, Throughput:19176.89 kt/s\n",
      "Loss:0.001, LR:1.8793e-05, Throughput:24138.84 kt/s\n",
      "Loss:0.001, LR:1.4882e-05, Throughput:24193.28 kt/s\n",
      "Loss:0.001, LR:1.1566e-05, Throughput:22070.67 kt/s\n",
      "Loss:0.001, LR:8.8465e-06, Throughput:19401.45 kt/s\n",
      "Loss:0.001, LR:6.7281e-06, Throughput:17939.8 kt/s\n",
      "Loss:0.001, LR:5.2131e-06, Throughput:24259.55 kt/s\n",
      "Loss:0.001, LR:4.3034e-06, Throughput:24322.8 kt/s\n",
      "Loss:0.001, LR:4e-06, Throughput:25653.96 kt/s\n"
     ]
    }
   ],
   "source": [
    "def train_model(model, num_epochs, batch_size, max_lr, min_lr, warmup_ratio,\n",
    "                token_ids, position_ids, attn_masks, loss_masks, show_progress=True):\n",
    "    optimizer = torch.optim.AdamW(model.parameters(), lr=max_lr)\n",
    "    scheduler = torch.optim.lr_scheduler.OneCycleLR(optimizer, max_lr=max_lr,\n",
    "                                                    total_steps=(len(token_ids) // batch_size + 1) * num_epochs,\n",
    "                                                    final_div_factor=max_lr / min_lr, pct_start=warmup_ratio)\n",
    "\n",
    "    model.train()\n",
    "    for epoch_num in range(num_epochs):\n",
    "        batches = tqdm.tqdm(list(range(0, len(token_ids), batch_size)), desc=f'Epoch {epoch_num}', disable=not show_progress)\n",
    "        for batch_i in batches:\n",
    "            step_start_time = time.time()\n",
    "\n",
    "            inputs = token_ids[batch_i:batch_i + batch_size, :-1].to(model.device)\n",
    "            labels = token_ids[batch_i:batch_i + batch_size, 1:].to(model.device)\n",
    "\n",
    "            positions = position_ids[batch_i:batch_i + batch_size, :-1].to(model.device) if position_ids is not None else None\n",
    "            attn_mask = attn_masks[batch_i:batch_i + batch_size, :-1].to(model.device) if attn_masks is not None else None\n",
    "            loss_mask = loss_masks[batch_i:batch_i + batch_size, 1:] if loss_masks is not None else None\n",
    "\n",
    "            logits, kv_state = model.forward(inputs, position_ids=positions, attn_mask=attn_mask)\n",
    "\n",
    "            probs = torch.softmax(logits, dim=2).view(-1, logits.shape[-1])\n",
    "\n",
    "            loss = (-torch.log(probs[torch.arange(probs.shape[0]), labels.reshape(-1)]))\n",
    "            if loss_mask is not None:\n",
    "                loss = (loss * loss_mask.reshape(-1)).mean()\n",
    "            else:\n",
    "                loss = loss.mean()\n",
    "\n",
    "            optimizer.zero_grad()\n",
    "            loss.backward()\n",
    "            optimizer.step()\n",
    "\n",
    "            step_time_cost = time.time() - step_start_time\n",
    "            throughput = round((probs.shape[0] * probs.shape[1]) / step_time_cost / 1000, 2)\n",
    "\n",
    "            step_stat = {'Loss': f'{loss.item():.3f}',\n",
    "                         'LR': f'{scheduler.get_last_lr()[0]:.5}',\n",
    "                         'Throughput': f'{throughput} kt/s'}\n",
    "\n",
    "            if show_progress:\n",
    "                batches.set_postfix(step_stat)\n",
    "            else:\n",
    "                print(', '.join(f'{s[0]}:{s[1]}' for s in step_stat.items()))\n",
    "\n",
    "            scheduler.step()\n",
    "        batches.close()\n",
    "\n",
    "\n",
    "train_model(debug_model, num_epochs=100, batch_size=128, max_lr=1e-3, min_lr=1e-4,\n",
    "            warmup_ratio=0.1,\n",
    "            token_ids=debug_seq, position_ids=None, attn_masks=None, loss_masks=None,\n",
    "            show_progress=False)\n",
    "\n",
    "# train_model(model, num_epochs=1, batch_size=4, max_lr=1e-3, min_lr=1e-4,\n",
    "#             warmup_ratio=0.1,\n",
    "#             token_ids=token_ids, position_ids=position_ids, attn_masks=attn_mask, loss_masks=None,\n",
    "#             show_progress=True)"
   ]
  },
  {
   "cell_type": "code",
   "execution_count": 43,
   "id": "2e800403549c98d2",
   "metadata": {
    "ExecuteTime": {
     "end_time": "2023-10-12T16:14:35.511470Z",
     "start_time": "2023-10-12T16:14:35.507838Z"
    }
   },
   "outputs": [],
   "source": [
    "def generate(model, tokenizer, prompt, temperature, top_p, rep_penalty,\n",
    "             max_new_tokens=20, total_tokens=None,\n",
    "             end_tokens=None,\n",
    "             enable_kv_cache=True):\n",
    "    model.eval()\n",
    "\n",
    "    feed_tokens = tokenizer.encode(prompt)\n",
    "    all_tokens = feed_tokens.copy()\n",
    "    if total_tokens is not None:\n",
    "        max_new_tokens = max(0, total_tokens - len(feed_tokens))\n",
    "\n",
    "    with torch.no_grad():\n",
    "        kv_cache = None\n",
    "        for _ in range(max_new_tokens):\n",
    "            position_ids = None if kv_cache is None else torch.tensor([[len(all_tokens) - 1]]).to(model.device)\n",
    "            logits, kv_cache = model.forward(\n",
    "                torch.tensor([feed_tokens if enable_kv_cache else all_tokens]).to(model.device),\n",
    "                position_ids=position_ids,\n",
    "                kv_cache=kv_cache)\n",
    "            logits = logits[0][-1].cpu()\n",
    "            if not enable_kv_cache:\n",
    "                kv_cache = None\n",
    "\n",
    "            # apply repetition penalty\n",
    "            logits_rep = torch.gather(logits, 0, torch.tensor(all_tokens))\n",
    "            logits_rep = torch.where(logits_rep < 0, logits_rep * rep_penalty, logits_rep / rep_penalty)\n",
    "            logits.scatter_(0, torch.tensor(all_tokens), logits_rep)\n",
    "\n",
    "            # apply temperature\n",
    "            logits /= max(temperature, 1e-6)\n",
    "\n",
    "            probs = torch.softmax(logits, dim=0)\n",
    "\n",
    "            # apply top-p\n",
    "            ordered_probs, ordered_indices = torch.sort(probs, descending=True)\n",
    "            cum_probs = torch.cumsum(ordered_probs, dim=0).tolist()\n",
    "            top_p_index = bisect.bisect_right(cum_probs, top_p) + 1\n",
    "            ordered_probs, ordered_indices = ordered_probs[:top_p_index], ordered_indices[:top_p_index]\n",
    "            sampled_index = ordered_indices[torch.multinomial(ordered_probs, num_samples=1).item()].item()\n",
    "\n",
    "            all_tokens.append(sampled_index)\n",
    "            feed_tokens = [sampled_index]\n",
    "\n",
    "            if end_tokens is not None and sampled_index in end_tokens:\n",
    "                break\n",
    "\n",
    "    return tokenizer.decode(all_tokens)"
   ]
  },
  {
   "cell_type": "code",
   "execution_count": 44,
   "outputs": [
    {
     "name": "stdout",
     "output_type": "stream",
     "text": [
      "'<unk> don\\'t have to be scared of the loud dog, I\\'ll protect you\". The mole felt so safe with the little girl. She was very kind and the mole soon came to trust her. He leaned against her and she kept him safe. The mole had found his best friend.\\n<|endoftext|>\\nOnce upon a time, in '\n"
     ]
    }
   ],
   "source": [
    "print(repr(tokenizer.decode(debug_seq[0].tolist())))"
   ],
   "metadata": {
    "collapsed": false,
    "ExecuteTime": {
     "end_time": "2023-10-12T16:14:36.320828Z",
     "start_time": "2023-10-12T16:14:36.313403Z"
    }
   },
   "id": "f94c17f13926df4a"
  },
  {
   "cell_type": "code",
   "execution_count": 46,
   "id": "1bc924753b5acfc5",
   "metadata": {
    "ExecuteTime": {
     "end_time": "2023-10-12T16:14:42.347581Z",
     "start_time": "2023-10-12T16:14:42.187335Z"
    }
   },
   "outputs": [
    {
     "name": "stdout",
     "output_type": "stream",
     "text": [
      "'<unk> don\\'t have to be scared of the loud dog, I\\'ll protect you\". The mole felt so safe with the little girl. She was very kind and the mole soon came to trust her. He leaned against her and she kept him safe. The mole had found his best friend.\\n<|endoftext|>\\nOnce upon a time, in '\n",
      "0.157 sec(s)\n"
     ]
    }
   ],
   "source": [
    "a = time.time()\n",
    "result = generate(debug_model, tokenizer, '<unk>',\n",
    "                  temperature=1.0, top_p=0.001, rep_penalty=1.0,\n",
    "                  total_tokens=128,\n",
    "                  end_tokens=tokenizer.encode('</s>'),\n",
    "                  enable_kv_cache=True)\n",
    "print(repr(result))\n",
    "print(f'{time.time() - a:.3f} sec(s)')"
   ]
  },
  {
   "cell_type": "code",
   "execution_count": null,
   "outputs": [],
   "source": [
    "def isTorchSubClass(obj):\n",
    "    for parent in obj.__class__.__mro__:\n",
    "        if parent.__module__.startswith(\"torch\"):\n",
    "            return True\n",
    "    return False\n",
    "\n",
    "\n",
    "def findTensors(obj, objPath, results, depth):\n",
    "    if depth > 5 or obj == results:\n",
    "        return\n",
    "\n",
    "    if isinstance(obj, (list, tuple, set)):\n",
    "        for i, o in enumerate(obj):\n",
    "            findTensors(o, f\"{objPath}[{i}]\", results, depth + 1)\n",
    "    elif isinstance(obj, dict):\n",
    "        for k, v in obj.items():\n",
    "            findTensors(v, f\"{objPath}[{k}]\", results, depth + 1)\n",
    "\n",
    "    if type(obj) is torch.Tensor:\n",
    "        results.setdefault(objPath, obj)\n",
    "    elif isTorchSubClass(obj):\n",
    "        for attrName in dir(obj):\n",
    "            try:\n",
    "                findTensors(\n",
    "                    getattr(obj, attrName), f\"{objPath}.{attrName}\", results, depth + 1\n",
    "                )\n",
    "            except:\n",
    "                pass\n",
    "\n",
    "\n",
    "def outputTensorSummary(deepTraverse=False):\n",
    "    from gc import get_objects\n",
    "    from warnings import filterwarnings\n",
    "    from collections import Counter\n",
    "\n",
    "    unit, unitName = 1024, \"KB\"\n",
    "\n",
    "    filterwarnings(\"ignore\", message=\"torch.distributed.reduce_op is deprecated\")\n",
    "\n",
    "    isTensor = lambda obj: isinstance(obj, torch.Tensor) or (\n",
    "            hasattr(obj, \"data\") and isinstance(obj.data, torch.Tensor)\n",
    "    )\n",
    "\n",
    "    if deepTraverse:\n",
    "        globalTensors = {}\n",
    "        findTensors(globals().copy(), \"Global\", globalTensors, 0)\n",
    "        globalTensors = {id(v): k for k, v in globalTensors.items()}\n",
    "    else:\n",
    "        globalTensors = {id(v): k for k, v in globals().items() if isTensor(v)}\n",
    "\n",
    "    totalUsage = 0\n",
    "    trivialMemoryUsage = 0\n",
    "    bigTensors = []\n",
    "    for obj in get_objects():\n",
    "        try:\n",
    "            if isTensor(obj):\n",
    "                if obj.device.index == None:\n",
    "                    continue\n",
    "                tensorMemSize = obj.nelement() * obj.element_size()\n",
    "                totalUsage += tensorMemSize\n",
    "                if (tensorMemSize / unit) < 1:\n",
    "                    trivialMemoryUsage += tensorMemSize\n",
    "                    continue\n",
    "                if id(obj) in globalTensors:\n",
    "                    bigTensors.append(\n",
    "                        (obj.shape, tensorMemSize / unit, globalTensors[id(obj)])\n",
    "                    )\n",
    "                else:\n",
    "                    bigTensors.append((obj.shape, tensorMemSize / unit))\n",
    "        except:\n",
    "            pass\n",
    "\n",
    "    print(f\"Total {totalUsage / unit:.2f} {unitName} CUDA memory in use.\\n\")\n",
    "\n",
    "    bigTensors.sort(key=lambda x: x[1], reverse=True)\n",
    "\n",
    "    maxLowerUnit, minLowerUnit = 1000, 100\n",
    "    while minLowerUnit >= 1:\n",
    "        inRangeTensors = [t for t in bigTensors if minLowerUnit <= t[1] <= maxLowerUnit]\n",
    "        groupCounter = Counter(inRangeTensors)\n",
    "        print(f\"Tensors of size {minLowerUnit:>5} - {maxLowerUnit:>5} {unitName}:\")\n",
    "        for tensor, count in groupCounter.items():\n",
    "            print(\n",
    "                f\"  {count:4} * Size: {tensor[1]:.2f} {unitName} Shape: {[*tensor[0]]}\",\n",
    "                end=\"\",\n",
    "            )\n",
    "            print(f' {tensor[2]:.30}' if len(tensor) == 3 else \"\")\n",
    "\n",
    "        print(f\"Total: {sum([t[1] for t in inRangeTensors]):.2f} {unitName}\\n\")\n",
    "        maxLowerUnit, minLowerUnit = maxLowerUnit // 10, minLowerUnit // 10\n",
    "\n",
    "    print(\n",
    "        f\"Total {trivialMemoryUsage / unit :.2f} {unitName} is occupied by trivial tensors(<=1{unitName}).\"\n",
    "    )\n",
    "\n",
    "\n",
    "outputTensorSummary()"
   ],
   "metadata": {
    "collapsed": false
   },
   "id": "28cf9c6e7de51317"
  },
  {
   "cell_type": "code",
   "execution_count": null,
   "outputs": [],
   "source": [
    "d_bsz = 2\n",
    "d_seq = 3\n",
    "d_emb = 7\n",
    "\n",
    "torch.manual_seed(0)\n",
    "rel_emb = nn.Embedding(d_seq * 2 - 1, d_emb)\n",
    "\n",
    "rel_pos = torch.tensor([[s + (d_seq - 1) for s in range(-i, d_seq - i)] for i in range(d_seq)])\n",
    "print([[s for s in range(-i, d_seq - i)] for i in range(d_seq)])\n",
    "r = rel_emb(rel_pos)\n",
    "print(r.shape)\n",
    "\n",
    "q = torch.randn((d_bsz, d_seq, d_emb))\n",
    "k = torch.randn((d_bsz, d_seq, d_emb))\n",
    "v = torch.randn((d_bsz, d_seq, d_emb))\n",
    "#q @ k.permute(0, 2, 1)\n",
    "\n",
    "rel_q = q.unsqueeze(1).repeat(1, d_seq, 1, 1)\n",
    "rel_k = k.unsqueeze(1).repeat(1, d_seq, 1, 1).permute(0, 1, 3, 2)\n",
    "attn_score = rel_q @ rel_k\n",
    "attn_score"
   ],
   "metadata": {
    "collapsed": false
   },
   "id": "3f76f81f024ab03d"
  },
  {
   "cell_type": "code",
   "execution_count": null,
   "outputs": [],
   "source": [
    "q @ k.permute(0, 2, 1)"
   ],
   "metadata": {
    "collapsed": false
   },
   "id": "fa9f6329e0142e3f"
  },
  {
   "cell_type": "code",
   "execution_count": null,
   "outputs": [],
   "source": [
    "aq = q.unsqueeze(2)\n",
    "(aq @ r.permute(0, 2, 1)).squeeze(2)"
   ],
   "metadata": {
    "collapsed": false
   },
   "id": "d6596a34a85fa47f"
  },
  {
   "cell_type": "code",
   "execution_count": null,
   "outputs": [],
   "source": [],
   "metadata": {
    "collapsed": false
   },
   "id": "20f10056277b8f9"
  },
  {
   "cell_type": "code",
   "execution_count": null,
   "outputs": [],
   "source": [],
   "metadata": {
    "collapsed": false
   },
   "id": "ba9e208573ba7f7f"
  }
 ],
 "metadata": {
  "kernelspec": {
   "display_name": "Python 3 (ipykernel)",
   "language": "python",
   "name": "python3"
  },
  "language_info": {
   "codemirror_mode": {
    "name": "ipython",
    "version": 3
   },
   "file_extension": ".py",
   "mimetype": "text/x-python",
   "name": "python",
   "nbconvert_exporter": "python",
   "pygments_lexer": "ipython3",
   "version": "3.10.12"
  }
 },
 "nbformat": 4,
 "nbformat_minor": 5
}

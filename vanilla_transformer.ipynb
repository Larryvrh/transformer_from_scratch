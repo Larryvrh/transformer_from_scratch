{
 "cells": [
  {
   "cell_type": "code",
   "execution_count": 1,
   "id": "initial_id",
   "metadata": {
    "collapsed": true,
    "jupyter": {
     "outputs_hidden": true
    },
    "ExecuteTime": {
     "end_time": "2023-10-02T02:31:45.970146Z",
     "start_time": "2023-10-02T02:31:44.631176Z"
    }
   },
   "outputs": [],
   "source": [
    "from tokenizers import WordTokenizer\n",
    "import torch\n",
    "from torch import nn\n",
    "import json"
   ]
  },
  {
   "cell_type": "code",
   "execution_count": 2,
   "id": "40e76bcba3a904db",
   "metadata": {
    "collapsed": false,
    "ExecuteTime": {
     "end_time": "2023-10-02T02:31:46.048467Z",
     "start_time": "2023-10-02T02:31:45.970053Z"
    }
   },
   "outputs": [],
   "source": [
    "with open('../../Jupyter/NLP/TinyStoriesV2-GPT4-valid-chunks.json', 'r') as file:\n",
    "    lines = [l for l in json.load(file)]\n",
    "    raw_text = '\\n'.join(lines)"
   ]
  },
  {
   "cell_type": "code",
   "execution_count": 3,
   "id": "2fb151752ec125fa",
   "metadata": {
    "collapsed": false,
    "ExecuteTime": {
     "end_time": "2023-10-02T02:31:46.053681Z",
     "start_time": "2023-10-02T02:31:46.048799Z"
    }
   },
   "outputs": [],
   "source": [
    "# Network definition\n",
    "C_SEQ_LEN = 128\n",
    "C_VOCAB_SIZE = 4096\n",
    "C_HIDDEN_SIZE = 256\n",
    "C_NUM_HEADS = 2\n",
    "C_NUM_LAYERS = 2"
   ]
  },
  {
   "cell_type": "code",
   "execution_count": 4,
   "id": "33702a8e6613f742",
   "metadata": {
    "collapsed": false,
    "ExecuteTime": {
     "end_time": "2023-10-02T02:31:49.388611Z",
     "start_time": "2023-10-02T02:31:46.107791Z"
    }
   },
   "outputs": [],
   "source": [
    "tokenizer = WordTokenizer(raw_text, vocab_size=C_VOCAB_SIZE, reserved_vocab=['<s>', '</s>', '<pad>'])"
   ]
  },
  {
   "cell_type": "code",
   "execution_count": 5,
   "id": "cdf7fc22d44a2d77",
   "metadata": {
    "collapsed": false,
    "ExecuteTime": {
     "end_time": "2023-10-02T02:31:52.899599Z",
     "start_time": "2023-10-02T02:31:49.443861Z"
    }
   },
   "outputs": [
    {
     "data": {
      "text/plain": "0.9967516696403725"
     },
     "execution_count": 5,
     "metadata": {},
     "output_type": "execute_result"
    }
   ],
   "source": [
    "tokenizer.eval_vocab_coverage(raw_text)"
   ]
  },
  {
   "cell_type": "code",
   "execution_count": 6,
   "id": "fb60031d199ad9a6",
   "metadata": {
    "collapsed": false,
    "ExecuteTime": {
     "end_time": "2023-10-02T02:31:52.913573Z",
     "start_time": "2023-10-02T02:31:52.902449Z"
    }
   },
   "outputs": [
    {
     "data": {
      "text/plain": "'<unk> don\\'t have to be scared of the loud dog, I\\'ll protect you\". The mole felt so safe with the little girl. She was very kind and the mole soon came to trust her. He leaned against her and she kept him safe. The mole had found his best friend.\\nOnce upon a time, in a warm and '"
     },
     "execution_count": 6,
     "metadata": {},
     "output_type": "execute_result"
    }
   ],
   "source": [
    "test_seq = torch.tensor([tokenizer.encode(raw_text[:10000])[:C_SEQ_LEN * 8]]).view((-1, C_SEQ_LEN))\n",
    "tokenizer.decode(test_seq[0].tolist())"
   ]
  },
  {
   "cell_type": "code",
   "execution_count": 16,
   "id": "34d4a7cb7e49d5f5",
   "metadata": {
    "collapsed": false,
    "ExecuteTime": {
     "end_time": "2023-10-02T02:39:03.906264Z",
     "start_time": "2023-10-02T02:39:03.897422Z"
    }
   },
   "outputs": [],
   "source": [
    "class AttentionHead(nn.Module):\n",
    "    def __init__(self, num_heads: int, hidden_size: int):\n",
    "        super().__init__()\n",
    "        self.hidden_size = hidden_size\n",
    "        self.q_proj = nn.Linear(hidden_size, hidden_size // num_heads)\n",
    "        self.k_proj = nn.Linear(hidden_size, hidden_size // num_heads)\n",
    "        self.v_proj = nn.Linear(hidden_size, hidden_size // num_heads)\n",
    "\n",
    "    def forward(self, x: torch.Tensor):\n",
    "        seq_len = x.shape[1]\n",
    "        causal_mask = torch.triu(torch.ones(seq_len, seq_len), diagonal=1)\n",
    "        causal_mask = causal_mask.masked_fill(causal_mask == 1, 1e9)\n",
    "\n",
    "        q = self.q_proj(x)  # BSZ * SEQ * HIDDEN\n",
    "        k = self.k_proj(x)\n",
    "        v = self.v_proj(x)\n",
    "        attn_score = (q @ k.permute(0, 2, 1) / (self.hidden_size ** 0.5)) - causal_mask\n",
    "\n",
    "        return torch.softmax(attn_score, dim=2) @ v\n",
    "\n",
    "\n",
    "class MultiHeadAttention(nn.Module):\n",
    "    def __init__(self, num_heads: int, hidden_size: int):\n",
    "        super().__init__()\n",
    "        self.attn_heads = nn.ModuleList([AttentionHead(num_heads, hidden_size) for _ in range(num_heads)])\n",
    "        self.o_proj = nn.Linear(hidden_size, hidden_size)\n",
    "\n",
    "    def forward(self, x: torch.Tensor):\n",
    "        return self.o_proj(torch.concat([a(x) for a in self.attn_heads], dim=2))\n",
    "\n",
    "\n",
    "class DecoderLayer(nn.Module):\n",
    "    def __init__(self, num_heads: int, hidden_size: int):\n",
    "        super().__init__()\n",
    "        self.mha = MultiHeadAttention(num_heads, hidden_size)\n",
    "        self.up_proj = nn.Linear(hidden_size, hidden_size * 4)\n",
    "        self.down_proj = nn.Linear(hidden_size * 4, hidden_size)\n",
    "        self.ln_mha = nn.LayerNorm(hidden_size)\n",
    "        self.ln_ffn = nn.LayerNorm(hidden_size)\n",
    "\n",
    "    def forward(self, x: torch.Tensor):\n",
    "        mha_output = self.ln_mha(x + self.mha(x))\n",
    "        ffn_output = self.down_proj(torch.relu(self.up_proj(mha_output)))\n",
    "        return self.ln_ffn(mha_output + ffn_output)\n",
    "\n",
    "\n",
    "class ToyTransformer(nn.Module):\n",
    "    def __init__(self):\n",
    "        super().__init__()\n",
    "        self.sem_embed = nn.Embedding(C_VOCAB_SIZE, C_HIDDEN_SIZE)\n",
    "        self.pos_embed = nn.Embedding(C_SEQ_LEN, C_HIDDEN_SIZE)\n",
    "        # self.attn_heads = [AttentionHead(C_HIDDEN_SIZE) for _ in range(C_NUM_HEADS)]\n",
    "        # for i, param in enumerate(self.attn_heads):\n",
    "        #     self.add_module(f'attn_head_{i}', param)\n",
    "        # self.mha = MultiHeadAttention(C_NUM_HEADS, C_HIDDEN_SIZE)\n",
    "        # self.o_proj = nn.Linear(C_HIDDEN_SIZE * C_NUM_HEADS, C_HIDDEN_SIZE)\n",
    "        self.decoder_layers = nn.ModuleList([DecoderLayer(C_NUM_HEADS, C_HIDDEN_SIZE) for _ in range(C_NUM_LAYERS)])\n",
    "        self.lm_head = nn.Linear(C_HIDDEN_SIZE, C_VOCAB_SIZE)\n",
    "\n",
    "    def forward(self, seq):\n",
    "        seq_len = seq.shape[1]\n",
    "        hidden = self.sem_embed(seq) + self.pos_embed(torch.arange(0, seq_len, 1))\n",
    "        # attn_out = torch.concat([a(embed) for a in self.attn_heads], dim=2)\n",
    "        # attn_out = self.mha(embed)\n",
    "        # mlp_out = torch.relu(self.o_proj(attn_out))\n",
    "        for decoder in self.decoder_layers:\n",
    "            hidden = decoder(hidden)\n",
    "        logits = self.lm_head(hidden)\n",
    "        return logits"
   ]
  },
  {
   "cell_type": "code",
   "execution_count": 17,
   "id": "973351dd974d006c",
   "metadata": {
    "collapsed": false,
    "ExecuteTime": {
     "end_time": "2023-10-02T02:39:08.388934Z",
     "start_time": "2023-10-02T02:39:08.381873Z"
    }
   },
   "outputs": [],
   "source": [
    "inputs = test_seq[:1, :-1]\n",
    "labels = test_seq[:1, 1:]"
   ]
  },
  {
   "cell_type": "code",
   "execution_count": 18,
   "id": "d124589733f9ed1c",
   "metadata": {
    "collapsed": false,
    "ExecuteTime": {
     "end_time": "2023-10-02T02:39:08.831612Z",
     "start_time": "2023-10-02T02:39:08.805582Z"
    }
   },
   "outputs": [
    {
     "name": "stdout",
     "output_type": "stream",
     "text": [
      "Total parameters: 3713536\n"
     ]
    },
    {
     "data": {
      "text/plain": "ToyTransformer(\n  (sem_embed): Embedding(4096, 256)\n  (pos_embed): Embedding(128, 256)\n  (decoder_layers): ModuleList(\n    (0-1): 2 x DecoderLayer(\n      (mha): MultiHeadAttention(\n        (attn_heads): ModuleList(\n          (0-1): 2 x AttentionHead(\n            (q_proj): Linear(in_features=256, out_features=128, bias=True)\n            (k_proj): Linear(in_features=256, out_features=128, bias=True)\n            (v_proj): Linear(in_features=256, out_features=128, bias=True)\n          )\n        )\n        (o_proj): Linear(in_features=256, out_features=256, bias=True)\n      )\n      (up_proj): Linear(in_features=256, out_features=1024, bias=True)\n      (down_proj): Linear(in_features=1024, out_features=256, bias=True)\n      (ln_mha): LayerNorm((256,), eps=1e-05, elementwise_affine=True)\n      (ln_ffn): LayerNorm((256,), eps=1e-05, elementwise_affine=True)\n    )\n  )\n  (lm_head): Linear(in_features=256, out_features=4096, bias=True)\n)"
     },
     "execution_count": 18,
     "metadata": {},
     "output_type": "execute_result"
    }
   ],
   "source": [
    "model = ToyTransformer()\n",
    "print('Total parameters:', sum([t.numel() for t in model.parameters()]))\n",
    "model"
   ]
  },
  {
   "cell_type": "code",
   "execution_count": 19,
   "id": "6704e7b3092a4c0c",
   "metadata": {
    "collapsed": false,
    "ExecuteTime": {
     "end_time": "2023-10-02T02:39:10.111191Z",
     "start_time": "2023-10-02T02:39:10.106665Z"
    }
   },
   "outputs": [],
   "source": [
    "optim = torch.optim.AdamW(model.parameters(), lr=3e-4)"
   ]
  },
  {
   "cell_type": "code",
   "execution_count": 20,
   "id": "eaba00d2720d53e6",
   "metadata": {
    "collapsed": false,
    "ExecuteTime": {
     "end_time": "2023-10-02T02:39:12.412653Z",
     "start_time": "2023-10-02T02:39:10.550638Z"
    }
   },
   "outputs": [
    {
     "name": "stdout",
     "output_type": "stream",
     "text": [
      "tensor(8.6122, grad_fn=<MeanBackward0>)\n",
      "tensor(7.7484, grad_fn=<MeanBackward0>)\n",
      "tensor(6.9453, grad_fn=<MeanBackward0>)\n",
      "tensor(6.2307, grad_fn=<MeanBackward0>)\n",
      "tensor(5.6297, grad_fn=<MeanBackward0>)\n",
      "tensor(5.1653, grad_fn=<MeanBackward0>)\n",
      "tensor(4.8436, grad_fn=<MeanBackward0>)\n",
      "tensor(4.6376, grad_fn=<MeanBackward0>)\n",
      "tensor(4.4966, grad_fn=<MeanBackward0>)\n",
      "tensor(4.3749, grad_fn=<MeanBackward0>)\n",
      "tensor(4.2477, grad_fn=<MeanBackward0>)\n",
      "tensor(4.1082, grad_fn=<MeanBackward0>)\n",
      "tensor(3.9606, grad_fn=<MeanBackward0>)\n",
      "tensor(3.8147, grad_fn=<MeanBackward0>)\n",
      "tensor(3.6793, grad_fn=<MeanBackward0>)\n",
      "tensor(3.5585, grad_fn=<MeanBackward0>)\n",
      "tensor(3.4504, grad_fn=<MeanBackward0>)\n",
      "tensor(3.3500, grad_fn=<MeanBackward0>)\n",
      "tensor(3.2520, grad_fn=<MeanBackward0>)\n",
      "tensor(3.1532, grad_fn=<MeanBackward0>)\n",
      "tensor(3.0523, grad_fn=<MeanBackward0>)\n",
      "tensor(2.9492, grad_fn=<MeanBackward0>)\n",
      "tensor(2.8433, grad_fn=<MeanBackward0>)\n",
      "tensor(2.7346, grad_fn=<MeanBackward0>)\n",
      "tensor(2.6243, grad_fn=<MeanBackward0>)\n",
      "tensor(2.5132, grad_fn=<MeanBackward0>)\n",
      "tensor(2.4022, grad_fn=<MeanBackward0>)\n",
      "tensor(2.2917, grad_fn=<MeanBackward0>)\n",
      "tensor(2.1826, grad_fn=<MeanBackward0>)\n",
      "tensor(2.0747, grad_fn=<MeanBackward0>)\n",
      "tensor(1.9665, grad_fn=<MeanBackward0>)\n",
      "tensor(1.8572, grad_fn=<MeanBackward0>)\n",
      "tensor(1.7474, grad_fn=<MeanBackward0>)\n",
      "tensor(1.6387, grad_fn=<MeanBackward0>)\n",
      "tensor(1.5330, grad_fn=<MeanBackward0>)\n",
      "tensor(1.4311, grad_fn=<MeanBackward0>)\n",
      "tensor(1.3315, grad_fn=<MeanBackward0>)\n",
      "tensor(1.2328, grad_fn=<MeanBackward0>)\n",
      "tensor(1.1351, grad_fn=<MeanBackward0>)\n",
      "tensor(1.0406, grad_fn=<MeanBackward0>)\n",
      "tensor(0.9509, grad_fn=<MeanBackward0>)\n",
      "tensor(0.8668, grad_fn=<MeanBackward0>)\n",
      "tensor(0.7873, grad_fn=<MeanBackward0>)\n",
      "tensor(0.7120, grad_fn=<MeanBackward0>)\n",
      "tensor(0.6411, grad_fn=<MeanBackward0>)\n",
      "tensor(0.5755, grad_fn=<MeanBackward0>)\n",
      "tensor(0.5155, grad_fn=<MeanBackward0>)\n",
      "tensor(0.4610, grad_fn=<MeanBackward0>)\n",
      "tensor(0.4116, grad_fn=<MeanBackward0>)\n",
      "tensor(0.3671, grad_fn=<MeanBackward0>)\n",
      "tensor(0.3273, grad_fn=<MeanBackward0>)\n",
      "tensor(0.2923, grad_fn=<MeanBackward0>)\n",
      "tensor(0.2615, grad_fn=<MeanBackward0>)\n",
      "tensor(0.2346, grad_fn=<MeanBackward0>)\n",
      "tensor(0.2110, grad_fn=<MeanBackward0>)\n",
      "tensor(0.1903, grad_fn=<MeanBackward0>)\n",
      "tensor(0.1723, grad_fn=<MeanBackward0>)\n",
      "tensor(0.1567, grad_fn=<MeanBackward0>)\n",
      "tensor(0.1432, grad_fn=<MeanBackward0>)\n",
      "tensor(0.1313, grad_fn=<MeanBackward0>)\n",
      "tensor(0.1210, grad_fn=<MeanBackward0>)\n",
      "tensor(0.1118, grad_fn=<MeanBackward0>)\n",
      "tensor(0.1038, grad_fn=<MeanBackward0>)\n",
      "tensor(0.0968, grad_fn=<MeanBackward0>)\n",
      "tensor(0.0906, grad_fn=<MeanBackward0>)\n",
      "tensor(0.0850, grad_fn=<MeanBackward0>)\n",
      "tensor(0.0801, grad_fn=<MeanBackward0>)\n",
      "tensor(0.0757, grad_fn=<MeanBackward0>)\n",
      "tensor(0.0718, grad_fn=<MeanBackward0>)\n",
      "tensor(0.0682, grad_fn=<MeanBackward0>)\n",
      "tensor(0.0650, grad_fn=<MeanBackward0>)\n",
      "tensor(0.0621, grad_fn=<MeanBackward0>)\n",
      "tensor(0.0594, grad_fn=<MeanBackward0>)\n",
      "tensor(0.0570, grad_fn=<MeanBackward0>)\n",
      "tensor(0.0548, grad_fn=<MeanBackward0>)\n",
      "tensor(0.0528, grad_fn=<MeanBackward0>)\n",
      "tensor(0.0510, grad_fn=<MeanBackward0>)\n",
      "tensor(0.0493, grad_fn=<MeanBackward0>)\n",
      "tensor(0.0477, grad_fn=<MeanBackward0>)\n",
      "tensor(0.0462, grad_fn=<MeanBackward0>)\n",
      "tensor(0.0449, grad_fn=<MeanBackward0>)\n",
      "tensor(0.0436, grad_fn=<MeanBackward0>)\n",
      "tensor(0.0424, grad_fn=<MeanBackward0>)\n",
      "tensor(0.0413, grad_fn=<MeanBackward0>)\n",
      "tensor(0.0403, grad_fn=<MeanBackward0>)\n",
      "tensor(0.0393, grad_fn=<MeanBackward0>)\n",
      "tensor(0.0384, grad_fn=<MeanBackward0>)\n",
      "tensor(0.0375, grad_fn=<MeanBackward0>)\n",
      "tensor(0.0367, grad_fn=<MeanBackward0>)\n",
      "tensor(0.0360, grad_fn=<MeanBackward0>)\n",
      "tensor(0.0352, grad_fn=<MeanBackward0>)\n",
      "tensor(0.0345, grad_fn=<MeanBackward0>)\n",
      "tensor(0.0339, grad_fn=<MeanBackward0>)\n",
      "tensor(0.0333, grad_fn=<MeanBackward0>)\n",
      "tensor(0.0327, grad_fn=<MeanBackward0>)\n",
      "tensor(0.0321, grad_fn=<MeanBackward0>)\n",
      "tensor(0.0315, grad_fn=<MeanBackward0>)\n",
      "tensor(0.0310, grad_fn=<MeanBackward0>)\n",
      "tensor(0.0305, grad_fn=<MeanBackward0>)\n",
      "tensor(0.0300, grad_fn=<MeanBackward0>)\n"
     ]
    }
   ],
   "source": [
    "for epoch_num in range(100):\n",
    "    logits = model.forward(inputs)\n",
    "    probs = torch.softmax(logits, dim=2)  # BSZ * SEQ * VOCAB\n",
    "    probs_flat = probs.view(-1, C_VOCAB_SIZE)\n",
    "    loss = (-torch.log(probs_flat[torch.arange(probs_flat.shape[0]), labels.reshape(-1)])).mean()\n",
    "    optim.zero_grad()\n",
    "    loss.backward()\n",
    "    optim.step()\n",
    "    print(loss)"
   ]
  },
  {
   "cell_type": "code",
   "execution_count": 24,
   "id": "2e800403549c98d2",
   "metadata": {
    "collapsed": false,
    "ExecuteTime": {
     "end_time": "2023-10-02T02:39:30.836436Z",
     "start_time": "2023-10-02T02:39:30.563641Z"
    }
   },
   "outputs": [
    {
     "name": "stdout",
     "output_type": "stream",
     "text": [
      "[243, 22, 78, 22, 78, 4, 93, 4, 10, 4, 70, 4, 135, 4, 37, 4, 7, 4, 295, 4, 69, 6, 4, 33, 22, 827, 4, 1275, 4, 32, 12, 5, 4, 14, 4, 1693, 4, 106, 4, 57, 4, 251, 4, 20, 4, 7, 4, 45, 4, 75, 5, 4, 23, 4, 13, 4, 38, 4, 228, 4, 8, 4, 7, 4, 1693, 4, 356, 4, 108, 4, 10, 4, 1614, 4, 24, 5, 4, 17, 4, 2420, 4, 2170, 4, 24, 4, 8, 4, 49, 4, 368, 4, 81, 4, 251, 5, 4, 14, 4, 1693, 4, 31, 4, 94]\n"
     ]
    },
    {
     "data": {
      "text/plain": "'don\\'t\\'t have to be scared of the loud dog, I\\'ll protect you\". The mole felt so safe with the little girl. She was very kind and the mole soon came to trust her. He leaned against her and she kept him safe. The mole had found'"
     },
     "execution_count": 24,
     "metadata": {},
     "output_type": "execute_result"
    }
   ],
   "source": [
    "def generate(prompt, max_new_tokens=20):\n",
    "    tokens = tokenizer.encode(prompt)\n",
    "    for _ in range(max_new_tokens):\n",
    "        logits = model.forward(torch.tensor([tokens]))[0][-1]\n",
    "        probs = torch.softmax(logits, dim=0)\n",
    "        tokens.append(torch.argmax(probs).item())\n",
    "    print(tokens)\n",
    "    return tokenizer.decode(tokens)\n",
    "\n",
    "\n",
    "generate(\"don\\'t\", 100)"
   ]
  },
  {
   "cell_type": "code",
   "execution_count": null,
   "id": "acfd06574fc4aae5",
   "metadata": {
    "collapsed": false
   },
   "outputs": [],
   "source": [
    "tokenizer.decode(inputs[0].tolist())"
   ]
  },
  {
   "cell_type": "code",
   "execution_count": null,
   "outputs": [],
   "source": [],
   "metadata": {
    "collapsed": false
   },
   "id": "a6da265cd850c26c"
  }
 ],
 "metadata": {
  "kernelspec": {
   "display_name": "Python 3 (ipykernel)",
   "language": "python",
   "name": "python3"
  },
  "language_info": {
   "codemirror_mode": {
    "name": "ipython",
    "version": 3
   },
   "file_extension": ".py",
   "mimetype": "text/x-python",
   "name": "python",
   "nbconvert_exporter": "python",
   "pygments_lexer": "ipython3",
   "version": "3.10.6"
  }
 },
 "nbformat": 4,
 "nbformat_minor": 5
}

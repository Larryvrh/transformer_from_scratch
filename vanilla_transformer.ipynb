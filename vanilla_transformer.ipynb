{
 "cells": [
  {
   "cell_type": "code",
   "execution_count": 1,
   "id": "initial_id",
   "metadata": {
    "jupyter": {
     "outputs_hidden": true
    },
    "ExecuteTime": {
     "end_time": "2023-10-20T18:15:58.975175Z",
     "start_time": "2023-10-20T18:15:58.041396Z"
    }
   },
   "outputs": [],
   "source": [
    "import re\n",
    "from tokenizers import WordTokenizer, CharTokenizer, TRIETokenizerFast\n",
    "import torch\n",
    "from torch import nn\n",
    "import json\n",
    "import tqdm.notebook as tqdm\n",
    "import time\n",
    "import bisect\n",
    "import random\n",
    "from typing import *\n",
    "import gc\n",
    "from dataclasses import dataclass"
   ]
  },
  {
   "cell_type": "code",
   "execution_count": 2,
   "id": "40e76bcba3a904db",
   "metadata": {
    "ExecuteTime": {
     "end_time": "2023-10-20T18:15:59.750721Z",
     "start_time": "2023-10-20T18:15:59.690510Z"
    }
   },
   "outputs": [],
   "source": [
    "with open('./corpus/TinyStoriesV2-GPT4-valid.txt', 'r') as file:\n",
    "    raw_text = file.read()\n",
    "    lines = [l.strip() for l in raw_text.split('<|endoftext|>')[:-1]]"
   ]
  },
  {
   "cell_type": "code",
   "execution_count": 5,
   "id": "2fb151752ec125fa",
   "metadata": {
    "ExecuteTime": {
     "end_time": "2023-10-20T18:16:05.771681Z",
     "start_time": "2023-10-20T18:16:05.768420Z"
    }
   },
   "outputs": [],
   "source": [
    "# Network definition\n",
    "C_SEQ_LEN = 2048\n",
    "C_VOCAB_SIZE = 4096  # No longer used\n",
    "C_HIDDEN_SIZE = 768\n",
    "C_NUM_HEADS = 12\n",
    "C_NUM_LAYERS = 12\n",
    "\n",
    "C_DEVICE = torch.device('cuda')\n",
    "C_DTYPE = torch.bfloat16\n",
    "\n",
    "C_DEBUG = True"
   ]
  },
  {
   "cell_type": "code",
   "execution_count": 6,
   "outputs": [
    {
     "data": {
      "text/plain": "22493387"
     },
     "execution_count": 6,
     "metadata": {},
     "output_type": "execute_result"
    }
   ],
   "source": [
    "len(raw_text)"
   ],
   "metadata": {
    "collapsed": false,
    "ExecuteTime": {
     "end_time": "2023-10-20T18:16:06.642615Z",
     "start_time": "2023-10-20T18:16:06.638415Z"
    }
   },
   "id": "111829d7be3d3949"
  },
  {
   "cell_type": "code",
   "execution_count": 7,
   "id": "33702a8e6613f742",
   "metadata": {
    "ExecuteTime": {
     "end_time": "2023-10-20T18:16:15.435598Z",
     "start_time": "2023-10-20T18:16:07.344560Z"
    }
   },
   "outputs": [],
   "source": [
    "# tokenizer = WordTokenizer(raw_text, vocab_size=C_VOCAB_SIZE, reserved_vocab=['<s>', '</s>', '<pad>'])\n",
    "tokenizer = TRIETokenizerFast('llama_vocab_pruned_20480.json')"
   ]
  },
  {
   "cell_type": "code",
   "execution_count": 8,
   "id": "cdf7fc22d44a2d77",
   "metadata": {
    "ExecuteTime": {
     "end_time": "2023-10-20T18:16:22.143266Z",
     "start_time": "2023-10-20T18:16:21.798956Z"
    }
   },
   "outputs": [
    {
     "name": "stdout",
     "output_type": "stream",
     "text": [
      "2888\n"
     ]
    }
   ],
   "source": [
    "# tokenizer.eval_vocab_coverage(raw_text)\n",
    "print(len(tokenizer.encode(raw_text[:10000])))"
   ]
  },
  {
   "cell_type": "code",
   "execution_count": 9,
   "id": "6236ac3649c35eb1",
   "metadata": {
    "ExecuteTime": {
     "end_time": "2023-10-20T18:16:23.103344Z",
     "start_time": "2023-10-20T18:16:23.094232Z"
    }
   },
   "outputs": [],
   "source": [
    "# token_ids, position_ids, attn_mask, loss_mask = [[]], [[]], [[]], None\n",
    "# mask_index = 1\n",
    "# for l in tqdm.tqdm(lines):\n",
    "#     cursor = 0\n",
    "#     sample_token_ids = tokenizer.encode('<s>' + l + '</s>')\n",
    "#     if len(sample_token_ids) > C_SEQ_LEN:\n",
    "#         continue\n",
    "#     sample_position_ids = list(range(len(sample_token_ids)))\n",
    "#     while cursor < len(sample_token_ids):\n",
    "#         length = min(C_SEQ_LEN - len(token_ids[-1]), len(sample_token_ids) - cursor)\n",
    "#         token_ids[-1] += sample_token_ids[cursor:cursor + length]\n",
    "#         position_ids[-1] += sample_position_ids[cursor:cursor + length]\n",
    "#         attn_mask[-1] += [mask_index] * length\n",
    "#         cursor += length\n",
    "#         mask_index += 1\n",
    "#         if len(token_ids[-1]) == C_SEQ_LEN:\n",
    "#             token_ids.append([])\n",
    "#             position_ids.append([])\n",
    "#             attn_mask.append([])\n",
    "#             mask_index = 1\n",
    "# token_ids = torch.tensor(token_ids[:-1])\n",
    "# position_ids = torch.tensor(position_ids[:-1])\n",
    "# attn_mask = torch.tensor(attn_mask[:-1])"
   ]
  },
  {
   "cell_type": "code",
   "execution_count": 10,
   "outputs": [],
   "source": [
    "# with open('tiny_stories_tokenized.pt', 'wb') as file:\n",
    "#     torch.save([token_ids, position_ids, attn_mask], file)\n",
    "if not C_DEBUG:\n",
    "    with open('tiny_stories_tokenized.pt', 'rb') as file:\n",
    "        token_ids, position_ids, attn_mask = torch.load(file)"
   ],
   "metadata": {
    "collapsed": false,
    "ExecuteTime": {
     "end_time": "2023-10-20T18:16:23.731309Z",
     "start_time": "2023-10-20T18:16:23.726490Z"
    }
   },
   "id": "799b78921dbff1ec"
  },
  {
   "cell_type": "code",
   "execution_count": 11,
   "id": "fb60031d199ad9a6",
   "metadata": {
    "ExecuteTime": {
     "end_time": "2023-10-20T18:16:24.404337Z",
     "start_time": "2023-10-20T18:16:24.400778Z"
    }
   },
   "outputs": [
    {
     "data": {
      "text/plain": "torch.Size([8, 128])"
     },
     "execution_count": 11,
     "metadata": {},
     "output_type": "execute_result"
    }
   ],
   "source": [
    "debug_seq = torch.tensor([tokenizer.encode(raw_text[:10000])[:128 * 8]]).view((-1, 128))\n",
    "debug_seq.shape"
   ]
  },
  {
   "cell_type": "code",
   "execution_count": 12,
   "id": "34d4a7cb7e49d5f5",
   "metadata": {
    "ExecuteTime": {
     "end_time": "2023-10-20T18:16:24.995224Z",
     "start_time": "2023-10-20T18:16:24.970945Z"
    }
   },
   "outputs": [],
   "source": [
    "@dataclass\n",
    "class TransformerConfig:\n",
    "    vocab_size: int = -1,\n",
    "    num_layers: int = -1,\n",
    "    num_heads: int = -1,\n",
    "    hidden_size: int = -1,\n",
    "    max_seq_len: int = -1,\n",
    "    root_model: 'ToyTransformer' = None\n",
    "    device: torch.device = torch.device('cpu')\n",
    "    dtype: torch.dtype = torch.float32\n",
    "    enable_rel_pos: bool = False\n",
    "    enable_fast_attn: bool = True\n",
    "\n",
    "\n",
    "def expand_attn_mask(custom_attn_mask: torch.Tensor):\n",
    "    B, T = custom_attn_mask.shape\n",
    "    mask = custom_attn_mask.unsqueeze(1).repeat((1, T, 1))\n",
    "    seq_index_mask = (mask == custom_attn_mask[:, torch.arange(T)].view(B, T, 1))\n",
    "    return seq_index_mask & (torch.tril(mask) > 0)\n",
    "\n",
    "\n",
    "# naive ROPE implementation following https://arxiv.org/pdf/2104.09864.pdf\n",
    "def get_rope_cache_slow(seq_len: int, dim: int, theta: int, device: torch.device, dtype: torch.dtype):\n",
    "    assert dim % 2 == 0\n",
    "    freqs = theta ** (-2 * torch.arange(0, dim // 2, 1.) / dim)\n",
    "    freqs = torch.repeat_interleave(freqs, 2)\n",
    "    v1 = torch.cos(torch.arange(seq_len, dtype=torch.float).view((seq_len, 1)) * freqs)\n",
    "    v2 = torch.sin(torch.arange(seq_len, dtype=torch.float).view((seq_len, 1)) * freqs)\n",
    "    v2 = v2 * torch.tensor([1, -1] * (dim // 2))\n",
    "    indices = torch.tensor([j for i in range(0, dim, 2) for j in (i + 1, i)])\n",
    "    return v1.to(device, dtype=dtype), v2.to(device, dtype=dtype), indices.to(device)\n",
    "\n",
    "\n",
    "def apply_rope_slow(x, rope_cache, positions: Optional[torch.Tensor] = None):\n",
    "    v1, v2, indices = rope_cache\n",
    "    seq_len, dim = x.shape[1:]\n",
    "    if positions is None:\n",
    "        v1 = v1[:seq_len, :]\n",
    "        v2 = v2[:seq_len, :]\n",
    "    else:\n",
    "        v1 = v1[positions, torch.arange(dim)].view((-1, dim))\n",
    "        v2 = v2[positions, torch.arange(dim)].view((-1, dim))\n",
    "    applied_x = x * v1 + (x * v2)[:, :, indices]\n",
    "    return applied_x\n",
    "\n",
    "\n",
    "# Optimized ROPE implementation copied from https://github.com/facebookresearch/llama/blob/main/llama/model.py\n",
    "def get_rope_cache_fast(seq_len: int, dim: int, theta: int, device: torch.device, dtype: torch.dtype):\n",
    "    freqs = (1.0 / (theta ** (torch.arange(0, dim, 2)[: (dim // 2)].float() / dim)))\n",
    "    t = torch.arange(seq_len, device=freqs.device)\n",
    "    freqs = torch.outer(t, freqs).float()\n",
    "    freqs_cis = torch.polar(torch.ones_like(freqs), freqs)\n",
    "    return freqs_cis.to(device)\n",
    "\n",
    "\n",
    "def apply_rope_fast(x, rope_cache, positions: Optional[torch.Tensor] = None) -> torch.Tensor:\n",
    "    x_ = torch.view_as_complex(x.float().reshape(*x.shape[:-1], -1, 2))\n",
    "    if positions is None and x.shape[1] < rope_cache.shape[0]:\n",
    "        freqs_cis = rope_cache[:x.shape[1], :]\n",
    "    elif positions is not None:\n",
    "        freqs_cis = rope_cache[positions, :]\n",
    "    else:\n",
    "        freqs_cis = rope_cache\n",
    "    freqs_cis = freqs_cis.view([d if i == 1 or i == x_.ndim - 1 else 1 for i, d in enumerate(x_.shape)])\n",
    "\n",
    "    applied_x = torch.view_as_real(x_ * freqs_cis).flatten(2)\n",
    "    return applied_x.type_as(x)\n",
    "\n",
    "\n",
    "class AttentionHead(nn.Module):\n",
    "    def __init__(self, config: TransformerConfig):\n",
    "        super().__init__()\n",
    "        self.config = config\n",
    "        self.hidden_size = config.hidden_size\n",
    "        self.dtype = config.dtype\n",
    "        self.q_proj = nn.Linear(config.hidden_size, config.hidden_size // config.num_heads, dtype=config.dtype)\n",
    "        self.k_proj = nn.Linear(config.hidden_size, config.hidden_size // config.num_heads, dtype=config.dtype)\n",
    "        self.v_proj = nn.Linear(config.hidden_size, config.hidden_size // config.num_heads, dtype=config.dtype)\n",
    "\n",
    "    def forward(self, x: torch.Tensor, attn_mask: Optional[torch.Tensor],\n",
    "                kv_cache: Optional[List[torch.Tensor]]) -> Tuple[torch.Tensor, List[torch.Tensor]]:\n",
    "        B, T, C = x.shape\n",
    "\n",
    "        mask_zero = torch.tensor(0, dtype=self.dtype)\n",
    "        mask_val = torch.tensor(torch.finfo(self.dtype).min / 2, dtype=self.dtype)\n",
    "        if kv_cache is None and attn_mask is not None:\n",
    "            apply_mask = expand_attn_mask(attn_mask)\n",
    "        elif kv_cache is None and not self.config.enable_fast_attn:\n",
    "            apply_mask = expand_attn_mask(torch.ones(x.shape[:2]))\n",
    "        elif kv_cache is not None:\n",
    "            apply_mask = torch.ones((B, T, T), dtype=torch.bool)\n",
    "        else:\n",
    "            apply_mask = None\n",
    "\n",
    "        if not self.config.enable_fast_attn:\n",
    "            apply_mask = torch.where(apply_mask, mask_zero, mask_val)\n",
    "\n",
    "        use_flash_attn = self.config.enable_fast_attn and kv_cache is None and apply_mask is None\n",
    "\n",
    "        q = self.q_proj(x)\n",
    "        k = self.k_proj(x)\n",
    "        v = self.v_proj(x)\n",
    "\n",
    "        if self.config.enable_rel_pos:\n",
    "            positions = torch.tensor([kv_cache[0].shape[1]]).to(q.device) if kv_cache is not None else None\n",
    "            #q = apply_rope(q, self.config.root_model.rope_cache, positions=positions)\n",
    "            #k = apply_rope(k, self.config.root_model.rope_cache, positions=positions)\n",
    "            q = apply_rope_fast(q, self.config.root_model.rope_cache, positions)\n",
    "            k = apply_rope_fast(k, self.config.root_model.rope_cache, positions)\n",
    "\n",
    "        if kv_cache is not None:\n",
    "            k = torch.concat([kv_cache[0], k], dim=1)\n",
    "            v = torch.concat([kv_cache[1], v], dim=1)\n",
    "\n",
    "        if self.config.enable_fast_attn:\n",
    "            # noinspection PyUnresolvedReferences\n",
    "            if use_flash_attn:\n",
    "                q, k, v, = q.unsqueeze(1), k.unsqueeze(1), v.unsqueeze(1)\n",
    "            with torch.backends.cuda.sdp_kernel(enable_flash=use_flash_attn, enable_math=not use_flash_attn, enable_mem_efficient=not use_flash_attn):\n",
    "                attn_result = nn.functional.scaled_dot_product_attention(q, k, v,\n",
    "                                                                         attn_mask=apply_mask.to(q.device) if apply_mask is not None else None,\n",
    "                                                                         is_causal=True if apply_mask is None else False)\n",
    "            if use_flash_attn:\n",
    "                q, k, v, attn_result = q.squeeze(1), k.squeeze(1), v.squeeze(1), attn_result.squeeze(1)\n",
    "        else:\n",
    "            attn_score = (q @ k.permute(0, 2, 1) / (self.hidden_size ** 0.5)) + apply_mask.to(q.device)\n",
    "            attn_result = torch.softmax(attn_score, dim=2) @ v\n",
    "\n",
    "        return attn_result, [k, v]\n",
    "\n",
    "\n",
    "class MultiHeadAttention(nn.Module):\n",
    "    def __init__(self, config: TransformerConfig):\n",
    "        super().__init__()\n",
    "        self.config = config\n",
    "        self.attn_heads = nn.ModuleList([AttentionHead(config) for _ in range(config.num_heads)])\n",
    "        self.o_proj = nn.Linear(config.hidden_size, config.hidden_size, dtype=config.dtype)\n",
    "\n",
    "    def forward(self, x: torch.Tensor, attn_mask: Optional[torch.Tensor],\n",
    "                kv_cache: Optional[List[torch.Tensor]]) -> Tuple[torch.Tensor, List[List[torch.Tensor]]]:\n",
    "        head_outputs = [head(x, attn_mask, kv_cache[idx] if kv_cache is not None else None) for idx, head in\n",
    "                        enumerate(self.attn_heads)]\n",
    "        return self.o_proj(torch.concat([o[0] for o in head_outputs], dim=2)), [o[1] for o in head_outputs]\n",
    "\n",
    "\n",
    "class DecoderLayer(nn.Module):\n",
    "    def __init__(self, config: TransformerConfig):\n",
    "        super().__init__()\n",
    "        self.config = config\n",
    "        self.mha = MultiHeadAttention(config)\n",
    "        self.up_proj = nn.Linear(config.hidden_size, config.hidden_size * 4, dtype=config.dtype)\n",
    "        self.down_proj = nn.Linear(config.hidden_size * 4, config.hidden_size, dtype=config.dtype)\n",
    "        self.ln_mha = nn.LayerNorm(config.hidden_size, dtype=config.dtype)\n",
    "        self.ln_ffn = nn.LayerNorm(config.hidden_size, dtype=config.dtype)\n",
    "        self.act = nn.GELU()\n",
    "\n",
    "    def forward(self, x: torch.Tensor, attn_mask: Optional[torch.Tensor],\n",
    "                kv_cache: Optional[List[torch.Tensor]]) -> Tuple[torch.Tensor, List[List[torch.Tensor]]]:\n",
    "        mha_output, new_kv_cache = self.mha(self.ln_mha(x), attn_mask, kv_cache)\n",
    "        mha_output = x + mha_output\n",
    "        ffn_output = self.down_proj(self.act(self.up_proj(self.ln_ffn(mha_output))))\n",
    "        return mha_output + ffn_output, new_kv_cache\n",
    "\n",
    "\n",
    "class ToyTransformer(nn.Module):\n",
    "    def __init__(self, vocab_size: int, num_layers: int, num_heads: int, hidden_size: int, max_seq_len: int,\n",
    "                 device: torch.device = torch.device('cpu'), dtype: torch.dtype = torch.float32,\n",
    "                 enable_rel_pos: bool = False, enable_fast_attn: bool = False):\n",
    "        super().__init__()\n",
    "        self.config = TransformerConfig(vocab_size, num_layers, num_heads, hidden_size, max_seq_len, self, device,\n",
    "                                        dtype, enable_rel_pos, enable_fast_attn)\n",
    "\n",
    "        self.sem_embed = nn.Embedding(vocab_size, hidden_size, dtype=dtype)\n",
    "\n",
    "        if not self.config.enable_rel_pos:\n",
    "            self.pos_embed = nn.Embedding(max_seq_len, hidden_size, dtype=dtype)\n",
    "        else:\n",
    "            # self.rope_cache = get_rope_cache(max_seq_len, hidden_size // num_heads, 10000, device, dtype)\n",
    "            self.rope_cache = get_rope_cache_fast(max_seq_len, hidden_size // num_heads, 10000, device, dtype)\n",
    "\n",
    "        self.decoder_layers = nn.ModuleList([DecoderLayer(self.config) for _ in range(num_layers)])\n",
    "        self.lm_head = nn.Linear(hidden_size, vocab_size, dtype=dtype)\n",
    "        self.to(device)\n",
    "\n",
    "    def forward(self, seq: torch.Tensor,\n",
    "                position_ids: Optional[torch.Tensor] = None,\n",
    "                attn_mask: Optional[torch.Tensor] = None,\n",
    "                kv_cache: Optional[List[torch.Tensor]] = None) -> Tuple[torch.Tensor, List[List[List[torch.Tensor]]]]:\n",
    "\n",
    "        if self.config.enable_rel_pos:\n",
    "            hidden = self.sem_embed(seq)\n",
    "        elif position_ids is not None:\n",
    "            hidden = self.sem_embed(seq) + self.pos_embed(position_ids)\n",
    "        else:\n",
    "            hidden = self.sem_embed(seq) + self.pos_embed(torch.arange(0, seq.shape[1], 1).to(self.device))\n",
    "\n",
    "        new_kv_cache = []\n",
    "        for idx, decoder in enumerate(self.decoder_layers):\n",
    "            hidden, layer_kv_cache = decoder(hidden, attn_mask, kv_cache[idx] if kv_cache is not None else None)\n",
    "            new_kv_cache.append(layer_kv_cache)\n",
    "\n",
    "        return self.lm_head(hidden), new_kv_cache\n",
    "\n",
    "    @property\n",
    "    def device(self):\n",
    "        return next(self.parameters()).device\n",
    "\n",
    "# torch.manual_seed(0)\n",
    "# a = AttentionHead(TransformerConfig(num_heads=1, hidden_size=256, max_seq_len=2, enable_rel_pos=True, enable_fast_attn=False))\n",
    "# torch.manual_seed(0)\n",
    "# b = AttentionHead(TransformerConfig(num_heads=1, hidden_size=256, max_seq_len=2, enable_rel_pos=False, enable_fast_attn=False))\n",
    "# \n",
    "# d = torch.randn((3, 256, 256))\n",
    "# ao = (a.forward(d, None, None)[0])\n",
    "# bo = (b.forward(d, None, None)[0])\n",
    "# torch.allclose(ao, bo)"
   ]
  },
  {
   "cell_type": "code",
   "execution_count": 13,
   "outputs": [
    {
     "name": "stdout",
     "output_type": "stream",
     "text": [
      "Total parameters: 12085760\n"
     ]
    }
   ],
   "source": [
    "debug_model = ToyTransformer(tokenizer.get_vocab_size(), 2, 2, 256, 128, enable_fast_attn=True, enable_rel_pos=True)\n",
    "print('Total parameters:', sum([t.numel() for t in debug_model.parameters()]))"
   ],
   "metadata": {
    "collapsed": false,
    "ExecuteTime": {
     "end_time": "2023-10-20T18:16:25.814130Z",
     "start_time": "2023-10-20T18:16:25.729999Z"
    }
   },
   "id": "dda0053a2d0e7da2"
  },
  {
   "cell_type": "code",
   "execution_count": 14,
   "id": "d124589733f9ed1c",
   "metadata": {
    "ExecuteTime": {
     "end_time": "2023-10-20T18:16:28.242508Z",
     "start_time": "2023-10-20T18:16:28.231263Z"
    }
   },
   "outputs": [],
   "source": [
    "if not C_DEBUG:\n",
    "    model = ToyTransformer(tokenizer.get_vocab_size(), C_NUM_LAYERS, C_NUM_HEADS, C_HIDDEN_SIZE, 511, C_DEVICE, C_DTYPE, enable_rel_pos=True,\n",
    "                           enable_fast_attn=True)\n",
    "    model = model.to(C_DEVICE)\n",
    "    print('Total parameters:', sum([t.numel() for t in model.parameters()]))"
   ]
  },
  {
   "cell_type": "code",
   "execution_count": 15,
   "outputs": [],
   "source": [
    "if not C_DEBUG:\n",
    "    # model.load_state_dict(torch.load('./tiny_stories_0.8_epoch.pt'))\n",
    "    print(model)"
   ],
   "metadata": {
    "collapsed": false,
    "ExecuteTime": {
     "end_time": "2023-10-20T18:16:28.910594Z",
     "start_time": "2023-10-20T18:16:28.904402Z"
    }
   },
   "id": "f906aed5"
  },
  {
   "cell_type": "code",
   "execution_count": 16,
   "outputs": [],
   "source": [
    "gc.collect()\n",
    "torch.cuda.empty_cache()"
   ],
   "metadata": {
    "collapsed": false,
    "ExecuteTime": {
     "end_time": "2023-10-20T18:16:29.835435Z",
     "start_time": "2023-10-20T18:16:29.834055Z"
    }
   },
   "id": "dca6004e9b65892c"
  },
  {
   "cell_type": "code",
   "execution_count": 18,
   "id": "eaba00d2720d53e6",
   "metadata": {
    "scrolled": true,
    "ExecuteTime": {
     "end_time": "2023-10-20T18:17:07.518571Z",
     "start_time": "2023-10-20T18:16:49.474833Z"
    }
   },
   "outputs": [
    {
     "name": "stdout",
     "output_type": "stream",
     "text": [
      "Loss:0.017, LR:4e-05, Throughput:5.62 kt/s\n",
      "Loss:0.016, LR:6.8948e-05, Throughput:4.19 kt/s\n",
      "Loss:0.015, LR:0.0001523, Throughput:6.1 kt/s\n",
      "Loss:0.013, LR:0.00028, Throughput:6.18 kt/s\n",
      "Loss:0.011, LR:0.00043665, Throughput:6.37 kt/s\n",
      "Loss:0.011, LR:0.00060335, Throughput:5.64 kt/s\n",
      "Loss:0.009, LR:0.00076, Throughput:6.36 kt/s\n",
      "Loss:0.005, LR:0.0008877, Throughput:4.56 kt/s\n",
      "Loss:0.005, LR:0.00097105, Throughput:6.24 kt/s\n",
      "Loss:0.005, LR:0.001, Throughput:6.29 kt/s\n",
      "Loss:0.004, LR:0.0009997, Throughput:6.38 kt/s\n",
      "Loss:0.005, LR:0.00099879, Throughput:5.67 kt/s\n",
      "Loss:0.003, LR:0.00099727, Throughput:6.42 kt/s\n",
      "Loss:0.011, LR:0.00099515, Throughput:4.99 kt/s\n",
      "Loss:0.011, LR:0.00099243, Throughput:6.32 kt/s\n",
      "Loss:0.017, LR:0.00098912, Throughput:5.25 kt/s\n",
      "Loss:0.012, LR:0.00098521, Throughput:6.22 kt/s\n",
      "Loss:0.014, LR:0.00098071, Throughput:6.15 kt/s\n",
      "Loss:0.006, LR:0.00097563, Throughput:6.31 kt/s\n",
      "Loss:0.014, LR:0.00096997, Throughput:5.23 kt/s\n",
      "Loss:0.007, LR:0.00096374, Throughput:6.46 kt/s\n",
      "Loss:0.005, LR:0.00095695, Throughput:6.4 kt/s\n",
      "Loss:0.005, LR:0.0009496, Throughput:6.38 kt/s\n",
      "Loss:0.005, LR:0.00094171, Throughput:4.45 kt/s\n",
      "Loss:0.004, LR:0.00093328, Throughput:6.38 kt/s\n",
      "Loss:0.003, LR:0.00092433, Throughput:5.85 kt/s\n",
      "Loss:0.003, LR:0.00091486, Throughput:6.43 kt/s\n",
      "Loss:0.003, LR:0.00090489, Throughput:5.43 kt/s\n",
      "Loss:0.003, LR:0.00089443, Throughput:6.5 kt/s\n",
      "Loss:0.002, LR:0.00088349, Throughput:5.42 kt/s\n",
      "Loss:0.002, LR:0.00087209, Throughput:6.41 kt/s\n",
      "Loss:0.002, LR:0.00086023, Throughput:4.98 kt/s\n",
      "Loss:0.002, LR:0.00084794, Throughput:6.41 kt/s\n",
      "Loss:0.002, LR:0.00083523, Throughput:4.92 kt/s\n",
      "Loss:0.002, LR:0.00082211, Throughput:6.45 kt/s\n",
      "Loss:0.002, LR:0.0008086, Throughput:5.62 kt/s\n",
      "Loss:0.002, LR:0.00079472, Throughput:6.36 kt/s\n",
      "Loss:0.002, LR:0.00078048, Throughput:4.33 kt/s\n",
      "Loss:0.002, LR:0.0007659, Throughput:6.4 kt/s\n",
      "Loss:0.002, LR:0.000751, Throughput:6.32 kt/s\n",
      "Loss:0.002, LR:0.0007358, Throughput:6.41 kt/s\n",
      "Loss:0.002, LR:0.00072031, Throughput:5.42 kt/s\n",
      "Loss:0.002, LR:0.00070455, Throughput:6.28 kt/s\n",
      "Loss:0.002, LR:0.00068855, Throughput:4.94 kt/s\n",
      "Loss:0.002, LR:0.00067233, Throughput:6.34 kt/s\n",
      "Loss:0.002, LR:0.00065589, Throughput:5.0 kt/s\n",
      "Loss:0.002, LR:0.00063927, Throughput:6.4 kt/s\n",
      "Loss:0.002, LR:0.00062248, Throughput:4.97 kt/s\n",
      "Loss:0.002, LR:0.00060554, Throughput:6.39 kt/s\n",
      "Loss:0.002, LR:0.00058848, Throughput:5.97 kt/s\n",
      "Loss:0.002, LR:0.00057131, Throughput:6.27 kt/s\n",
      "Loss:0.002, LR:0.00055406, Throughput:5.68 kt/s\n",
      "Loss:0.002, LR:0.00053674, Throughput:6.29 kt/s\n",
      "Loss:0.002, LR:0.00051938, Throughput:5.31 kt/s\n",
      "Loss:0.002, LR:0.000502, Throughput:6.06 kt/s\n",
      "Loss:0.002, LR:0.00048462, Throughput:4.88 kt/s\n",
      "Loss:0.002, LR:0.00046726, Throughput:6.17 kt/s\n",
      "Loss:0.002, LR:0.00044994, Throughput:4.87 kt/s\n",
      "Loss:0.001, LR:0.00043269, Throughput:6.32 kt/s\n",
      "Loss:0.001, LR:0.00041552, Throughput:6.19 kt/s\n",
      "Loss:0.001, LR:0.00039846, Throughput:6.3 kt/s\n",
      "Loss:0.001, LR:0.00038152, Throughput:4.63 kt/s\n",
      "Loss:0.001, LR:0.00036473, Throughput:6.23 kt/s\n",
      "Loss:0.001, LR:0.00034811, Throughput:6.02 kt/s\n",
      "Loss:0.001, LR:0.00033167, Throughput:6.36 kt/s\n",
      "Loss:0.001, LR:0.00031545, Throughput:4.53 kt/s\n",
      "Loss:0.001, LR:0.00029945, Throughput:6.37 kt/s\n",
      "Loss:0.001, LR:0.00028369, Throughput:5.55 kt/s\n",
      "Loss:0.001, LR:0.0002682, Throughput:6.26 kt/s\n",
      "Loss:0.001, LR:0.000253, Throughput:4.86 kt/s\n",
      "Loss:0.001, LR:0.0002381, Throughput:6.22 kt/s\n",
      "Loss:0.001, LR:0.00022352, Throughput:4.81 kt/s\n",
      "Loss:0.001, LR:0.00020928, Throughput:6.35 kt/s\n",
      "Loss:0.001, LR:0.0001954, Throughput:4.86 kt/s\n",
      "Loss:0.001, LR:0.00018189, Throughput:6.33 kt/s\n",
      "Loss:0.001, LR:0.00016877, Throughput:5.06 kt/s\n",
      "Loss:0.001, LR:0.00015606, Throughput:6.41 kt/s\n",
      "Loss:0.001, LR:0.00014377, Throughput:4.7 kt/s\n",
      "Loss:0.001, LR:0.00013191, Throughput:5.92 kt/s\n",
      "Loss:0.001, LR:0.00012051, Throughput:6.09 kt/s\n",
      "Loss:0.001, LR:0.00010957, Throughput:5.95 kt/s\n",
      "Loss:0.001, LR:9.911e-05, Throughput:3.31 kt/s\n",
      "Loss:0.001, LR:8.9139e-05, Throughput:4.33 kt/s\n",
      "Loss:0.001, LR:7.9672e-05, Throughput:6.27 kt/s\n",
      "Loss:0.001, LR:7.0719e-05, Throughput:5.8 kt/s\n",
      "Loss:0.001, LR:6.2292e-05, Throughput:6.2 kt/s\n",
      "Loss:0.001, LR:5.4401e-05, Throughput:3.97 kt/s\n",
      "Loss:0.001, LR:4.7054e-05, Throughput:4.58 kt/s\n",
      "Loss:0.001, LR:4.0262e-05, Throughput:5.98 kt/s\n",
      "Loss:0.001, LR:3.4033e-05, Throughput:6.0 kt/s\n",
      "Loss:0.001, LR:2.8374e-05, Throughput:5.75 kt/s\n",
      "Loss:0.001, LR:2.3292e-05, Throughput:5.85 kt/s\n",
      "Loss:0.001, LR:1.8793e-05, Throughput:5.88 kt/s\n",
      "Loss:0.001, LR:1.4882e-05, Throughput:6.22 kt/s\n",
      "Loss:0.001, LR:1.1566e-05, Throughput:6.4 kt/s\n",
      "Loss:0.001, LR:8.8465e-06, Throughput:5.09 kt/s\n",
      "Loss:0.001, LR:6.7281e-06, Throughput:5.96 kt/s\n",
      "Loss:0.001, LR:5.2131e-06, Throughput:4.56 kt/s\n",
      "Loss:0.001, LR:4.3034e-06, Throughput:6.12 kt/s\n",
      "Loss:0.001, LR:4e-06, Throughput:5.97 kt/s\n"
     ]
    }
   ],
   "source": [
    "def train_model(model, num_epochs, batch_size, max_lr, min_lr, warmup_ratio,\n",
    "                token_ids, position_ids, attn_masks, loss_masks, show_progress=True):\n",
    "    optimizer = torch.optim.AdamW(model.parameters(), lr=max_lr)\n",
    "    scheduler = torch.optim.lr_scheduler.OneCycleLR(optimizer, max_lr=max_lr,\n",
    "                                                    total_steps=(len(token_ids) // batch_size + 1) * num_epochs,\n",
    "                                                    final_div_factor=max_lr / min_lr, pct_start=warmup_ratio)\n",
    "\n",
    "    model.train()\n",
    "    for epoch_num in range(num_epochs):\n",
    "        batches = tqdm.tqdm(list(range(0, len(token_ids), batch_size)), desc=f'Epoch {epoch_num}', disable=not show_progress)\n",
    "        for batch_i in batches:\n",
    "            step_start_time = time.time()\n",
    "\n",
    "            inputs = token_ids[batch_i:batch_i + batch_size, :-1].to(model.device)\n",
    "            labels = token_ids[batch_i:batch_i + batch_size, 1:].to(model.device)\n",
    "\n",
    "            positions = position_ids[batch_i:batch_i + batch_size, :-1].to(model.device) if position_ids is not None else None\n",
    "            attn_mask = attn_masks[batch_i:batch_i + batch_size, :-1].to(model.device) if attn_masks is not None else None\n",
    "            loss_mask = loss_masks[batch_i:batch_i + batch_size, 1:] if loss_masks is not None else None\n",
    "\n",
    "            logits, kv_state = model.forward(inputs, position_ids=positions, attn_mask=attn_mask)\n",
    "\n",
    "            probs = torch.softmax(logits, dim=2).view(-1, logits.shape[-1])\n",
    "\n",
    "            loss = (-torch.log(probs[torch.arange(probs.shape[0]), labels.reshape(-1)]))\n",
    "            if loss_mask is not None:\n",
    "                loss = (loss * loss_mask.reshape(-1)).mean()\n",
    "            else:\n",
    "                loss = loss.mean()\n",
    "\n",
    "            optimizer.zero_grad()\n",
    "            loss.backward()\n",
    "            optimizer.step()\n",
    "\n",
    "            step_time_cost = time.time() - step_start_time\n",
    "            throughput = round(probs.shape[0] / step_time_cost / 1000, 2)\n",
    "\n",
    "            step_stat = {'Loss': f'{loss.item():.3f}',\n",
    "                         'LR': f'{scheduler.get_last_lr()[0]:.5}',\n",
    "                         'Throughput': f'{throughput} kt/s'}\n",
    "\n",
    "            if show_progress:\n",
    "                batches.set_postfix(step_stat)\n",
    "            else:\n",
    "                print(', '.join(f'{s[0]}:{s[1]}' for s in step_stat.items()))\n",
    "\n",
    "            scheduler.step()\n",
    "        batches.close()\n",
    "\n",
    "\n",
    "if C_DEBUG:\n",
    "    train_model(debug_model, num_epochs=100, batch_size=128, max_lr=1e-3, min_lr=1e-4,\n",
    "                warmup_ratio=0.1,\n",
    "                token_ids=debug_seq, position_ids=None, attn_masks=None, loss_masks=None,\n",
    "                show_progress=False)\n",
    "else:\n",
    "    train_model(model, num_epochs=1, batch_size=16 * 4, max_lr=1e-3, min_lr=1e-4,\n",
    "                warmup_ratio=0.1,\n",
    "                token_ids=token_ids, position_ids=position_ids, attn_masks=None, loss_masks=None,\n",
    "                show_progress=True)"
   ]
  },
  {
   "cell_type": "code",
   "execution_count": 19,
   "id": "2e800403549c98d2",
   "metadata": {
    "ExecuteTime": {
     "end_time": "2023-10-20T18:17:07.524786Z",
     "start_time": "2023-10-20T18:17:07.519095Z"
    }
   },
   "outputs": [],
   "source": [
    "def generate(model, tokenizer, prompt, temperature, top_p, rep_penalty,\n",
    "             max_new_tokens=20, total_tokens=None,\n",
    "             end_tokens=None,\n",
    "             enable_kv_cache=True):\n",
    "    model.eval()\n",
    "\n",
    "    feed_tokens = tokenizer.encode(prompt)\n",
    "    all_tokens = feed_tokens.copy()\n",
    "    if total_tokens is not None:\n",
    "        max_new_tokens = max(0, total_tokens - len(feed_tokens))\n",
    "\n",
    "    with torch.no_grad():\n",
    "        kv_cache = None\n",
    "        for _ in range(max_new_tokens):\n",
    "            position_ids = None if kv_cache is None else torch.tensor([[len(all_tokens) - 1]]).to(model.device)\n",
    "            logits, kv_cache = model.forward(\n",
    "                torch.tensor([feed_tokens if enable_kv_cache else all_tokens]).to(model.device),\n",
    "                position_ids=position_ids,\n",
    "                kv_cache=kv_cache)\n",
    "            logits = logits[0][-1].cpu()\n",
    "            if not enable_kv_cache:\n",
    "                kv_cache = None\n",
    "\n",
    "            # apply repetition penalty\n",
    "            logits_rep = torch.gather(logits, 0, torch.tensor(all_tokens))\n",
    "            logits_rep = torch.where(logits_rep < 0, logits_rep * rep_penalty, logits_rep / rep_penalty)\n",
    "            logits.scatter_(0, torch.tensor(all_tokens), logits_rep)\n",
    "\n",
    "            # apply temperature\n",
    "            logits /= max(temperature, 1e-6)\n",
    "\n",
    "            probs = torch.softmax(logits, dim=0)\n",
    "\n",
    "            # apply top-p\n",
    "            ordered_probs, ordered_indices = torch.sort(probs, descending=True)\n",
    "            cum_probs = torch.cumsum(ordered_probs, dim=0).tolist()\n",
    "            top_p_index = bisect.bisect_right(cum_probs, top_p) + 1\n",
    "            ordered_probs, ordered_indices = ordered_probs[:top_p_index], ordered_indices[:top_p_index]\n",
    "            sampled_index = ordered_indices[torch.multinomial(ordered_probs, num_samples=1).item()].item()\n",
    "\n",
    "            all_tokens.append(sampled_index)\n",
    "            feed_tokens = [sampled_index]\n",
    "\n",
    "            if end_tokens is not None and sampled_index in end_tokens:\n",
    "                break\n",
    "\n",
    "    return tokenizer.decode(all_tokens)"
   ]
  },
  {
   "cell_type": "code",
   "execution_count": 22,
   "outputs": [
    {
     "name": "stdout",
     "output_type": "stream",
     "text": [
      "'u don\\'t have to be scared of the loud dog, I\\'ll protect you\". The mole felt so safe with the little girl. She was very kind and the mole soon came to trust her. He leaned against her and she kept him safe. The mole had found his best friend.\\n<|endoftext|>\\nOnce upon a time, in a warm and sunny place, there was a big pit. A little boy named Tom liked to play near the pit. One day, Tom lost his red ball. He was very sad.\\nTom asked his friend, Sam'\n"
     ]
    }
   ],
   "source": [
    "print(repr(tokenizer.decode(debug_seq[0].tolist())))"
   ],
   "metadata": {
    "collapsed": false,
    "ExecuteTime": {
     "end_time": "2023-10-20T18:17:17.131456Z",
     "start_time": "2023-10-20T18:17:17.128619Z"
    }
   },
   "id": "f94c17f13926df4a"
  },
  {
   "cell_type": "code",
   "execution_count": 25,
   "id": "1bc924753b5acfc5",
   "metadata": {
    "ExecuteTime": {
     "end_time": "2023-10-20T18:17:35.909507Z",
     "start_time": "2023-10-20T18:17:35.318834Z"
    }
   },
   "outputs": [
    {
     "name": "stdout",
     "output_type": "stream",
     "text": [
      "'u don\\'t have to be scared of the loud dog, I\\'ll protect you\". The mole felt so safe with the little girl. She was very kind and the mole soon came to trust her. He leaned against her and she kept him safe. The mole had found his best friend.\\n<|endoftext|>\\nOnce upon a time, in a warm and sunny place, there was a big pit. A little boy named Tom liked to play near the pit. One day, Tom lost his red ball. He was very sad.\\nTom asked his friend, Sam'\n",
      "0.590 sec(s)\n"
     ]
    }
   ],
   "source": [
    "a = time.time()\n",
    "result = generate(debug_model, tokenizer, 'u',\n",
    "                  temperature=1.0, top_p=0.001, rep_penalty=1.0,\n",
    "                  total_tokens=128,\n",
    "                  end_tokens=tokenizer.encode('</s>'),\n",
    "                  enable_kv_cache=True)\n",
    "print(repr(result))\n",
    "print(f'{time.time() - a:.3f} sec(s)')"
   ]
  },
  {
   "cell_type": "code",
   "execution_count": null,
   "outputs": [],
   "source": [],
   "metadata": {
    "collapsed": false
   },
   "id": "ba9e208573ba7f7f"
  },
  {
   "cell_type": "code",
   "execution_count": null,
   "outputs": [],
   "source": [
    "    "
   ],
   "metadata": {
    "collapsed": false
   },
   "id": "4b2cf0d365c438ae"
  }
 ],
 "metadata": {
  "kernelspec": {
   "display_name": "Python 3 (ipykernel)",
   "language": "python",
   "name": "python3"
  },
  "language_info": {
   "codemirror_mode": {
    "name": "ipython",
    "version": 3
   },
   "file_extension": ".py",
   "mimetype": "text/x-python",
   "name": "python",
   "nbconvert_exporter": "python",
   "pygments_lexer": "ipython3",
   "version": "3.10.12"
  }
 },
 "nbformat": 4,
 "nbformat_minor": 5
}
